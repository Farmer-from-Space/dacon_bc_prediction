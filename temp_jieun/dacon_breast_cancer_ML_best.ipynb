{
 "cells": [
  {
   "cell_type": "markdown",
   "metadata": {
    "id": "GU1j-kphkdFt"
   },
   "source": [
    "# 데이터 다운로드"
   ]
  },
  {
   "cell_type": "code",
   "execution_count": null,
   "metadata": {
    "id": "9GUtL07zPl2E"
   },
   "outputs": [],
   "source": [
    "# 용량 문제로 케글에서는 압축해제 불가\n",
    "!wget --load-cookies ~/cookies.txt \"https://docs.google.com/uc?export=download&confirm=$(wget --quiet --save-cookies ~/cookies.txt --keep-session-cookies --no-check-certificate 'https://docs.google.com/uc?export=download&id=1JxLLEBlwt8qtEOpxMSHAKRYapU7ycDaJ' -O- | sed -rn 's/.*confirm=([0-9A-Za-z_]+).*/\\1\\n/p')&id=1JxLLEBlwt8qtEOpxMSHAKRYapU7ycDaJ\" -O open.zip && rm -rf ~/cookies.txt\n",
    "!mkdir data\n",
    "!unzip open.zip -d data\n",
    "!rm open.zip"
   ]
  },
  {
   "cell_type": "markdown",
   "metadata": {
    "id": "RVGYah7mKB0b"
   },
   "source": [
    "# load"
   ]
  },
  {
   "cell_type": "code",
   "execution_count": 2,
   "metadata": {
    "id": "55xztXvoKRdb"
   },
   "outputs": [],
   "source": [
    "import random\n",
    "import pandas as pd\n",
    "import numpy as np\n",
    "import matplotlib.pyplot as plt\n",
    "import seaborn as sns\n",
    "import os\n",
    "import cv2\n",
    "\n",
    "from sklearn import metrics\n",
    "from sklearn.preprocessing import StandardScaler, LabelEncoder, OneHotEncoder\n",
    "\n",
    "from sklearn.model_selection import train_test_split\n",
    "from sklearn.model_selection import StratifiedKFold, KFold, RepeatedKFold, GroupKFold, GridSearchCV, train_test_split, TimeSeriesSplit\n",
    "\n",
    "import warnings\n",
    "warnings.filterwarnings(action='ignore') "
   ]
  },
  {
   "cell_type": "code",
   "execution_count": 3,
   "metadata": {
    "id": "_MCUPHCa0Q41"
   },
   "outputs": [],
   "source": [
    "base = '/Users/krc/Downloads/tabluer_imgfeature_ratio/'"
   ]
  },
  {
   "cell_type": "code",
   "execution_count": 4,
   "metadata": {
    "id": "a62c78cd-4f40-4e98-b8a6-1b6f1d906b4d"
   },
   "outputs": [],
   "source": [
    "train_df = pd.read_csv(base + 'train+imgf.csv') # gleason score weights 5\n",
    "test_df = pd.read_csv(base + 'test+imgf.csv') \n",
    "# train_df = pd.read_csv(base + 'train+imgf2.csv') # just feature extract 10\n",
    "# test_df = pd.read_csv(base + 'test+imgf2.csv')\n",
    "\n",
    "train_ratio = pd.read_csv(base + 'train_ratio2.csv') # ratio from whole image\n",
    "test_ratio = pd.read_csv(base + 'test_ratio2.csv')\n",
    "\n",
    "#train_ratio = pd.read_csv(base + 'train_ratio.csv') # ratio from cropped image\n",
    "#test_ratio = pd.read_csv(base + 'test_ratio.csv')\n",
    "#train_df = pd.read_csv(base + 'train.csv')\n",
    "#test_df = pd.read_csv(base + 'test.csv')"
   ]
  },
  {
   "cell_type": "code",
   "execution_count": 5,
   "metadata": {
    "id": "XQAMgvSLXdmD"
   },
   "outputs": [],
   "source": [
    "train_ratio['path'] = train_ratio['path'].str.replace('.png', '')\n",
    "train_ratio.columns = ['ID', 'ratio']\n",
    "train_df = pd.merge(train_df, train_ratio)\n",
    "\n",
    "test_ratio['path'] = test_ratio['path'].str.replace('.png', '')\n",
    "test_ratio.columns = ['ID', 'ratio']\n",
    "test_df = pd.merge(test_df, test_ratio)"
   ]
  },
  {
   "cell_type": "code",
   "execution_count": 6,
   "metadata": {},
   "outputs": [
    {
     "data": {
      "text/html": [
       "<div>\n",
       "<style scoped>\n",
       "    .dataframe tbody tr th:only-of-type {\n",
       "        vertical-align: middle;\n",
       "    }\n",
       "\n",
       "    .dataframe tbody tr th {\n",
       "        vertical-align: top;\n",
       "    }\n",
       "\n",
       "    .dataframe thead th {\n",
       "        text-align: right;\n",
       "    }\n",
       "</style>\n",
       "<table border=\"1\" class=\"dataframe\">\n",
       "  <thead>\n",
       "    <tr style=\"text-align: right;\">\n",
       "      <th></th>\n",
       "      <th>ID</th>\n",
       "      <th>img_path</th>\n",
       "      <th>mask_path</th>\n",
       "      <th>나이</th>\n",
       "      <th>수술연월일</th>\n",
       "      <th>진단명</th>\n",
       "      <th>암의 위치</th>\n",
       "      <th>암의 개수</th>\n",
       "      <th>암의 장경</th>\n",
       "      <th>NG</th>\n",
       "      <th>...</th>\n",
       "      <th>HER2_SISH</th>\n",
       "      <th>HER2_SISH_ratio</th>\n",
       "      <th>BRCA_mutation</th>\n",
       "      <th>N_category</th>\n",
       "      <th>img_feature1</th>\n",
       "      <th>img_feature2</th>\n",
       "      <th>img_feature3</th>\n",
       "      <th>img_feature4</th>\n",
       "      <th>img_feature5</th>\n",
       "      <th>ratio</th>\n",
       "    </tr>\n",
       "  </thead>\n",
       "  <tbody>\n",
       "    <tr>\n",
       "      <th>0</th>\n",
       "      <td>BC_01_0001</td>\n",
       "      <td>./train_imgs/BC_01_0001.png</td>\n",
       "      <td>-</td>\n",
       "      <td>63</td>\n",
       "      <td>2015-10-23</td>\n",
       "      <td>1</td>\n",
       "      <td>2</td>\n",
       "      <td>1</td>\n",
       "      <td>19.0</td>\n",
       "      <td>2.0</td>\n",
       "      <td>...</td>\n",
       "      <td>NaN</td>\n",
       "      <td>NaN</td>\n",
       "      <td>NaN</td>\n",
       "      <td>0</td>\n",
       "      <td>0.004472</td>\n",
       "      <td>0.000065</td>\n",
       "      <td>0.000948</td>\n",
       "      <td>0.000169</td>\n",
       "      <td>0.043030</td>\n",
       "      <td>0.223823</td>\n",
       "    </tr>\n",
       "    <tr>\n",
       "      <th>1</th>\n",
       "      <td>BC_01_0002</td>\n",
       "      <td>./train_imgs/BC_01_0002.png</td>\n",
       "      <td>-</td>\n",
       "      <td>51</td>\n",
       "      <td>2015-10-28</td>\n",
       "      <td>1</td>\n",
       "      <td>1</td>\n",
       "      <td>1</td>\n",
       "      <td>22.0</td>\n",
       "      <td>3.0</td>\n",
       "      <td>...</td>\n",
       "      <td>NaN</td>\n",
       "      <td>NaN</td>\n",
       "      <td>NaN</td>\n",
       "      <td>1</td>\n",
       "      <td>0.004062</td>\n",
       "      <td>0.000334</td>\n",
       "      <td>0.002791</td>\n",
       "      <td>0.001100</td>\n",
       "      <td>0.046014</td>\n",
       "      <td>0.103199</td>\n",
       "    </tr>\n",
       "    <tr>\n",
       "      <th>2</th>\n",
       "      <td>BC_01_0003</td>\n",
       "      <td>./train_imgs/BC_01_0003.png</td>\n",
       "      <td>-</td>\n",
       "      <td>37</td>\n",
       "      <td>2015-10-29</td>\n",
       "      <td>1</td>\n",
       "      <td>2</td>\n",
       "      <td>1</td>\n",
       "      <td>NaN</td>\n",
       "      <td>2.0</td>\n",
       "      <td>...</td>\n",
       "      <td>NaN</td>\n",
       "      <td>NaN</td>\n",
       "      <td>0.0</td>\n",
       "      <td>0</td>\n",
       "      <td>0.048549</td>\n",
       "      <td>0.000922</td>\n",
       "      <td>0.004332</td>\n",
       "      <td>0.000008</td>\n",
       "      <td>0.000284</td>\n",
       "      <td>0.110550</td>\n",
       "    </tr>\n",
       "    <tr>\n",
       "      <th>3</th>\n",
       "      <td>BC_01_0004</td>\n",
       "      <td>./train_imgs/BC_01_0004.png</td>\n",
       "      <td>-</td>\n",
       "      <td>54</td>\n",
       "      <td>2016-03-08</td>\n",
       "      <td>1</td>\n",
       "      <td>2</td>\n",
       "      <td>1</td>\n",
       "      <td>0.0</td>\n",
       "      <td>3.0</td>\n",
       "      <td>...</td>\n",
       "      <td>NaN</td>\n",
       "      <td>NaN</td>\n",
       "      <td>NaN</td>\n",
       "      <td>0</td>\n",
       "      <td>0.081638</td>\n",
       "      <td>0.000208</td>\n",
       "      <td>0.001114</td>\n",
       "      <td>0.000039</td>\n",
       "      <td>0.000219</td>\n",
       "      <td>0.465184</td>\n",
       "    </tr>\n",
       "    <tr>\n",
       "      <th>4</th>\n",
       "      <td>BC_01_0005</td>\n",
       "      <td>./train_imgs/BC_01_0005.png</td>\n",
       "      <td>-</td>\n",
       "      <td>57</td>\n",
       "      <td>2015-10-30</td>\n",
       "      <td>1</td>\n",
       "      <td>2</td>\n",
       "      <td>1</td>\n",
       "      <td>8.0</td>\n",
       "      <td>2.0</td>\n",
       "      <td>...</td>\n",
       "      <td>1.0</td>\n",
       "      <td>5.44</td>\n",
       "      <td>NaN</td>\n",
       "      <td>0</td>\n",
       "      <td>0.048623</td>\n",
       "      <td>0.014016</td>\n",
       "      <td>0.077193</td>\n",
       "      <td>0.000926</td>\n",
       "      <td>0.007830</td>\n",
       "      <td>0.154556</td>\n",
       "    </tr>\n",
       "  </tbody>\n",
       "</table>\n",
       "<p>5 rows × 34 columns</p>\n",
       "</div>"
      ],
      "text/plain": [
       "           ID                     img_path mask_path  나이       수술연월일  진단명  \\\n",
       "0  BC_01_0001  ./train_imgs/BC_01_0001.png         -  63  2015-10-23    1   \n",
       "1  BC_01_0002  ./train_imgs/BC_01_0002.png         -  51  2015-10-28    1   \n",
       "2  BC_01_0003  ./train_imgs/BC_01_0003.png         -  37  2015-10-29    1   \n",
       "3  BC_01_0004  ./train_imgs/BC_01_0004.png         -  54  2016-03-08    1   \n",
       "4  BC_01_0005  ./train_imgs/BC_01_0005.png         -  57  2015-10-30    1   \n",
       "\n",
       "   암의 위치  암의 개수  암의 장경   NG  ...  HER2_SISH  HER2_SISH_ratio  BRCA_mutation  \\\n",
       "0      2      1   19.0  2.0  ...        NaN              NaN            NaN   \n",
       "1      1      1   22.0  3.0  ...        NaN              NaN            NaN   \n",
       "2      2      1    NaN  2.0  ...        NaN              NaN            0.0   \n",
       "3      2      1    0.0  3.0  ...        NaN              NaN            NaN   \n",
       "4      2      1    8.0  2.0  ...        1.0             5.44            NaN   \n",
       "\n",
       "   N_category  img_feature1  img_feature2  img_feature3  img_feature4  \\\n",
       "0           0      0.004472      0.000065      0.000948      0.000169   \n",
       "1           1      0.004062      0.000334      0.002791      0.001100   \n",
       "2           0      0.048549      0.000922      0.004332      0.000008   \n",
       "3           0      0.081638      0.000208      0.001114      0.000039   \n",
       "4           0      0.048623      0.014016      0.077193      0.000926   \n",
       "\n",
       "   img_feature5     ratio  \n",
       "0      0.043030  0.223823  \n",
       "1      0.046014  0.103199  \n",
       "2      0.000284  0.110550  \n",
       "3      0.000219  0.465184  \n",
       "4      0.007830  0.154556  \n",
       "\n",
       "[5 rows x 34 columns]"
      ]
     },
     "execution_count": 6,
     "metadata": {},
     "output_type": "execute_result"
    }
   ],
   "source": [
    "train_df.head()"
   ]
  },
  {
   "cell_type": "markdown",
   "metadata": {
    "id": "dQ1kIDJcjx-F"
   },
   "source": [
    "# 전처리"
   ]
  },
  {
   "cell_type": "code",
   "execution_count": 7,
   "metadata": {
    "id": "jgw7HprMKYgs"
   },
   "outputs": [],
   "source": [
    "# 한글 컬럼명 영문으로 변경\n",
    "train_df = train_df.rename(columns={'나이':'age','수술연월일':'date', '진단명':'Diagnosis', '암의 위치':'location', '암의 개수':'count', '암의 장경':'size', 'DCIS_or_LCIS_여부':'DCIS_or_LCIS_existence'}) \n",
    "test_df = test_df.rename(columns={'나이':'age','수술연월일':'date', '진단명':'Diagnosis', '암의 위치':'location', '암의 개수':'count', '암의 장경':'size', 'DCIS_or_LCIS_여부':'DCIS_or_LCIS_existence'}) "
   ]
  },
  {
   "cell_type": "markdown",
   "metadata": {
    "id": "UURyZPID67i5"
   },
   "source": [
    "## feature 변환"
   ]
  },
  {
   "cell_type": "code",
   "execution_count": 8,
   "metadata": {
    "id": "gQa3Ey_l677Q"
   },
   "outputs": [],
   "source": [
    "# date 변환\n",
    "\n",
    "import datetime as dt\n",
    "someday = pd.to_datetime('2000-01-01')\n",
    "train_df['date'] = pd.to_datetime(train_df['date']) - someday\n",
    "train_df['date'] = train_df['date'].dt.days / 1000\n",
    "\n",
    "test_df['date'] = pd.to_datetime(test_df['date']) - someday\n",
    "test_df['date'] = test_df['date'].dt.days / 1000"
   ]
  },
  {
   "cell_type": "code",
   "execution_count": 9,
   "metadata": {
    "id": "fLsINV113lz9"
   },
   "outputs": [],
   "source": [
    "# 0이 의미가 있는 컬럼들은 숫자를 1씩 올려줘서 nan값이 채워지는 0과 구분할수 있게 해줌.\n",
    "\n",
    "train_df['DCIS_or_LCIS_existence'] += 1\n",
    "train_df['ER'] += 1\n",
    "train_df['HER2'] += 1\n",
    "train_df['HER2_IHC'] += 1\n",
    "\n",
    "test_df['DCIS_or_LCIS_existence'] += 1\n",
    "test_df['ER'] += 1\n",
    "test_df['HER2'] += 1\n",
    "test_df['HER2_IHC'] += 1"
   ]
  },
  {
   "cell_type": "markdown",
   "metadata": {
    "id": "cFv2E_91hrPa"
   },
   "source": [
    "## 이상치 제거"
   ]
  },
  {
   "cell_type": "code",
   "execution_count": 10,
   "metadata": {
    "id": "6_ipCa1Ghu2X"
   },
   "outputs": [],
   "source": [
    "# 휴먼에러 제거\n",
    "train_df['PR_Allred_score'].loc[train_df['PR_Allred_score']==23] = 3\n",
    "train_df['PR_Allred_score'].loc[train_df['PR_Allred_score']==54] = 4"
   ]
  },
  {
   "cell_type": "markdown",
   "metadata": {
    "id": "w0zPmzP8kOQg"
   },
   "source": [
    "## 결측치 채우기"
   ]
  },
  {
   "cell_type": "markdown",
   "metadata": {
    "id": "UzW40JW9kLOf"
   },
   "source": [
    "## 컬럼삭제"
   ]
  },
  {
   "cell_type": "markdown",
   "metadata": {
    "id": "zlC61P_XYYh6"
   },
   "source": [
    "## One hot encoding"
   ]
  },
  {
   "cell_type": "code",
   "execution_count": 11,
   "metadata": {
    "id": "R8RY4hjN6cI-"
   },
   "outputs": [],
   "source": [
    "train_df['location_left'] = train_df['location'].apply(lambda x :1 if x==1 else 0)\n",
    "train_df['location_right'] = train_df['location'].apply(lambda x :1 if x==2 else 0)\n",
    "train_df['location_both'] = train_df['location'].apply(lambda x :1 if x==3 else 0)\n",
    "\n",
    "train_df['Diagnosis_ductal'] = train_df['Diagnosis'].apply(lambda x :1 if x==1 else 0)\n",
    "train_df['Diagnosis_lobular'] = train_df['Diagnosis'].apply(lambda x :1 if x==2 else 0)\n",
    "train_df['Diagnosis_mucinous'] = train_df['Diagnosis'].apply(lambda x :1 if x==3 else 0)\n",
    "train_df['Diagnosis_other'] = train_df['Diagnosis'].apply(lambda x :1 if x==4 else 0)\n",
    "\n",
    "test_df['location_left'] = test_df['location'].apply(lambda x :1 if x==1 else 0)\n",
    "test_df['location_right'] = test_df['location'].apply(lambda x :1 if x==2 else 0)\n",
    "test_df['location_both'] = test_df['location'].apply(lambda x :1 if x==3 else 0)\n",
    "\n",
    "test_df['Diagnosis_ductal'] = test_df['Diagnosis'].apply(lambda x :1 if x==1 else 0)\n",
    "test_df['Diagnosis_lobular'] = test_df['Diagnosis'].apply(lambda x :1 if x==2 else 0)\n",
    "test_df['Diagnosis_mucinous'] = test_df['Diagnosis'].apply(lambda x :1 if x==3 else 0)\n",
    "test_df['Diagnosis_other'] = test_df['Diagnosis'].apply(lambda x :1 if x==4 else 0)\n",
    "\n",
    "train_df = train_df.drop(columns = ['location','Diagnosis',])\n",
    "test_df = test_df.drop(columns = ['location','Diagnosis',])"
   ]
  },
  {
   "cell_type": "code",
   "execution_count": 15,
   "metadata": {
    "id": "BHtKeTOmTx45"
   },
   "outputs": [],
   "source": [
    "\n",
    "train_df['KI-67_LI_percent'].loc[(train_df['KI-67_LI_percent'].isnull() == True) & (train_df['T_category']==1)] = train_df['KI-67_LI_percent'].loc[train_df['T_category']==1].median()\n",
    "train_df['KI-67_LI_percent'].loc[(train_df['KI-67_LI_percent'].isnull() == True) & (train_df['T_category']==2)] = train_df['KI-67_LI_percent'].loc[train_df['T_category']==2].median()\n",
    "train_df['KI-67_LI_percent'].loc[(train_df['KI-67_LI_percent'].isnull() == True) & (train_df['T_category']==3)] = train_df['KI-67_LI_percent'].loc[train_df['T_category']==3].median()\n",
    "train_df['KI-67_LI_percent'].loc[(train_df['KI-67_LI_percent'].isnull() == True) & (train_df['T_category']==4)] = train_df['KI-67_LI_percent'].loc[train_df['T_category']==4].median()\n",
    "\n",
    "\n",
    "test_df['KI-67_LI_percent'].loc[(test_df['KI-67_LI_percent'].isnull() == True) & (test_df['T_category']==1)] = train_df['KI-67_LI_percent'].loc[train_df['T_category']==1].median()\n",
    "test_df['KI-67_LI_percent'].loc[(test_df['KI-67_LI_percent'].isnull() == True) & (test_df['T_category']==2)] = train_df['KI-67_LI_percent'].loc[train_df['T_category']==2].median()\n",
    "test_df['KI-67_LI_percent'].loc[(test_df['KI-67_LI_percent'].isnull() == True) & (test_df['T_category']==3)] = train_df['KI-67_LI_percent'].loc[train_df['T_category']==3].median()\n",
    "test_df['KI-67_LI_percent'].loc[(test_df['KI-67_LI_percent'].isnull() == True) & (test_df['T_category']==4)] = train_df['KI-67_LI_percent'].loc[train_df['T_category']==4].median()\n",
    "\n",
    "\n",
    "train_df['size'].loc[(train_df['size'].isnull() == True) & (train_df['T_category']==1)] = train_df['size'].loc[train_df['T_category']==1].median()\n",
    "train_df['size'].loc[(train_df['size'].isnull() == True) & (train_df['T_category']==2)] = train_df['size'].loc[train_df['T_category']==2].median()\n",
    "train_df['size'].loc[(train_df['size'].isnull() == True) & (train_df['T_category']==3)] = train_df['size'].loc[train_df['T_category']==3].median()\n",
    "train_df['size'].loc[(train_df['size'].isnull() == True) & (train_df['T_category']==4)] = train_df['size'].loc[train_df['T_category']==4].median()\n",
    "\n",
    "\n",
    "test_df['size'].loc[(test_df['size'].isnull() == True) & (test_df['T_category']==1)] = train_df['size'].loc[train_df['T_category']==1].median()\n",
    "test_df['size'].loc[(test_df['size'].isnull() == True) & (test_df['T_category']==2)] = train_df['size'].loc[train_df['T_category']==2].median()\n",
    "test_df['size'].loc[(test_df['size'].isnull() == True) & (test_df['T_category']==3)] = train_df['size'].loc[train_df['T_category']==3].median()\n",
    "test_df['size'].loc[(test_df['size'].isnull() == True) & (test_df['T_category']==4)] = train_df['size'].loc[train_df['T_category']==4].median()\n",
    "\n",
    "\n",
    "train_df['PR_Allred_score'].loc[(train_df['PR_Allred_score'].isnull() == True) & (train_df['NG']==1)] = int(train_df['PR_Allred_score'].loc[train_df['NG']==1].mean())\n",
    "train_df['PR_Allred_score'].loc[(train_df['PR_Allred_score'].isnull() == True) & (train_df['NG']==2)] = int(train_df['PR_Allred_score'].loc[train_df['NG']==2].mean())\n",
    "train_df['PR_Allred_score'].loc[(train_df['PR_Allred_score'].isnull() == True) & (train_df['NG']==3)] = int(train_df['PR_Allred_score'].loc[train_df['NG']==3].mean())\n",
    "\n",
    "test_df['PR_Allred_score'].loc[(test_df['PR_Allred_score'].isnull() == True) & (test_df['NG']==1)] = int(train_df['PR_Allred_score'].loc[train_df['NG']==1].mean())\n",
    "test_df['PR_Allred_score'].loc[(test_df['PR_Allred_score'].isnull() == True) & (test_df['NG']==2)] = int(train_df['PR_Allred_score'].loc[train_df['NG']==2].mean())\n",
    "test_df['PR_Allred_score'].loc[(test_df['PR_Allred_score'].isnull() == True) & (test_df['NG']==3)] = int(train_df['PR_Allred_score'].loc[train_df['NG']==3].mean())\n",
    "\n"
   ]
  },
  {
   "cell_type": "code",
   "execution_count": 16,
   "metadata": {
    "id": "vuhIiQO1d3k8"
   },
   "outputs": [],
   "source": [
    "\n",
    "train_df = train_df.fillna(0)\n",
    "test_df = test_df.fillna(0)"
   ]
  },
  {
   "cell_type": "code",
   "execution_count": 17,
   "metadata": {
    "id": "0XcpNDBDrEgP"
   },
   "outputs": [],
   "source": [
    "# 필수삭제 columns\n",
    "\n",
    "train_df = train_df.drop(columns = ['ID','img_path','mask_path'])\n",
    "test_df = test_df.drop(columns = ['ID','img_path'])"
   ]
  },
  {
   "cell_type": "code",
   "execution_count": 18,
   "metadata": {
    "id": "Cu38REXylvR8"
   },
   "outputs": [],
   "source": [
    "train_df = train_df.drop(columns = ['HG_score_2','HER2_SISH','HER2_SISH_ratio','BRCA_mutation',])\n",
    "test_df = test_df.drop(columns = ['HG_score_2','HER2_SISH','HER2_SISH_ratio','BRCA_mutation',])"
   ]
  },
  {
   "cell_type": "markdown",
   "metadata": {
    "id": "cnQfj2Swy0_4"
   },
   "source": [
    "# wandb setting"
   ]
  },
  {
   "cell_type": "code",
   "execution_count": null,
   "metadata": {
    "colab": {
     "base_uri": "https://localhost:8080/"
    },
    "id": "hd81c4GAy4Ko",
    "outputId": "6ebf2fd7-6b7c-4981-df90-9c1bc75e6d69"
   },
   "outputs": [
    {
     "name": "stdout",
     "output_type": "stream",
     "text": [
      "\u001b[K     |████████████████████████████████| 1.9 MB 7.4 MB/s \n",
      "\u001b[K     |████████████████████████████████| 182 kB 68.8 MB/s \n",
      "\u001b[K     |████████████████████████████████| 168 kB 56.2 MB/s \n",
      "\u001b[K     |████████████████████████████████| 62 kB 1.5 MB/s \n",
      "\u001b[K     |████████████████████████████████| 168 kB 66.1 MB/s \n",
      "\u001b[K     |████████████████████████████████| 166 kB 66.6 MB/s \n",
      "\u001b[K     |████████████████████████████████| 166 kB 70.9 MB/s \n",
      "\u001b[K     |████████████████████████████████| 162 kB 67.0 MB/s \n",
      "\u001b[K     |████████████████████████████████| 162 kB 66.0 MB/s \n",
      "\u001b[K     |████████████████████████████████| 158 kB 75.3 MB/s \n",
      "\u001b[K     |████████████████████████████████| 157 kB 73.5 MB/s \n",
      "\u001b[K     |████████████████████████████████| 157 kB 60.3 MB/s \n",
      "\u001b[K     |████████████████████████████████| 157 kB 68.9 MB/s \n",
      "\u001b[K     |████████████████████████████████| 157 kB 71.6 MB/s \n",
      "\u001b[K     |████████████████████████████████| 157 kB 78.2 MB/s \n",
      "\u001b[K     |████████████████████████████████| 157 kB 56.2 MB/s \n",
      "\u001b[K     |████████████████████████████████| 157 kB 70.7 MB/s \n",
      "\u001b[K     |████████████████████████████████| 156 kB 73.2 MB/s \n",
      "\u001b[?25h  Building wheel for pathtools (setup.py) ... \u001b[?25l\u001b[?25hdone\n"
     ]
    }
   ],
   "source": [
    "!pip install wandb -qU"
   ]
  },
  {
   "cell_type": "code",
   "execution_count": 19,
   "metadata": {
    "colab": {
     "base_uri": "https://localhost:8080/",
     "height": 86
    },
    "id": "OUOZ4DOiy9vd",
    "outputId": "646aec60-6f49-4a13-c583-e1a86d20bee1"
   },
   "outputs": [
    {
     "name": "stderr",
     "output_type": "stream",
     "text": [
      "\u001b[34m\u001b[1mwandb\u001b[0m: Currently logged in as: \u001b[33mrumj\u001b[0m. Use \u001b[1m`wandb login --relogin`\u001b[0m to force relogin\n"
     ]
    },
    {
     "data": {
      "text/plain": [
       "True"
      ]
     },
     "execution_count": 19,
     "metadata": {},
     "output_type": "execute_result"
    }
   ],
   "source": [
    "# Log in to your W&B account\n",
    "import wandb\n",
    "wandb.login()"
   ]
  },
  {
   "cell_type": "code",
   "execution_count": 31,
   "metadata": {
    "colab": {
     "base_uri": "https://localhost:8080/",
     "height": 107
    },
    "id": "z7v3wyvdzh4K",
    "outputId": "e8f65df8-1362-4c6f-d450-2c2f71d153d2"
   },
   "outputs": [
    {
     "data": {
      "text/html": [
       "Tracking run with wandb version 0.13.5"
      ],
      "text/plain": [
       "<IPython.core.display.HTML object>"
      ]
     },
     "metadata": {},
     "output_type": "display_data"
    },
    {
     "data": {
      "text/html": [
       "Run data is saved locally in <code>/Users/krc/Documents/breast_dacon/dacon_bc_prediction/wandb/run-20221201_140343-1ny1js8v</code>"
      ],
      "text/plain": [
       "<IPython.core.display.HTML object>"
      ]
     },
     "metadata": {},
     "output_type": "display_data"
    },
    {
     "data": {
      "text/html": [
       "Syncing run <strong><a href=\"https://wandb.ai/rumj/dacon_bc_prediction/runs/1ny1js8v\" target=\"_blank\">random_forest_optuna</a></strong> to <a href=\"https://wandb.ai/rumj/dacon_bc_prediction\" target=\"_blank\">Weights & Biases</a> (<a href=\"https://wandb.me/run\" target=\"_blank\">docs</a>)<br/>"
      ],
      "text/plain": [
       "<IPython.core.display.HTML object>"
      ]
     },
     "metadata": {},
     "output_type": "display_data"
    },
    {
     "data": {
      "text/html": [
       "<button onClick=\"this.nextSibling.style.display='block';this.style.display='none';\">Display W&B run</button><iframe src=\"https://wandb.ai/rumj/dacon_bc_prediction/runs/1ny1js8v?jupyter=true\" style=\"border:none;width:100%;height:420px;display:none;\"></iframe>"
      ],
      "text/plain": [
       "<wandb.sdk.wandb_run.Run at 0x169f2f610>"
      ]
     },
     "execution_count": 31,
     "metadata": {},
     "output_type": "execute_result"
    }
   ],
   "source": [
    "wandb.init(\n",
    "      # Set the project where this run will be logged\n",
    "      project=\"dacon_bc_prediction\", \n",
    "      # We pass a run name (otherwise it’ll be randomly assigned, like sunshine-lollypop-10)\n",
    "      name=\"random_forest_optuna\", \n",
    "      # Track hyperparameters and run metadata\n",
    "      config= {\n",
    "            'n_estimators': 381, 'criterion': 'log_loss', 'max_depth': 96, 'min_samples_leaf': 11, 'min_samples_split': 0.03078858389657667, 'max_leaf_nodes': 42\n",
    "      } )"
   ]
  },
  {
   "cell_type": "markdown",
   "metadata": {
    "id": "cZJP8B5FkCxI"
   },
   "source": [
    "# 결과"
   ]
  },
  {
   "cell_type": "markdown",
   "metadata": {
    "id": "92IL3JA8c7BS"
   },
   "source": [
    "## TEST"
   ]
  },
  {
   "cell_type": "code",
   "execution_count": null,
   "metadata": {
    "id": "v7PysPKh9dCS"
   },
   "outputs": [],
   "source": [
    "from sklearn.linear_model import LogisticRegression\n",
    "from sklearn.metrics import classification_report\n",
    "from sklearn.metrics import accuracy_score"
   ]
  },
  {
   "cell_type": "markdown",
   "metadata": {
    "id": "Lquxra_l1rFm"
   },
   "source": [
    "### XGBoost"
   ]
  },
  {
   "cell_type": "code",
   "execution_count": null,
   "metadata": {
    "colab": {
     "base_uri": "https://localhost:8080/"
    },
    "id": "EMU0Wd9CyZFa",
    "outputId": "72077ad5-5372-4c9f-bd04-c288dd362ea2"
   },
   "outputs": [
    {
     "name": "stdout",
     "output_type": "stream",
     "text": [
      "Looking in indexes: https://pypi.org/simple, https://us-python.pkg.dev/colab-wheels/public/simple/\n",
      "Requirement already satisfied: xgboost in /usr/local/lib/python3.7/dist-packages (0.90)\n",
      "Requirement already satisfied: numpy in /usr/local/lib/python3.7/dist-packages (from xgboost) (1.21.6)\n",
      "Requirement already satisfied: scipy in /usr/local/lib/python3.7/dist-packages (from xgboost) (1.7.3)\n"
     ]
    }
   ],
   "source": [
    "!pip install xgboost"
   ]
  },
  {
   "cell_type": "code",
   "execution_count": null,
   "metadata": {
    "colab": {
     "base_uri": "https://localhost:8080/",
     "height": 433
    },
    "id": "HmVrhoBexfy0",
    "outputId": "5d325962-5c6f-43a9-c9f5-32d14ea8ecaa"
   },
   "outputs": [
    {
     "name": "stdout",
     "output_type": "stream",
     "text": [
      "0.91\n",
      "0.84\n",
      "              precision    recall  f1-score   support\n",
      "\n",
      "           0       0.81      0.89      0.85       100\n",
      "           1       0.88      0.79      0.83       100\n",
      "\n",
      "    accuracy                           0.84       200\n",
      "   macro avg       0.84      0.84      0.84       200\n",
      "weighted avg       0.84      0.84      0.84       200\n",
      "\n"
     ]
    },
    {
     "data": {
      "text/html": [
       "Waiting for W&B process to finish... <strong style=\"color:green\">(success).</strong>"
      ],
      "text/plain": [
       "<IPython.core.display.HTML object>"
      ]
     },
     "metadata": {},
     "output_type": "display_data"
    },
    {
     "data": {
      "text/html": [
       "<style>\n",
       "    table.wandb td:nth-child(1) { padding: 0 10px; text-align: left ; width: auto;} td:nth-child(2) {text-align: left ; width: 100%}\n",
       "    .wandb-row { display: flex; flex-direction: row; flex-wrap: wrap; justify-content: flex-start; width: 100% }\n",
       "    .wandb-col { display: flex; flex-direction: column; flex-basis: 100%; flex: 1; padding: 10px; }\n",
       "    </style>\n",
       "<div class=\"wandb-row\"><div class=\"wandb-col\"><h3>Run history:</h3><br/><table class=\"wandb\"><tr><td>acc</td><td>▁</td></tr><tr><td>model score</td><td>▁</td></tr></table><br/></div><div class=\"wandb-col\"><h3>Run summary:</h3><br/><table class=\"wandb\"><tr><td>acc</td><td>0.84</td></tr><tr><td>model score</td><td>0.91</td></tr></table><br/></div></div>"
      ],
      "text/plain": [
       "<IPython.core.display.HTML object>"
      ]
     },
     "metadata": {},
     "output_type": "display_data"
    },
    {
     "data": {
      "text/html": [
       "Synced <strong style=\"color:#cdcd00\">experiment_xgb</strong>: <a href=\"https://wandb.ai/rumj/dacon_bc_prediction/runs/3e7ufjrj\" target=\"_blank\">https://wandb.ai/rumj/dacon_bc_prediction/runs/3e7ufjrj</a><br/>Synced 5 W&B file(s), 0 media file(s), 0 artifact file(s) and 0 other file(s)"
      ],
      "text/plain": [
       "<IPython.core.display.HTML object>"
      ]
     },
     "metadata": {},
     "output_type": "display_data"
    },
    {
     "data": {
      "text/html": [
       "Find logs at: <code>./wandb/run-20221130_044734-3e7ufjrj/logs</code>"
      ],
      "text/plain": [
       "<IPython.core.display.HTML object>"
      ]
     },
     "metadata": {},
     "output_type": "display_data"
    }
   ],
   "source": [
    "Y = train_df['N_category']\n",
    "X = train_df.drop(columns = ['N_category'])\n",
    "\n",
    "\n",
    "xtest = test_df.iloc[:,:]\n",
    "\n",
    "from sklearn.model_selection import train_test_split\n",
    "xtrain, xval, ytrain, yval = train_test_split(X,Y,test_size=0.20,random_state=41) \n",
    "\n",
    "import xgboost as xgb\n",
    "\n",
    "simple_model = xgb.XGBClassifier(\n",
    "   n_estimators=500,\n",
    "   max_depth=7,\n",
    "   learning_rate=0.05,\n",
    "   subsample=0.9,\n",
    "   #colsample_bytree=0.9,\n",
    "   missing=-999,\n",
    "   random_state=2019,\n",
    "   tree_method='gpu_hist', \n",
    ")\n",
    "simple_model.fit(xtrain, ytrain,eval_set=[(xval,yval)], early_stopping_rounds=50,verbose=False)\n",
    "\n",
    "pred = simple_model.predict(xval)\n",
    "\n",
    "print(simple_model.score(X,Y))\n",
    "print(accuracy_score(pred, yval))\n",
    "print(classification_report(yval, pred))\n",
    "\n",
    "wandb.log({\"model score\": simple_model.score(X,Y), \"acc\": accuracy_score(pred, yval) })\n",
    "\n",
    "# Mark the run as finished\n",
    "wandb.finish()\n",
    "\n",
    "result = simple_model.predict(xtest)"
   ]
  },
  {
   "cell_type": "markdown",
   "metadata": {
    "id": "PDSQEog0gvaY"
   },
   "source": [
    "## 내보내기"
   ]
  },
  {
   "cell_type": "code",
   "execution_count": null,
   "metadata": {
    "id": "FjcCwRO3b7x3"
   },
   "outputs": [],
   "source": [
    "subs = pd.read_csv('/content/drive/MyDrive/Colab Notebooks/sample_submission.csv')"
   ]
  },
  {
   "cell_type": "code",
   "execution_count": null,
   "metadata": {
    "id": "jLJoBxWzlY69"
   },
   "outputs": [],
   "source": [
    "#train_df.to_csv(base+'train_best.csv', index=False)\n",
    "#test_df.to_csv(base+'test_best.csv', index=False)"
   ]
  },
  {
   "cell_type": "code",
   "execution_count": null,
   "metadata": {
    "id": "E-lDO7tNcT0m"
   },
   "outputs": [],
   "source": [
    "subs['N_category'] = result\n",
    "subs.to_csv('/content/drive/MyDrive/Colab Notebooks/submit_smote.csv', index=False)"
   ]
  },
  {
   "cell_type": "code",
   "execution_count": null,
   "metadata": {
    "id": "Xrm25xWWeo2X"
   },
   "outputs": [],
   "source": [
    "subs_smote = subs"
   ]
  },
  {
   "cell_type": "code",
   "execution_count": null,
   "metadata": {
    "colab": {
     "base_uri": "https://localhost:8080/"
    },
    "id": "NIUG12F1fVon",
    "outputId": "f7212524-bbe7-440f-d36a-e280b27041a4"
   },
   "outputs": [
    {
     "data": {
      "text/plain": [
       "0    19\n",
       "1    12\n",
       "Name: 1, dtype: int64"
      ]
     },
     "execution_count": 67,
     "metadata": {},
     "output_type": "execute_result"
    }
   ],
   "source": [
    "compare = pd.concat([subs, subs_smote], axis=1, ignore_index=True).drop(columns=2)\n",
    "compare[compare[1] != compare[3]][1].value_counts()"
   ]
  },
  {
   "cell_type": "code",
   "execution_count": null,
   "metadata": {
    "id": "6nC6dOOOf-xY"
   },
   "outputs": [],
   "source": [
    "isthat_true = pd.read_csv('/content/drive/MyDrive/Colab Notebooks/submit_smote.csv')"
   ]
  },
  {
   "cell_type": "markdown",
   "metadata": {
    "id": "pcfytPHN7oBZ"
   },
   "source": [
    "### SVM"
   ]
  },
  {
   "cell_type": "code",
   "execution_count": null,
   "metadata": {
    "colab": {
     "base_uri": "https://localhost:8080/",
     "height": 90
    },
    "id": "OWOPPl9a7u_B",
    "outputId": "fb6efd95-3e83-4cfa-ee1d-5b207bc66dfe"
   },
   "outputs": [
    {
     "data": {
      "text/html": [
       "Tracking run with wandb version 0.13.5"
      ],
      "text/plain": [
       "<IPython.core.display.HTML object>"
      ]
     },
     "metadata": {},
     "output_type": "display_data"
    },
    {
     "data": {
      "text/html": [
       "Run data is saved locally in <code>/content/wandb/run-20221130_051941-2149vo8t</code>"
      ],
      "text/plain": [
       "<IPython.core.display.HTML object>"
      ]
     },
     "metadata": {},
     "output_type": "display_data"
    },
    {
     "data": {
      "text/html": [
       "Syncing run <strong><a href=\"https://wandb.ai/rumj/dacon_bc_prediction/runs/2149vo8t\" target=\"_blank\">SVM_classifier</a></strong> to <a href=\"https://wandb.ai/rumj/dacon_bc_prediction\" target=\"_blank\">Weights & Biases</a> (<a href=\"https://wandb.me/run\" target=\"_blank\">docs</a>)<br/>"
      ],
      "text/plain": [
       "<IPython.core.display.HTML object>"
      ]
     },
     "metadata": {},
     "output_type": "display_data"
    },
    {
     "data": {
      "text/html": [
       "<button onClick=\"this.nextSibling.style.display='block';this.style.display='none';\">Display W&B run</button><iframe src=\"https://wandb.ai/rumj/dacon_bc_prediction/runs/2149vo8t?jupyter=true\" style=\"border:none;width:100%;height:420px;display:none;\"></iframe>"
      ],
      "text/plain": [
       "<wandb.sdk.wandb_run.Run at 0x7fa1c76ce210>"
      ]
     },
     "execution_count": 23,
     "metadata": {},
     "output_type": "execute_result"
    }
   ],
   "source": [
    "wandb.init(\n",
    "      # Set the project where this run will be logged\n",
    "      project=\"dacon_bc_prediction\", \n",
    "      # We pass a run name (otherwise it’ll be randomly assigned, like sunshine-lollypop-10)\n",
    "      name=\"SVM_classifier\", \n",
    "      # Track hyperparameters and run metadata\n",
    "      config= {\n",
    "            'type':'simple'\n",
    "      } )"
   ]
  },
  {
   "cell_type": "code",
   "execution_count": null,
   "metadata": {
    "colab": {
     "base_uri": "https://localhost:8080/",
     "height": 497,
     "referenced_widgets": [
      "a484e5022115448f836e9771f6ed5774",
      "9febbf51368648b8ad5fe104d08fbaad",
      "54e0f6ff77bf4eccb61b4374b9fab4ae",
      "fb1b52128c4a423cbe0a06b82379fc37",
      "a63f61b78a9340d18eb468d8d620cdf6",
      "626a93119aa44ecc9448fb19e4960c8e",
      "51a1a7947a1a4c1089985ca898331dfe",
      "6bd4acc49fa44d4da404b08d64473d07"
     ]
    },
    "id": "s_7xqYIn7pkx",
    "outputId": "6ee704ca-65cd-421e-9a3a-c100997264ab"
   },
   "outputs": [
    {
     "name": "stdout",
     "output_type": "stream",
     "text": [
      "0.793\n",
      "0.755\n",
      "              precision    recall  f1-score   support\n",
      "\n",
      "           0       0.77      0.76      0.76       100\n",
      "           1       0.76      0.77      0.77       100\n",
      "\n",
      "    accuracy                           0.77       200\n",
      "   macro avg       0.77      0.77      0.76       200\n",
      "weighted avg       0.77      0.77      0.76       200\n",
      "\n"
     ]
    },
    {
     "data": {
      "text/html": [
       "Waiting for W&B process to finish... <strong style=\"color:green\">(success).</strong>"
      ],
      "text/plain": [
       "<IPython.core.display.HTML object>"
      ]
     },
     "metadata": {},
     "output_type": "display_data"
    },
    {
     "data": {
      "application/vnd.jupyter.widget-view+json": {
       "model_id": "a484e5022115448f836e9771f6ed5774",
       "version_major": 2,
       "version_minor": 0
      },
      "text/plain": [
       "VBox(children=(Label(value='0.001 MB of 0.001 MB uploaded (0.000 MB deduped)\\r'), FloatProgress(value=1.0, max…"
      ]
     },
     "metadata": {},
     "output_type": "display_data"
    },
    {
     "data": {
      "text/html": [
       "<style>\n",
       "    table.wandb td:nth-child(1) { padding: 0 10px; text-align: left ; width: auto;} td:nth-child(2) {text-align: left ; width: 100%}\n",
       "    .wandb-row { display: flex; flex-direction: row; flex-wrap: wrap; justify-content: flex-start; width: 100% }\n",
       "    .wandb-col { display: flex; flex-direction: column; flex-basis: 100%; flex: 1; padding: 10px; }\n",
       "    </style>\n",
       "<div class=\"wandb-row\"><div class=\"wandb-col\"><h3>Run history:</h3><br/><table class=\"wandb\"><tr><td>acc</td><td>▁</td></tr><tr><td>model score</td><td>▁</td></tr></table><br/></div><div class=\"wandb-col\"><h3>Run summary:</h3><br/><table class=\"wandb\"><tr><td>acc</td><td>0.755</td></tr><tr><td>model score</td><td>0.793</td></tr></table><br/></div></div>"
      ],
      "text/plain": [
       "<IPython.core.display.HTML object>"
      ]
     },
     "metadata": {},
     "output_type": "display_data"
    },
    {
     "data": {
      "text/html": [
       "Synced <strong style=\"color:#cdcd00\">SVM_classifier</strong>: <a href=\"https://wandb.ai/rumj/dacon_bc_prediction/runs/2149vo8t\" target=\"_blank\">https://wandb.ai/rumj/dacon_bc_prediction/runs/2149vo8t</a><br/>Synced 5 W&B file(s), 0 media file(s), 0 artifact file(s) and 0 other file(s)"
      ],
      "text/plain": [
       "<IPython.core.display.HTML object>"
      ]
     },
     "metadata": {},
     "output_type": "display_data"
    },
    {
     "data": {
      "text/html": [
       "Find logs at: <code>./wandb/run-20221130_051941-2149vo8t/logs</code>"
      ],
      "text/plain": [
       "<IPython.core.display.HTML object>"
      ]
     },
     "metadata": {},
     "output_type": "display_data"
    }
   ],
   "source": [
    "#Import svm model\n",
    "\n",
    "from sklearn import svm\n",
    "\n",
    "\n",
    "Y = train_df['N_category']\n",
    "X = train_df.drop(columns = ['N_category'])\n",
    "\n",
    "\n",
    "xtest = test_df.iloc[:,:]\n",
    "\n",
    "xtrain, xval, ytrain, yval = train_test_split(X,Y,test_size=0.20,random_state=41) \n",
    "\n",
    "#Create a svm Classifier\n",
    "clf = svm.SVC(kernel='linear') # Linear Kernel\n",
    "\n",
    "#Train the model using the training sets\n",
    "clf.fit(xtrain, ytrain)\n",
    "\n",
    "#Predict the response for test dataset\n",
    "y_pred = clf.predict(xval)\n",
    "\n",
    "\n",
    "\n",
    "print(clf.score(X,Y))\n",
    "print(accuracy_score(pred, y_pred))\n",
    "print(classification_report(yval, y_pred))\n",
    "\n",
    "wandb.log({\"model score\": clf.score(X,Y), \"acc\": accuracy_score(pred, y_pred) })\n",
    "\n",
    "# Mark the run as finished\n",
    "wandb.finish()\n",
    "\n",
    "result = clf.predict(xtest)"
   ]
  },
  {
   "cell_type": "markdown",
   "metadata": {
    "id": "CsYm4Ou0TAZm"
   },
   "source": [
    "#### importance plot"
   ]
  },
  {
   "cell_type": "code",
   "execution_count": null,
   "metadata": {
    "colab": {
     "base_uri": "https://localhost:8080/",
     "height": 748
    },
    "id": "KYxJBX98nTuV",
    "outputId": "f407769f-3011-4eb5-e474-cb8597977bab"
   },
   "outputs": [
    {
     "data": {
      "text/plain": [
       "<matplotlib.axes._subplots.AxesSubplot at 0x7f469da008d0>"
      ]
     },
     "execution_count": 36,
     "metadata": {},
     "output_type": "execute_result"
    },
    {
     "data": {
      "image/png": "[encoded data removed]",
      "text/plain": [
       "<Figure size 720x864 with 1 Axes>"
      ]
     },
     "metadata": {},
     "output_type": "display_data"
    }
   ],
   "source": [
    "from xgboost import plot_importance\n",
    "import matplotlib.pyplot as plt\n",
    "\n",
    "fig, ax = plt.subplots(figsize=(10,12))\n",
    "plot_importance(simple_model,ax=ax)"
   ]
  },
  {
   "cell_type": "code",
   "execution_count": null,
   "metadata": {
    "colab": {
     "base_uri": "https://localhost:8080/"
    },
    "id": "meW2kQOA5uW4",
    "outputId": "3492aa33-60d2-4292-cd05-d55d9fb8a3a4"
   },
   "outputs": [
    {
     "name": "stdout",
     "output_type": "stream",
     "text": [
      "1.0\n",
      "0.815\n",
      "              precision    recall  f1-score   support\n",
      "\n",
      "           0       0.78      0.88      0.83       100\n",
      "           1       0.86      0.75      0.80       100\n",
      "\n",
      "    accuracy                           0.81       200\n",
      "   macro avg       0.82      0.81      0.81       200\n",
      "weighted avg       0.82      0.81      0.81       200\n",
      "\n"
     ]
    }
   ],
   "source": [
    "rf_pred = rf.predict(xval)\n",
    "print(rf.score(xtrain,ytrain))\n",
    "print(accuracy_score(np.round(rf_pred), yval))\n",
    "print(classification_report(yval, np.round(rf_pred)))"
   ]
  },
  {
   "cell_type": "markdown",
   "metadata": {
    "id": "d926cgcY_V4C"
   },
   "source": [
    "### optuna trial"
   ]
  },
  {
   "cell_type": "code",
   "execution_count": 27,
   "metadata": {
    "colab": {
     "base_uri": "https://localhost:8080/"
    },
    "id": "x8fikV9J_XCl",
    "outputId": "418864f6-0e3c-4555-a79a-0373a99a7ca0"
   },
   "outputs": [],
   "source": [
    "!pip install --quiet optuna"
   ]
  },
  {
   "cell_type": "code",
   "execution_count": null,
   "metadata": {
    "colab": {
     "base_uri": "https://localhost:8080/"
    },
    "id": "ZSl416xN_aGo",
    "outputId": "273ea6ae-8b71-4fc7-de1f-04862f56dbf3"
   },
   "outputs": [
    {
     "name": "stderr",
     "output_type": "stream",
     "text": [
      "\u001b[32m[I 2022-12-01 03:13:18,292]\u001b[0m A new study created in memory with name: no-name-32e0d3f0-9bb2-4281-92a1-bded266df91f\u001b[0m\n",
      "\u001b[32m[I 2022-12-01 03:13:19,874]\u001b[0m Trial 0 finished with value: 0.775 and parameters: {'C': 149, 'kernel': 'poly'}. Best is trial 0 with value: 0.775.\u001b[0m\n",
      "\u001b[32m[I 2022-12-01 03:13:21,312]\u001b[0m Trial 1 finished with value: 0.7799999999999999 and parameters: {'C': 83, 'kernel': 'poly'}. Best is trial 1 with value: 0.7799999999999999.\u001b[0m\n",
      "\u001b[32m[I 2022-12-01 03:13:24,099]\u001b[0m Trial 2 finished with value: 0.77625 and parameters: {'C': 307, 'kernel': 'poly'}. Best is trial 1 with value: 0.7799999999999999.\u001b[0m\n",
      "\u001b[32m[I 2022-12-01 03:13:24,918]\u001b[0m Trial 3 finished with value: 0.7775 and parameters: {'C': 240, 'kernel': 'rbf'}. Best is trial 1 with value: 0.7799999999999999.\u001b[0m\n",
      "\u001b[32m[I 2022-12-01 03:13:25,717]\u001b[0m Trial 4 finished with value: 0.78 and parameters: {'C': 193, 'kernel': 'rbf'}. Best is trial 4 with value: 0.78.\u001b[0m\n",
      "\u001b[32m[I 2022-12-01 03:13:26,689]\u001b[0m Trial 5 finished with value: 0.77375 and parameters: {'C': 352, 'kernel': 'rbf'}. Best is trial 4 with value: 0.78.\u001b[0m\n",
      "\u001b[32m[I 2022-12-01 03:13:28,855]\u001b[0m Trial 6 finished with value: 0.77375 and parameters: {'C': 233, 'kernel': 'poly'}. Best is trial 4 with value: 0.78.\u001b[0m\n",
      "\u001b[32m[I 2022-12-01 03:13:29,988]\u001b[0m Trial 7 finished with value: 0.7787499999999999 and parameters: {'C': 93, 'kernel': 'poly'}. Best is trial 4 with value: 0.78.\u001b[0m\n",
      "\u001b[32m[I 2022-12-01 03:13:31,072]\u001b[0m Trial 8 finished with value: 0.77125 and parameters: {'C': 464, 'kernel': 'rbf'}. Best is trial 4 with value: 0.78.\u001b[0m\n",
      "\u001b[32m[I 2022-12-01 03:13:32,431]\u001b[0m Trial 9 finished with value: 0.7700000000000001 and parameters: {'C': 414, 'kernel': 'rbf'}. Best is trial 4 with value: 0.78.\u001b[0m\n",
      "\u001b[32m[I 2022-12-01 03:28:49,772]\u001b[0m Trial 10 finished with value: 0.775 and parameters: {'C': 156, 'kernel': 'linear'}. Best is trial 4 with value: 0.78.\u001b[0m\n",
      "\u001b[32m[I 2022-12-01 03:33:21,754]\u001b[0m Trial 11 finished with value: 0.77625 and parameters: {'C': 47, 'kernel': 'linear'}. Best is trial 4 with value: 0.78.\u001b[0m\n",
      "\u001b[32m[I 2022-12-01 03:33:22,273]\u001b[0m Trial 12 finished with value: 0.76625 and parameters: {'C': 15, 'kernel': 'poly'}. Best is trial 4 with value: 0.78.\u001b[0m\n",
      "\u001b[32m[I 2022-12-01 03:33:23,025]\u001b[0m Trial 13 finished with value: 0.77875 and parameters: {'C': 158, 'kernel': 'rbf'}. Best is trial 4 with value: 0.78.\u001b[0m\n",
      "\u001b[32m[I 2022-12-01 03:43:32,018]\u001b[0m Trial 14 finished with value: 0.76875 and parameters: {'C': 90, 'kernel': 'linear'}. Best is trial 4 with value: 0.78.\u001b[0m\n",
      "\u001b[32m[I 2022-12-01 03:43:33,942]\u001b[0m Trial 15 finished with value: 0.775 and parameters: {'C': 202, 'kernel': 'poly'}. Best is trial 4 with value: 0.78.\u001b[0m\n",
      "\u001b[32m[I 2022-12-01 03:43:34,821]\u001b[0m Trial 16 finished with value: 0.7737499999999999 and parameters: {'C': 282, 'kernel': 'rbf'}. Best is trial 4 with value: 0.78.\u001b[0m\n",
      "\u001b[32m[I 2022-12-01 03:43:35,887]\u001b[0m Trial 17 finished with value: 0.7787499999999999 and parameters: {'C': 87, 'kernel': 'poly'}. Best is trial 4 with value: 0.78.\u001b[0m\n",
      "\u001b[32m[I 2022-12-01 03:43:36,666]\u001b[0m Trial 18 finished with value: 0.77875 and parameters: {'C': 188, 'kernel': 'rbf'}. Best is trial 4 with value: 0.78.\u001b[0m\n",
      "\u001b[32m[I 2022-12-01 03:55:02,446]\u001b[0m Trial 19 finished with value: 0.77125 and parameters: {'C': 106, 'kernel': 'linear'}. Best is trial 4 with value: 0.78.\u001b[0m\n",
      "\u001b[32m[I 2022-12-01 03:55:03,035]\u001b[0m Trial 20 finished with value: 0.7525000000000001 and parameters: {'C': 10, 'kernel': 'rbf'}. Best is trial 4 with value: 0.78.\u001b[0m\n",
      "\u001b[32m[I 2022-12-01 03:55:03,797]\u001b[0m Trial 21 finished with value: 0.77875 and parameters: {'C': 186, 'kernel': 'rbf'}. Best is trial 4 with value: 0.78.\u001b[0m\n",
      "\u001b[32m[I 2022-12-01 03:55:04,657]\u001b[0m Trial 22 finished with value: 0.7725000000000001 and parameters: {'C': 296, 'kernel': 'rbf'}. Best is trial 4 with value: 0.78.\u001b[0m\n",
      "\u001b[32m[I 2022-12-01 03:55:05,422]\u001b[0m Trial 23 finished with value: 0.7775000000000001 and parameters: {'C': 203, 'kernel': 'rbf'}. Best is trial 4 with value: 0.78.\u001b[0m\n",
      "\u001b[32m[I 2022-12-01 03:55:06,114]\u001b[0m Trial 24 finished with value: 0.7849999999999999 and parameters: {'C': 130, 'kernel': 'rbf'}. Best is trial 24 with value: 0.7849999999999999.\u001b[0m\n",
      "\u001b[32m[I 2022-12-01 03:55:07,502]\u001b[0m Trial 25 finished with value: 0.775 and parameters: {'C': 134, 'kernel': 'poly'}. Best is trial 24 with value: 0.7849999999999999.\u001b[0m\n",
      "\u001b[32m[I 2022-12-01 03:55:08,111]\u001b[0m Trial 26 finished with value: 0.7737499999999999 and parameters: {'C': 53, 'kernel': 'rbf'}. Best is trial 24 with value: 0.7849999999999999.\u001b[0m\n",
      "\u001b[32m[I 2022-12-01 03:55:08,905]\u001b[0m Trial 27 finished with value: 0.77375 and parameters: {'C': 48, 'kernel': 'poly'}. Best is trial 24 with value: 0.7849999999999999.\u001b[0m\n"
     ]
    }
   ],
   "source": [
    "import optuna\n",
    "\n",
    "import sklearn.ensemble\n",
    "import sklearn.model_selection\n",
    "\n",
    "from sklearn import svm\n",
    "\n",
    "Y = train_df['N_category']\n",
    "X = train_df.drop(columns = ['N_category'])\n",
    "\n",
    "\n",
    "xtest = test_df.iloc[:,:]\n",
    "\n",
    "xtrain, xval, ytrain, yval = train_test_split(X,Y,test_size=0.20,random_state=41) \n",
    "\n",
    "def objective(trial):\n",
    "    # iris = sklearn.datasets.load_iris()\n",
    "    \n",
    "    C = trial.suggest_int('C', 1, 500)\n",
    "    kernel = trial.suggest_categorical('kernel', ['linear', 'poly', 'rbf'])\n",
    "    \n",
    "    clf = svm.SVC(C=C, kernel = kernel, probability= True)\n",
    "    \n",
    "    return sklearn.model_selection.cross_val_score(\n",
    "        clf, xtrain, ytrain).mean()\n",
    "\n",
    "study = optuna.create_study(direction='maximize')\n",
    "study.optimize(objective, n_trials=100)\n",
    "\n",
    "trial = study.best_trial\n",
    "\n",
    "print('Accuracy: {}'.format(trial.value))\n",
    "print(\"Best hyperparameters: {}\".format(trial.params))"
   ]
  },
  {
   "cell_type": "markdown",
   "metadata": {
    "id": "udlClFI_DSON"
   },
   "source": [
    "### random forest"
   ]
  },
  {
   "cell_type": "code",
   "execution_count": 32,
   "metadata": {},
   "outputs": [
    {
     "name": "stdout",
     "output_type": "stream",
     "text": [
      "0.85\n",
      "0.79\n",
      "              precision    recall  f1-score   support\n",
      "\n",
      "           0       0.76      0.85      0.80       100\n",
      "           1       0.83      0.73      0.78       100\n",
      "\n",
      "    accuracy                           0.79       200\n",
      "   macro avg       0.79      0.79      0.79       200\n",
      "weighted avg       0.79      0.79      0.79       200\n",
      "\n"
     ]
    },
    {
     "data": {
      "text/html": [
       "Waiting for W&B process to finish... <strong style=\"color:green\">(success).</strong>"
      ],
      "text/plain": [
       "<IPython.core.display.HTML object>"
      ]
     },
     "metadata": {},
     "output_type": "display_data"
    },
    {
     "data": {
      "application/vnd.jupyter.widget-view+json": {
       "model_id": "28d596d7b63b42e1b469257c5d887436",
       "version_major": 2,
       "version_minor": 0
      },
      "text/plain": [
       "VBox(children=(Label(value='0.001 MB of 0.001 MB uploaded (0.000 MB deduped)\\r'), FloatProgress(value=1.0, max…"
      ]
     },
     "metadata": {},
     "output_type": "display_data"
    },
    {
     "data": {
      "text/html": [
       "<style>\n",
       "    table.wandb td:nth-child(1) { padding: 0 10px; text-align: left ; width: auto;} td:nth-child(2) {text-align: left ; width: 100%}\n",
       "    .wandb-row { display: flex; flex-direction: row; flex-wrap: wrap; justify-content: flex-start; width: 100% }\n",
       "    .wandb-col { display: flex; flex-direction: column; flex-basis: 100%; flex: 1; padding: 10px; }\n",
       "    </style>\n",
       "<div class=\"wandb-row\"><div class=\"wandb-col\"><h3>Run history:</h3><br/><table class=\"wandb\"><tr><td>acc</td><td>▁</td></tr><tr><td>model score</td><td>▁</td></tr></table><br/></div><div class=\"wandb-col\"><h3>Run summary:</h3><br/><table class=\"wandb\"><tr><td>acc</td><td>0.79</td></tr><tr><td>model score</td><td>0.85</td></tr></table><br/></div></div>"
      ],
      "text/plain": [
       "<IPython.core.display.HTML object>"
      ]
     },
     "metadata": {},
     "output_type": "display_data"
    },
    {
     "data": {
      "text/html": [
       "Synced <strong style=\"color:#cdcd00\">random_forest_optuna</strong>: <a href=\"https://wandb.ai/rumj/dacon_bc_prediction/runs/1ny1js8v\" target=\"_blank\">https://wandb.ai/rumj/dacon_bc_prediction/runs/1ny1js8v</a><br/>Synced 6 W&B file(s), 0 media file(s), 0 artifact file(s) and 0 other file(s)"
      ],
      "text/plain": [
       "<IPython.core.display.HTML object>"
      ]
     },
     "metadata": {},
     "output_type": "display_data"
    },
    {
     "data": {
      "text/html": [
       "Find logs at: <code>./wandb/run-20221201_140343-1ny1js8v/logs</code>"
      ],
      "text/plain": [
       "<IPython.core.display.HTML object>"
      ]
     },
     "metadata": {},
     "output_type": "display_data"
    }
   ],
   "source": [
    "Y = train_df['N_category']\n",
    "X = train_df.drop(columns = ['N_category'])\n",
    "\n",
    "\n",
    "xtest = test_df.iloc[:,:]\n",
    "\n",
    "from sklearn.model_selection import train_test_split\n",
    "xtrain, xval, ytrain, yval = train_test_split(X,Y,test_size=0.20,random_state=41) \n",
    "\n",
    "from sklearn.ensemble import RandomForestClassifier\n",
    "from sklearn.metrics import accuracy_score\n",
    "from sklearn.metrics import classification_report\n",
    "\n",
    "clf = RandomForestClassifier(n_estimators = 381, \n",
    "                             criterion = 'log_loss', \n",
    "                             max_depth = 96, \n",
    "                             min_samples_leaf =  11, \n",
    "                             min_samples_split =  0.03078858389657667, \n",
    "                             max_leaf_nodes =  42)\n",
    "clf.fit(xtrain, ytrain)\n",
    "\n",
    "pred = clf.predict(xval)\n",
    "\n",
    "print(clf.score(X,Y))\n",
    "print(accuracy_score(pred, yval))\n",
    "print(classification_report(yval, pred))\n",
    "\n",
    "wandb.log({\"model score\": clf.score(X,Y), \"acc\": accuracy_score(pred, yval) })\n",
    "\n",
    "# Mark the run as finished\n",
    "wandb.finish()\n",
    "\n",
    "result = clf.predict(xtest)"
   ]
  },
  {
   "cell_type": "code",
   "execution_count": 33,
   "metadata": {},
   "outputs": [
    {
     "name": "stderr",
     "output_type": "stream",
     "text": [
      "\u001b[32m[I 2022-12-01 14:05:14,497]\u001b[0m A new study created in memory with name: no-name-071e5b53-7dbe-4c8f-a119-689a54eb4bfc\u001b[0m\n",
      "\u001b[32m[I 2022-12-01 14:05:15,520]\u001b[0m Trial 0 finished with value: 0.7933333333333333 and parameters: {'n_estimators': 351, 'criterion': 'entropy', 'max_depth': 3, 'min_samples_leaf': 6, 'min_samples_split': 0.21761444680498587, 'max_leaf_nodes': 21}. Best is trial 0 with value: 0.7933333333333333.\u001b[0m\n",
      "\u001b[32m[I 2022-12-01 14:05:16,411]\u001b[0m Trial 1 finished with value: 0.5155555555555555 and parameters: {'n_estimators': 433, 'criterion': 'log_loss', 'max_depth': 4, 'min_samples_leaf': 14, 'min_samples_split': 0.6983949670815747, 'max_leaf_nodes': 3}. Best is trial 0 with value: 0.7933333333333333.\u001b[0m\n",
      "\u001b[32m[I 2022-12-01 14:05:16,539]\u001b[0m Trial 2 finished with value: 0.5155555555555555 and parameters: {'n_estimators': 56, 'criterion': 'entropy', 'max_depth': 29, 'min_samples_leaf': 49, 'min_samples_split': 0.9014114008720876, 'max_leaf_nodes': 35}. Best is trial 0 with value: 0.7933333333333333.\u001b[0m\n",
      "\u001b[32m[I 2022-12-01 14:05:17,461]\u001b[0m Trial 3 finished with value: 0.7955555555555556 and parameters: {'n_estimators': 301, 'criterion': 'log_loss', 'max_depth': 54, 'min_samples_leaf': 26, 'min_samples_split': 0.13705200873251022, 'max_leaf_nodes': 43}. Best is trial 3 with value: 0.7955555555555556.\u001b[0m\n",
      "\u001b[32m[I 2022-12-01 14:05:18,347]\u001b[0m Trial 4 finished with value: 0.7844444444444445 and parameters: {'n_estimators': 349, 'criterion': 'entropy', 'max_depth': 46, 'min_samples_leaf': 35, 'min_samples_split': 0.42468336844333976, 'max_leaf_nodes': 49}. Best is trial 3 with value: 0.7955555555555556.\u001b[0m\n",
      "\u001b[32m[I 2022-12-01 14:05:19,211]\u001b[0m Trial 5 finished with value: 0.5155555555555555 and parameters: {'n_estimators': 413, 'criterion': 'entropy', 'max_depth': 8, 'min_samples_leaf': 4, 'min_samples_split': 0.6982500471634143, 'max_leaf_nodes': 30}. Best is trial 3 with value: 0.7955555555555556.\u001b[0m\n",
      "\u001b[32m[I 2022-12-01 14:05:19,536]\u001b[0m Trial 6 finished with value: 0.5155555555555555 and parameters: {'n_estimators': 151, 'criterion': 'entropy', 'max_depth': 50, 'min_samples_leaf': 35, 'min_samples_split': 0.8816711164754527, 'max_leaf_nodes': 40}. Best is trial 3 with value: 0.7955555555555556.\u001b[0m\n",
      "\u001b[32m[I 2022-12-01 14:05:21,000]\u001b[0m Trial 7 finished with value: 0.7966666666666665 and parameters: {'n_estimators': 405, 'criterion': 'entropy', 'max_depth': 61, 'min_samples_leaf': 26, 'min_samples_split': 0.015399699756948326, 'max_leaf_nodes': 15}. Best is trial 7 with value: 0.7966666666666665.\u001b[0m\n",
      "\u001b[32m[I 2022-12-01 14:05:21,220]\u001b[0m Trial 8 finished with value: 0.5155555555555555 and parameters: {'n_estimators': 97, 'criterion': 'gini', 'max_depth': 85, 'min_samples_leaf': 23, 'min_samples_split': 0.8765903485814245, 'max_leaf_nodes': 21}. Best is trial 7 with value: 0.7966666666666665.\u001b[0m\n",
      "\u001b[32m[I 2022-12-01 14:05:21,996]\u001b[0m Trial 9 finished with value: 0.5155555555555555 and parameters: {'n_estimators': 355, 'criterion': 'entropy', 'max_depth': 33, 'min_samples_leaf': 7, 'min_samples_split': 0.9716000190163486, 'max_leaf_nodes': 34}. Best is trial 7 with value: 0.7966666666666665.\u001b[0m\n",
      "\u001b[32m[I 2022-12-01 14:05:22,683]\u001b[0m Trial 10 finished with value: 0.7944444444444445 and parameters: {'n_estimators': 226, 'criterion': 'gini', 'max_depth': 85, 'min_samples_leaf': 50, 'min_samples_split': 0.054555780573173826, 'max_leaf_nodes': 8}. Best is trial 7 with value: 0.7966666666666665.\u001b[0m\n",
      "\u001b[32m[I 2022-12-01 14:05:23,649]\u001b[0m Trial 11 finished with value: 0.8066666666666666 and parameters: {'n_estimators': 259, 'criterion': 'log_loss', 'max_depth': 67, 'min_samples_leaf': 25, 'min_samples_split': 0.021780490475838243, 'max_leaf_nodes': 18}. Best is trial 11 with value: 0.8066666666666666.\u001b[0m\n",
      "\u001b[32m[I 2022-12-01 14:05:25,035]\u001b[0m Trial 12 finished with value: 0.7877777777777778 and parameters: {'n_estimators': 483, 'criterion': 'log_loss', 'max_depth': 69, 'min_samples_leaf': 21, 'min_samples_split': 0.3029953467297112, 'max_leaf_nodes': 14}. Best is trial 11 with value: 0.8066666666666666.\u001b[0m\n",
      "\u001b[32m[I 2022-12-01 14:05:25,778]\u001b[0m Trial 13 finished with value: 0.8011111111111111 and parameters: {'n_estimators': 219, 'criterion': 'log_loss', 'max_depth': 69, 'min_samples_leaf': 33, 'min_samples_split': 0.030240830818701638, 'max_leaf_nodes': 15}. Best is trial 11 with value: 0.8066666666666666.\u001b[0m\n",
      "\u001b[32m[I 2022-12-01 14:05:26,388]\u001b[0m Trial 14 finished with value: 0.7922222222222222 and parameters: {'n_estimators': 217, 'criterion': 'log_loss', 'max_depth': 100, 'min_samples_leaf': 34, 'min_samples_split': 0.34260591196880447, 'max_leaf_nodes': 23}. Best is trial 11 with value: 0.8066666666666666.\u001b[0m\n",
      "\u001b[32m[I 2022-12-01 14:05:26,877]\u001b[0m Trial 15 finished with value: 0.7533333333333333 and parameters: {'n_estimators': 197, 'criterion': 'log_loss', 'max_depth': 74, 'min_samples_leaf': 42, 'min_samples_split': 0.5651433682760666, 'max_leaf_nodes': 13}. Best is trial 11 with value: 0.8066666666666666.\u001b[0m\n",
      "\u001b[32m[I 2022-12-01 14:05:27,662]\u001b[0m Trial 16 finished with value: 0.7855555555555556 and parameters: {'n_estimators': 265, 'criterion': 'log_loss', 'max_depth': 78, 'min_samples_leaf': 16, 'min_samples_split': 0.16682294079458365, 'max_leaf_nodes': 3}. Best is trial 11 with value: 0.8066666666666666.\u001b[0m\n",
      "\u001b[32m[I 2022-12-01 14:05:28,154]\u001b[0m Trial 17 finished with value: 0.8044444444444444 and parameters: {'n_estimators': 146, 'criterion': 'log_loss', 'max_depth': 97, 'min_samples_leaf': 32, 'min_samples_split': 0.016965606193188376, 'max_leaf_nodes': 26}. Best is trial 11 with value: 0.8066666666666666.\u001b[0m\n",
      "\u001b[32m[I 2022-12-01 14:05:28,564]\u001b[0m Trial 18 finished with value: 0.7844444444444444 and parameters: {'n_estimators': 146, 'criterion': 'gini', 'max_depth': 100, 'min_samples_leaf': 42, 'min_samples_split': 0.25522752045227487, 'max_leaf_nodes': 28}. Best is trial 11 with value: 0.8066666666666666.\u001b[0m\n",
      "\u001b[32m[I 2022-12-01 14:05:28,603]\u001b[0m Trial 19 finished with value: 0.768888888888889 and parameters: {'n_estimators': 10, 'criterion': 'log_loss', 'max_depth': 89, 'min_samples_leaf': 29, 'min_samples_split': 0.4822916346947775, 'max_leaf_nodes': 25}. Best is trial 11 with value: 0.8066666666666666.\u001b[0m\n",
      "\u001b[32m[I 2022-12-01 14:05:29,025]\u001b[0m Trial 20 finished with value: 0.7977777777777778 and parameters: {'n_estimators': 128, 'criterion': 'log_loss', 'max_depth': 38, 'min_samples_leaf': 17, 'min_samples_split': 0.1346567512528064, 'max_leaf_nodes': 18}. Best is trial 11 with value: 0.8066666666666666.\u001b[0m\n",
      "\u001b[32m[I 2022-12-01 14:05:29,971]\u001b[0m Trial 21 finished with value: 0.8 and parameters: {'n_estimators': 284, 'criterion': 'log_loss', 'max_depth': 68, 'min_samples_leaf': 31, 'min_samples_split': 0.03268962953417707, 'max_leaf_nodes': 10}. Best is trial 11 with value: 0.8066666666666666.\u001b[0m\n",
      "\u001b[32m[I 2022-12-01 14:05:30,567]\u001b[0m Trial 22 finished with value: 0.7988888888888889 and parameters: {'n_estimators': 186, 'criterion': 'log_loss', 'max_depth': 92, 'min_samples_leaf': 40, 'min_samples_split': 0.07691846948690975, 'max_leaf_nodes': 18}. Best is trial 11 with value: 0.8066666666666666.\u001b[0m\n",
      "\u001b[32m[I 2022-12-01 14:05:31,354]\u001b[0m Trial 23 finished with value: 0.7977777777777778 and parameters: {'n_estimators': 234, 'criterion': 'log_loss', 'max_depth': 77, 'min_samples_leaf': 30, 'min_samples_split': 0.00026689773789379326, 'max_leaf_nodes': 31}. Best is trial 11 with value: 0.8066666666666666.\u001b[0m\n",
      "\u001b[32m[I 2022-12-01 14:05:31,732]\u001b[0m Trial 24 finished with value: 0.7955555555555556 and parameters: {'n_estimators': 96, 'criterion': 'log_loss', 'max_depth': 61, 'min_samples_leaf': 37, 'min_samples_split': 0.12440317229033598, 'max_leaf_nodes': 10}. Best is trial 11 with value: 0.8066666666666666.\u001b[0m\n",
      "\u001b[32m[I 2022-12-01 14:05:32,295]\u001b[0m Trial 25 finished with value: 0.7955555555555556 and parameters: {'n_estimators': 172, 'criterion': 'log_loss', 'max_depth': 19, 'min_samples_leaf': 21, 'min_samples_split': 0.21863169114754225, 'max_leaf_nodes': 26}. Best is trial 11 with value: 0.8066666666666666.\u001b[0m\n",
      "\u001b[32m[I 2022-12-01 14:05:33,131]\u001b[0m Trial 26 finished with value: 0.7855555555555556 and parameters: {'n_estimators': 309, 'criterion': 'gini', 'max_depth': 61, 'min_samples_leaf': 12, 'min_samples_split': 0.38208438171657433, 'max_leaf_nodes': 18}. Best is trial 11 with value: 0.8066666666666666.\u001b[0m\n"
     ]
    },
    {
     "name": "stderr",
     "output_type": "stream",
     "text": [
      "\u001b[32m[I 2022-12-01 14:05:33,951]\u001b[0m Trial 27 finished with value: 0.8022222222222222 and parameters: {'n_estimators': 252, 'criterion': 'log_loss', 'max_depth': 70, 'min_samples_leaf': 31, 'min_samples_split': 0.08443384591950585, 'max_leaf_nodes': 6}. Best is trial 11 with value: 0.8066666666666666.\u001b[0m\n",
      "\u001b[32m[I 2022-12-01 14:05:34,764]\u001b[0m Trial 28 finished with value: 0.7877777777777778 and parameters: {'n_estimators': 256, 'criterion': 'log_loss', 'max_depth': 93, 'min_samples_leaf': 28, 'min_samples_split': 0.19082116902549015, 'max_leaf_nodes': 5}. Best is trial 11 with value: 0.8066666666666666.\u001b[0m\n",
      "\u001b[32m[I 2022-12-01 14:05:35,072]\u001b[0m Trial 29 finished with value: 0.7866666666666667 and parameters: {'n_estimators': 99, 'criterion': 'log_loss', 'max_depth': 80, 'min_samples_leaf': 23, 'min_samples_split': 0.25549054621302897, 'max_leaf_nodes': 7}. Best is trial 11 with value: 0.8066666666666666.\u001b[0m\n",
      "\u001b[32m[I 2022-12-01 14:05:36,075]\u001b[0m Trial 30 finished with value: 0.7966666666666666 and parameters: {'n_estimators': 321, 'criterion': 'gini', 'max_depth': 41, 'min_samples_leaf': 45, 'min_samples_split': 0.11546132404162572, 'max_leaf_nodes': 22}. Best is trial 11 with value: 0.8066666666666666.\u001b[0m\n",
      "\u001b[32m[I 2022-12-01 14:05:36,995]\u001b[0m Trial 31 finished with value: 0.7988888888888889 and parameters: {'n_estimators': 251, 'criterion': 'log_loss', 'max_depth': 68, 'min_samples_leaf': 31, 'min_samples_split': 0.07411641133442387, 'max_leaf_nodes': 12}. Best is trial 11 with value: 0.8066666666666666.\u001b[0m\n",
      "\u001b[32m[I 2022-12-01 14:05:37,666]\u001b[0m Trial 32 finished with value: 0.7988888888888889 and parameters: {'n_estimators': 197, 'criterion': 'log_loss', 'max_depth': 57, 'min_samples_leaf': 33, 'min_samples_split': 0.010132732502806854, 'max_leaf_nodes': 17}. Best is trial 11 with value: 0.8066666666666666.\u001b[0m\n",
      "\u001b[32m[I 2022-12-01 14:05:38,557]\u001b[0m Trial 33 finished with value: 0.792222222222222 and parameters: {'n_estimators': 270, 'criterion': 'log_loss', 'max_depth': 71, 'min_samples_leaf': 37, 'min_samples_split': 0.07605899210693085, 'max_leaf_nodes': 7}. Best is trial 11 with value: 0.8066666666666666.\u001b[0m\n",
      "\u001b[32m[I 2022-12-01 14:05:39,047]\u001b[0m Trial 34 finished with value: 0.7988888888888889 and parameters: {'n_estimators': 160, 'criterion': 'log_loss', 'max_depth': 50, 'min_samples_leaf': 27, 'min_samples_split': 0.23265629977190017, 'max_leaf_nodes': 21}. Best is trial 11 with value: 0.8066666666666666.\u001b[0m\n",
      "\u001b[32m[I 2022-12-01 14:05:39,892]\u001b[0m Trial 35 finished with value: 0.7511111111111111 and parameters: {'n_estimators': 345, 'criterion': 'log_loss', 'max_depth': 83, 'min_samples_leaf': 39, 'min_samples_split': 0.6013172882780962, 'max_leaf_nodes': 2}. Best is trial 11 with value: 0.8066666666666666.\u001b[0m\n",
      "\u001b[32m[I 2022-12-01 14:05:40,538]\u001b[0m Trial 36 finished with value: 0.8011111111111111 and parameters: {'n_estimators': 206, 'criterion': 'log_loss', 'max_depth': 63, 'min_samples_leaf': 24, 'min_samples_split': 0.16545463691845175, 'max_leaf_nodes': 11}. Best is trial 11 with value: 0.8066666666666666.\u001b[0m\n",
      "\u001b[32m[I 2022-12-01 14:05:40,988]\u001b[0m Trial 37 finished with value: 0.8033333333333333 and parameters: {'n_estimators': 127, 'criterion': 'log_loss', 'max_depth': 54, 'min_samples_leaf': 19, 'min_samples_split': 0.08373798100961415, 'max_leaf_nodes': 16}. Best is trial 11 with value: 0.8066666666666666.\u001b[0m\n",
      "\u001b[32m[I 2022-12-01 14:05:41,115]\u001b[0m Trial 38 finished with value: 0.7855555555555556 and parameters: {'n_estimators': 40, 'criterion': 'entropy', 'max_depth': 24, 'min_samples_leaf': 11, 'min_samples_split': 0.3084836096865771, 'max_leaf_nodes': 36}. Best is trial 11 with value: 0.8066666666666666.\u001b[0m\n",
      "\u001b[32m[I 2022-12-01 14:05:41,375]\u001b[0m Trial 39 finished with value: 0.8066666666666666 and parameters: {'n_estimators': 73, 'criterion': 'log_loss', 'max_depth': 46, 'min_samples_leaf': 20, 'min_samples_split': 0.09971005954858485, 'max_leaf_nodes': 29}. Best is trial 11 with value: 0.8066666666666666.\u001b[0m\n",
      "\u001b[32m[I 2022-12-01 14:05:41,617]\u001b[0m Trial 40 finished with value: 0.8 and parameters: {'n_estimators': 68, 'criterion': 'entropy', 'max_depth': 43, 'min_samples_leaf': 19, 'min_samples_split': 0.11342444491348536, 'max_leaf_nodes': 31}. Best is trial 11 with value: 0.8066666666666666.\u001b[0m\n",
      "\u001b[32m[I 2022-12-01 14:05:42,109]\u001b[0m Trial 41 finished with value: 0.8 and parameters: {'n_estimators': 134, 'criterion': 'log_loss', 'max_depth': 55, 'min_samples_leaf': 20, 'min_samples_split': 0.0912440465285649, 'max_leaf_nodes': 29}. Best is trial 11 with value: 0.8066666666666666.\u001b[0m\n",
      "\u001b[32m[I 2022-12-01 14:05:42,358]\u001b[0m Trial 42 finished with value: 0.7922222222222223 and parameters: {'n_estimators': 73, 'criterion': 'log_loss', 'max_depth': 46, 'min_samples_leaf': 25, 'min_samples_split': 0.16667794640403535, 'max_leaf_nodes': 26}. Best is trial 11 with value: 0.8066666666666666.\u001b[0m\n",
      "\u001b[32m[I 2022-12-01 14:05:42,638]\u001b[0m Trial 43 finished with value: 0.5155555555555555 and parameters: {'n_estimators': 124, 'criterion': 'log_loss', 'max_depth': 35, 'min_samples_leaf': 17, 'min_samples_split': 0.7331255397216127, 'max_leaf_nodes': 37}. Best is trial 11 with value: 0.8066666666666666.\u001b[0m\n",
      "\u001b[32m[I 2022-12-01 14:05:42,731]\u001b[0m Trial 44 finished with value: 0.7933333333333332 and parameters: {'n_estimators': 21, 'criterion': 'log_loss', 'max_depth': 53, 'min_samples_leaf': 14, 'min_samples_split': 0.05672474887620172, 'max_leaf_nodes': 34}. Best is trial 11 with value: 0.8066666666666666.\u001b[0m\n",
      "\u001b[32m[I 2022-12-01 14:05:43,097]\u001b[0m Trial 45 finished with value: 0.7955555555555556 and parameters: {'n_estimators': 109, 'criterion': 'log_loss', 'max_depth': 65, 'min_samples_leaf': 9, 'min_samples_split': 0.20307208497056978, 'max_leaf_nodes': 41}. Best is trial 11 with value: 0.8066666666666666.\u001b[0m\n",
      "\u001b[32m[I 2022-12-01 14:05:43,323]\u001b[0m Trial 46 finished with value: 0.8033333333333333 and parameters: {'n_estimators': 50, 'criterion': 'gini', 'max_depth': 48, 'min_samples_leaf': 22, 'min_samples_split': 0.009406358122948155, 'max_leaf_nodes': 20}. Best is trial 11 with value: 0.8066666666666666.\u001b[0m\n",
      "\u001b[32m[I 2022-12-01 14:05:43,504]\u001b[0m Trial 47 finished with value: 0.7955555555555556 and parameters: {'n_estimators': 49, 'criterion': 'gini', 'max_depth': 46, 'min_samples_leaf': 22, 'min_samples_split': 0.006271557965593227, 'max_leaf_nodes': 47}. Best is trial 11 with value: 0.8066666666666666.\u001b[0m\n",
      "\u001b[32m[I 2022-12-01 14:05:43,747]\u001b[0m Trial 48 finished with value: 0.7933333333333332 and parameters: {'n_estimators': 69, 'criterion': 'gini', 'max_depth': 30, 'min_samples_leaf': 3, 'min_samples_split': 0.14993595794495346, 'max_leaf_nodes': 24}. Best is trial 11 with value: 0.8066666666666666.\u001b[0m\n",
      "\u001b[32m[I 2022-12-01 14:05:43,869]\u001b[0m Trial 49 finished with value: 0.7966666666666666 and parameters: {'n_estimators': 33, 'criterion': 'gini', 'max_depth': 50, 'min_samples_leaf': 26, 'min_samples_split': 0.04565005885831509, 'max_leaf_nodes': 20}. Best is trial 11 with value: 0.8066666666666666.\u001b[0m\n",
      "\u001b[32m[I 2022-12-01 14:05:44,161]\u001b[0m Trial 50 finished with value: 0.7866666666666667 and parameters: {'n_estimators': 94, 'criterion': 'gini', 'max_depth': 57, 'min_samples_leaf': 18, 'min_samples_split': 0.28413051654629695, 'max_leaf_nodes': 16}. Best is trial 11 with value: 0.8066666666666666.\u001b[0m\n",
      "\u001b[32m[I 2022-12-01 14:05:45,489]\u001b[0m Trial 51 finished with value: 0.8077777777777777 and parameters: {'n_estimators': 378, 'criterion': 'entropy', 'max_depth': 73, 'min_samples_leaf': 15, 'min_samples_split': 0.10015160786494805, 'max_leaf_nodes': 28}. Best is trial 51 with value: 0.8077777777777777.\u001b[0m\n",
      "\u001b[32m[I 2022-12-01 14:05:47,210]\u001b[0m Trial 52 finished with value: 0.8033333333333333 and parameters: {'n_estimators': 448, 'criterion': 'entropy', 'max_depth': 41, 'min_samples_leaf': 15, 'min_samples_split': 0.03715395334927584, 'max_leaf_nodes': 27}. Best is trial 51 with value: 0.8077777777777777.\u001b[0m\n",
      "\u001b[32m[I 2022-12-01 14:05:48,816]\u001b[0m Trial 53 finished with value: 0.8 and parameters: {'n_estimators': 456, 'criterion': 'entropy', 'max_depth': 43, 'min_samples_leaf': 15, 'min_samples_split': 0.12382416274853825, 'max_leaf_nodes': 28}. Best is trial 51 with value: 0.8077777777777777.\u001b[0m\n"
     ]
    },
    {
     "name": "stderr",
     "output_type": "stream",
     "text": [
      "\u001b[32m[I 2022-12-01 14:05:50,307]\u001b[0m Trial 54 finished with value: 0.8044444444444444 and parameters: {'n_estimators': 387, 'criterion': 'entropy', 'max_depth': 40, 'min_samples_leaf': 12, 'min_samples_split': 0.044662510868984824, 'max_leaf_nodes': 33}. Best is trial 51 with value: 0.8077777777777777.\u001b[0m\n",
      "\u001b[32m[I 2022-12-01 14:05:51,877]\u001b[0m Trial 55 finished with value: 0.8044444444444444 and parameters: {'n_estimators': 396, 'criterion': 'entropy', 'max_depth': 38, 'min_samples_leaf': 6, 'min_samples_split': 0.0545619114868589, 'max_leaf_nodes': 33}. Best is trial 51 with value: 0.8077777777777777.\u001b[0m\n",
      "\u001b[32m[I 2022-12-01 14:05:52,730]\u001b[0m Trial 56 finished with value: 0.5155555555555555 and parameters: {'n_estimators': 391, 'criterion': 'entropy', 'max_depth': 23, 'min_samples_leaf': 8, 'min_samples_split': 0.807564447090966, 'max_leaf_nodes': 33}. Best is trial 51 with value: 0.8077777777777777.\u001b[0m\n",
      "\u001b[32m[I 2022-12-01 14:05:54,415]\u001b[0m Trial 57 finished with value: 0.8077777777777777 and parameters: {'n_estimators': 397, 'criterion': 'entropy', 'max_depth': 35, 'min_samples_leaf': 6, 'min_samples_split': 0.04432778466454071, 'max_leaf_nodes': 38}. Best is trial 51 with value: 0.8077777777777777.\u001b[0m\n",
      "\u001b[32m[I 2022-12-01 14:05:55,618]\u001b[0m Trial 58 finished with value: 0.8 and parameters: {'n_estimators': 377, 'criterion': 'entropy', 'max_depth': 12, 'min_samples_leaf': 5, 'min_samples_split': 0.1859822797222321, 'max_leaf_nodes': 32}. Best is trial 51 with value: 0.8077777777777777.\u001b[0m\n",
      "\u001b[32m[I 2022-12-01 14:05:57,158]\u001b[0m Trial 59 finished with value: 0.8011111111111111 and parameters: {'n_estimators': 416, 'criterion': 'entropy', 'max_depth': 35, 'min_samples_leaf': 1, 'min_samples_split': 0.10455508329141763, 'max_leaf_nodes': 38}. Best is trial 51 with value: 0.8077777777777777.\u001b[0m\n",
      "\u001b[32m[I 2022-12-01 14:05:58,419]\u001b[0m Trial 60 finished with value: 0.7688888888888888 and parameters: {'n_estimators': 488, 'criterion': 'entropy', 'max_depth': 30, 'min_samples_leaf': 10, 'min_samples_split': 0.4670532951398965, 'max_leaf_nodes': 43}. Best is trial 51 with value: 0.8077777777777777.\u001b[0m\n",
      "\u001b[32m[I 2022-12-01 14:05:59,883]\u001b[0m Trial 61 finished with value: 0.8044444444444444 and parameters: {'n_estimators': 371, 'criterion': 'entropy', 'max_depth': 25, 'min_samples_leaf': 6, 'min_samples_split': 0.06061118759271709, 'max_leaf_nodes': 35}. Best is trial 51 with value: 0.8077777777777777.\u001b[0m\n",
      "\u001b[32m[I 2022-12-01 14:06:01,356]\u001b[0m Trial 62 finished with value: 0.8111111111111111 and parameters: {'n_estimators': 359, 'criterion': 'entropy', 'max_depth': 15, 'min_samples_leaf': 6, 'min_samples_split': 0.05095556071449675, 'max_leaf_nodes': 39}. Best is trial 62 with value: 0.8111111111111111.\u001b[0m\n",
      "\u001b[32m[I 2022-12-01 14:06:02,599]\u001b[0m Trial 63 finished with value: 0.8044444444444444 and parameters: {'n_estimators': 368, 'criterion': 'entropy', 'max_depth': 13, 'min_samples_leaf': 12, 'min_samples_split': 0.1369848291077123, 'max_leaf_nodes': 39}. Best is trial 62 with value: 0.8111111111111111.\u001b[0m\n",
      "\u001b[32m[I 2022-12-01 14:06:03,576]\u001b[0m Trial 64 finished with value: 0.7744444444444445 and parameters: {'n_estimators': 334, 'criterion': 'entropy', 'max_depth': 2, 'min_samples_leaf': 2, 'min_samples_split': 0.14884779879149682, 'max_leaf_nodes': 44}. Best is trial 62 with value: 0.8111111111111111.\u001b[0m\n",
      "\u001b[32m[I 2022-12-01 14:06:05,623]\u001b[0m Trial 65 finished with value: 0.8088888888888889 and parameters: {'n_estimators': 434, 'criterion': 'entropy', 'max_depth': 19, 'min_samples_leaf': 4, 'min_samples_split': 0.0009233750729347907, 'max_leaf_nodes': 41}. Best is trial 62 with value: 0.8111111111111111.\u001b[0m\n",
      "\u001b[32m[I 2022-12-01 14:06:07,292]\u001b[0m Trial 66 finished with value: 0.8111111111111111 and parameters: {'n_estimators': 425, 'criterion': 'entropy', 'max_depth': 13, 'min_samples_leaf': 13, 'min_samples_split': 0.0007871327177432497, 'max_leaf_nodes': 39}. Best is trial 62 with value: 0.8111111111111111.\u001b[0m\n",
      "\u001b[32m[I 2022-12-01 14:06:08,875]\u001b[0m Trial 67 finished with value: 0.8011111111111111 and parameters: {'n_estimators': 438, 'criterion': 'entropy', 'max_depth': 6, 'min_samples_leaf': 4, 'min_samples_split': 0.10372843205818301, 'max_leaf_nodes': 41}. Best is trial 62 with value: 0.8111111111111111.\u001b[0m\n",
      "\u001b[32m[I 2022-12-01 14:06:10,651]\u001b[0m Trial 68 finished with value: 0.8133333333333332 and parameters: {'n_estimators': 419, 'criterion': 'entropy', 'max_depth': 16, 'min_samples_leaf': 8, 'min_samples_split': 0.0047947795771806564, 'max_leaf_nodes': 46}. Best is trial 68 with value: 0.8133333333333332.\u001b[0m\n",
      "\u001b[32m[I 2022-12-01 14:06:12,536]\u001b[0m Trial 69 finished with value: 0.8077777777777777 and parameters: {'n_estimators': 466, 'criterion': 'entropy', 'max_depth': 17, 'min_samples_leaf': 8, 'min_samples_split': 0.04030891740178246, 'max_leaf_nodes': 46}. Best is trial 68 with value: 0.8133333333333332.\u001b[0m\n",
      "\u001b[32m[I 2022-12-01 14:06:14,537]\u001b[0m Trial 70 finished with value: 0.8099999999999999 and parameters: {'n_estimators': 471, 'criterion': 'entropy', 'max_depth': 17, 'min_samples_leaf': 8, 'min_samples_split': 0.005140857311403901, 'max_leaf_nodes': 50}. Best is trial 68 with value: 0.8133333333333332.\u001b[0m\n",
      "\u001b[32m[I 2022-12-01 14:06:16,325]\u001b[0m Trial 71 finished with value: 0.8088888888888889 and parameters: {'n_estimators': 424, 'criterion': 'entropy', 'max_depth': 17, 'min_samples_leaf': 8, 'min_samples_split': 0.0008838758975601253, 'max_leaf_nodes': 50}. Best is trial 68 with value: 0.8133333333333332.\u001b[0m\n",
      "\u001b[32m[I 2022-12-01 14:06:18,355]\u001b[0m Trial 72 finished with value: 0.8077777777777777 and parameters: {'n_estimators': 470, 'criterion': 'entropy', 'max_depth': 17, 'min_samples_leaf': 8, 'min_samples_split': 0.001730648383719171, 'max_leaf_nodes': 50}. Best is trial 68 with value: 0.8133333333333332.\u001b[0m\n",
      "\u001b[32m[I 2022-12-01 14:06:20,309]\u001b[0m Trial 73 finished with value: 0.8077777777777777 and parameters: {'n_estimators': 471, 'criterion': 'entropy', 'max_depth': 17, 'min_samples_leaf': 8, 'min_samples_split': 0.004308761011361871, 'max_leaf_nodes': 50}. Best is trial 68 with value: 0.8133333333333332.\u001b[0m\n",
      "\u001b[32m[I 2022-12-01 14:06:22,098]\u001b[0m Trial 74 finished with value: 0.8111111111111111 and parameters: {'n_estimators': 427, 'criterion': 'entropy', 'max_depth': 11, 'min_samples_leaf': 8, 'min_samples_split': 0.02704021511939092, 'max_leaf_nodes': 47}. Best is trial 68 with value: 0.8133333333333332.\u001b[0m\n",
      "\u001b[32m[I 2022-12-01 14:06:23,690]\u001b[0m Trial 75 finished with value: 0.8099999999999999 and parameters: {'n_estimators': 426, 'criterion': 'entropy', 'max_depth': 11, 'min_samples_leaf': 13, 'min_samples_split': 0.07107965942663994, 'max_leaf_nodes': 48}. Best is trial 68 with value: 0.8133333333333332.\u001b[0m\n",
      "\u001b[32m[I 2022-12-01 14:06:25,424]\u001b[0m Trial 76 finished with value: 0.8144444444444444 and parameters: {'n_estimators': 421, 'criterion': 'entropy', 'max_depth': 10, 'min_samples_leaf': 4, 'min_samples_split': 0.032179012836070574, 'max_leaf_nodes': 48}. Best is trial 76 with value: 0.8144444444444444.\u001b[0m\n",
      "\u001b[32m[I 2022-12-01 14:06:27,041]\u001b[0m Trial 77 finished with value: 0.8022222222222222 and parameters: {'n_estimators': 419, 'criterion': 'entropy', 'max_depth': 11, 'min_samples_leaf': 10, 'min_samples_split': 0.07055867826371352, 'max_leaf_nodes': 47}. Best is trial 76 with value: 0.8144444444444444.\u001b[0m\n",
      "\u001b[32m[I 2022-12-01 14:06:27,985]\u001b[0m Trial 78 finished with value: 0.5155555555555555 and parameters: {'n_estimators': 437, 'criterion': 'entropy', 'max_depth': 7, 'min_samples_leaf': 4, 'min_samples_split': 0.9665090798307747, 'max_leaf_nodes': 45}. Best is trial 76 with value: 0.8144444444444444.\u001b[0m\n",
      "\u001b[32m[I 2022-12-01 14:06:29,548]\u001b[0m Trial 79 finished with value: 0.8066666666666666 and parameters: {'n_estimators': 410, 'criterion': 'entropy', 'max_depth': 9, 'min_samples_leaf': 13, 'min_samples_split': 0.023330271793149192, 'max_leaf_nodes': 48}. Best is trial 76 with value: 0.8144444444444444.\u001b[0m\n",
      "\u001b[32m[I 2022-12-01 14:06:31,618]\u001b[0m Trial 80 finished with value: 0.8099999999999999 and parameters: {'n_estimators': 499, 'criterion': 'entropy', 'max_depth': 14, 'min_samples_leaf': 10, 'min_samples_split': 0.028025912271853526, 'max_leaf_nodes': 49}. Best is trial 76 with value: 0.8144444444444444.\u001b[0m\n"
     ]
    },
    {
     "name": "stderr",
     "output_type": "stream",
     "text": [
      "\u001b[32m[I 2022-12-01 14:06:33,799]\u001b[0m Trial 81 finished with value: 0.8077777777777777 and parameters: {'n_estimators': 498, 'criterion': 'entropy', 'max_depth': 21, 'min_samples_leaf': 10, 'min_samples_split': 0.030450401453293956, 'max_leaf_nodes': 48}. Best is trial 76 with value: 0.8144444444444444.\u001b[0m\n",
      "\u001b[32m[I 2022-12-01 14:06:35,566]\u001b[0m Trial 82 finished with value: 0.8033333333333333 and parameters: {'n_estimators': 450, 'criterion': 'entropy', 'max_depth': 14, 'min_samples_leaf': 1, 'min_samples_split': 0.07836767499465584, 'max_leaf_nodes': 43}. Best is trial 76 with value: 0.8144444444444444.\u001b[0m\n",
      "\u001b[32m[I 2022-12-01 14:06:36,660]\u001b[0m Trial 83 finished with value: 0.7533333333333333 and parameters: {'n_estimators': 429, 'criterion': 'entropy', 'max_depth': 9, 'min_samples_leaf': 4, 'min_samples_split': 0.5818612754805575, 'max_leaf_nodes': 45}. Best is trial 76 with value: 0.8144444444444444.\u001b[0m\n",
      "\u001b[32m[I 2022-12-01 14:06:38,308]\u001b[0m Trial 84 finished with value: 0.7988888888888889 and parameters: {'n_estimators': 479, 'criterion': 'entropy', 'max_depth': 4, 'min_samples_leaf': 7, 'min_samples_split': 0.06589859781237001, 'max_leaf_nodes': 49}. Best is trial 76 with value: 0.8144444444444444.\u001b[0m\n",
      "\u001b[32m[I 2022-12-01 14:06:40,625]\u001b[0m Trial 85 finished with value: 0.8088888888888889 and parameters: {'n_estimators': 497, 'criterion': 'entropy', 'max_depth': 15, 'min_samples_leaf': 5, 'min_samples_split': 0.035254724920571606, 'max_leaf_nodes': 42}. Best is trial 76 with value: 0.8144444444444444.\u001b[0m\n",
      "\u001b[32m[I 2022-12-01 14:06:42,678]\u001b[0m Trial 86 finished with value: 0.8088888888888889 and parameters: {'n_estimators': 461, 'criterion': 'entropy', 'max_depth': 20, 'min_samples_leaf': 3, 'min_samples_split': 0.029730503799941955, 'max_leaf_nodes': 46}. Best is trial 76 with value: 0.8144444444444444.\u001b[0m\n",
      "\u001b[32m[I 2022-12-01 14:06:44,374]\u001b[0m Trial 87 finished with value: 0.7955555555555556 and parameters: {'n_estimators': 489, 'criterion': 'entropy', 'max_depth': 15, 'min_samples_leaf': 11, 'min_samples_split': 0.12303206660299934, 'max_leaf_nodes': 42}. Best is trial 76 with value: 0.8144444444444444.\u001b[0m\n",
      "\u001b[32m[I 2022-12-01 14:06:46,198]\u001b[0m Trial 88 finished with value: 0.8066666666666666 and parameters: {'n_estimators': 500, 'criterion': 'entropy', 'max_depth': 26, 'min_samples_leaf': 7, 'min_samples_split': 0.08397830091266595, 'max_leaf_nodes': 48}. Best is trial 76 with value: 0.8144444444444444.\u001b[0m\n",
      "\u001b[32m[I 2022-12-01 14:06:48,244]\u001b[0m Trial 89 finished with value: 0.8122222222222222 and parameters: {'n_estimators': 460, 'criterion': 'entropy', 'max_depth': 10, 'min_samples_leaf': 2, 'min_samples_split': 0.025466813850301306, 'max_leaf_nodes': 46}. Best is trial 76 with value: 0.8144444444444444.\u001b[0m\n",
      "\u001b[32m[I 2022-12-01 14:06:49,868]\u001b[0m Trial 90 finished with value: 0.8055555555555556 and parameters: {'n_estimators': 405, 'criterion': 'entropy', 'max_depth': 5, 'min_samples_leaf': 13, 'min_samples_split': 0.06355376735949027, 'max_leaf_nodes': 46}. Best is trial 76 with value: 0.8144444444444444.\u001b[0m\n",
      "\u001b[32m[I 2022-12-01 14:06:52,377]\u001b[0m Trial 91 finished with value: 0.8055555555555556 and parameters: {'n_estimators': 428, 'criterion': 'entropy', 'max_depth': 8, 'min_samples_leaf': 9, 'min_samples_split': 0.021441032072042, 'max_leaf_nodes': 50}. Best is trial 76 with value: 0.8144444444444444.\u001b[0m\n",
      "\u001b[32m[I 2022-12-01 14:06:54,233]\u001b[0m Trial 92 finished with value: 0.7944444444444445 and parameters: {'n_estimators': 450, 'criterion': 'entropy', 'max_depth': 10, 'min_samples_leaf': 2, 'min_samples_split': 0.3881817259736908, 'max_leaf_nodes': 49}. Best is trial 76 with value: 0.8144444444444444.\u001b[0m\n",
      "\u001b[32m[I 2022-12-01 14:06:56,465]\u001b[0m Trial 93 finished with value: 0.8122222222222222 and parameters: {'n_estimators': 440, 'criterion': 'entropy', 'max_depth': 22, 'min_samples_leaf': 3, 'min_samples_split': 0.024098562264374755, 'max_leaf_nodes': 44}. Best is trial 76 with value: 0.8144444444444444.\u001b[0m\n",
      "\u001b[32m[I 2022-12-01 14:06:58,357]\u001b[0m Trial 94 finished with value: 0.8022222222222222 and parameters: {'n_estimators': 443, 'criterion': 'entropy', 'max_depth': 22, 'min_samples_leaf': 5, 'min_samples_split': 0.05845612147549329, 'max_leaf_nodes': 45}. Best is trial 76 with value: 0.8144444444444444.\u001b[0m\n",
      "\u001b[32m[I 2022-12-01 14:06:59,494]\u001b[0m Trial 95 finished with value: 0.74 and parameters: {'n_estimators': 477, 'criterion': 'entropy', 'max_depth': 12, 'min_samples_leaf': 2, 'min_samples_split': 0.6295469026875021, 'max_leaf_nodes': 47}. Best is trial 76 with value: 0.8144444444444444.\u001b[0m\n",
      "\u001b[32m[I 2022-12-01 14:07:00,503]\u001b[0m Trial 96 finished with value: 0.788888888888889 and parameters: {'n_estimators': 359, 'criterion': 'entropy', 'max_depth': 2, 'min_samples_leaf': 9, 'min_samples_split': 0.09285719287390413, 'max_leaf_nodes': 44}. Best is trial 76 with value: 0.8144444444444444.\u001b[0m\n",
      "\u001b[32m[I 2022-12-01 14:07:02,518]\u001b[0m Trial 97 finished with value: 0.8099999999999999 and parameters: {'n_estimators': 459, 'criterion': 'entropy', 'max_depth': 15, 'min_samples_leaf': 6, 'min_samples_split': 0.023614924133718712, 'max_leaf_nodes': 48}. Best is trial 76 with value: 0.8144444444444444.\u001b[0m\n",
      "\u001b[32m[I 2022-12-01 14:07:04,090]\u001b[0m Trial 98 finished with value: 0.7966666666666666 and parameters: {'n_estimators': 403, 'criterion': 'entropy', 'max_depth': 26, 'min_samples_leaf': 3, 'min_samples_split': 0.1490883145886172, 'max_leaf_nodes': 44}. Best is trial 76 with value: 0.8144444444444444.\u001b[0m\n",
      "\u001b[32m[I 2022-12-01 14:07:06,162]\u001b[0m Trial 99 finished with value: 0.8044444444444444 and parameters: {'n_estimators': 459, 'criterion': 'entropy', 'max_depth': 15, 'min_samples_leaf': 7, 'min_samples_split': 0.029700653480927888, 'max_leaf_nodes': 49}. Best is trial 76 with value: 0.8144444444444444.\u001b[0m\n",
      "\u001b[32m[I 2022-12-01 14:07:07,831]\u001b[0m Trial 100 finished with value: 0.8077777777777777 and parameters: {'n_estimators': 419, 'criterion': 'entropy', 'max_depth': 6, 'min_samples_leaf': 5, 'min_samples_split': 0.04792951517300435, 'max_leaf_nodes': 47}. Best is trial 76 with value: 0.8144444444444444.\u001b[0m\n",
      "\u001b[32m[I 2022-12-01 14:07:09,836]\u001b[0m Trial 101 finished with value: 0.8033333333333333 and parameters: {'n_estimators': 482, 'criterion': 'entropy', 'max_depth': 13, 'min_samples_leaf': 11, 'min_samples_split': 0.024650044636551165, 'max_leaf_nodes': 48}. Best is trial 76 with value: 0.8144444444444444.\u001b[0m\n",
      "\u001b[32m[I 2022-12-01 14:07:11,721]\u001b[0m Trial 102 finished with value: 0.8033333333333333 and parameters: {'n_estimators': 455, 'criterion': 'entropy', 'max_depth': 11, 'min_samples_leaf': 6, 'min_samples_split': 0.07774275514500353, 'max_leaf_nodes': 46}. Best is trial 76 with value: 0.8144444444444444.\u001b[0m\n",
      "\u001b[32m[I 2022-12-01 14:07:13,354]\u001b[0m Trial 103 finished with value: 0.8077777777777777 and parameters: {'n_estimators': 443, 'criterion': 'entropy', 'max_depth': 18, 'min_samples_leaf': 7, 'min_samples_split': 0.10548284716164871, 'max_leaf_nodes': 49}. Best is trial 76 with value: 0.8144444444444444.\u001b[0m\n",
      "\u001b[32m[I 2022-12-01 14:07:15,588]\u001b[0m Trial 104 finished with value: 0.8099999999999999 and parameters: {'n_estimators': 467, 'criterion': 'entropy', 'max_depth': 28, 'min_samples_leaf': 1, 'min_samples_split': 0.019391757188017108, 'max_leaf_nodes': 45}. Best is trial 76 with value: 0.8144444444444444.\u001b[0m\n",
      "\u001b[32m[I 2022-12-01 14:07:17,376]\u001b[0m Trial 105 finished with value: 0.8077777777777777 and parameters: {'n_estimators': 413, 'criterion': 'entropy', 'max_depth': 28, 'min_samples_leaf': 2, 'min_samples_split': 0.053881480230246775, 'max_leaf_nodes': 42}. Best is trial 76 with value: 0.8144444444444444.\u001b[0m\n",
      "\u001b[32m[I 2022-12-01 14:07:19,564]\u001b[0m Trial 106 finished with value: 0.8077777777777777 and parameters: {'n_estimators': 469, 'criterion': 'entropy', 'max_depth': 21, 'min_samples_leaf': 1, 'min_samples_split': 0.024373504529637473, 'max_leaf_nodes': 40}. Best is trial 76 with value: 0.8144444444444444.\u001b[0m\n",
      "\u001b[32m[I 2022-12-01 14:07:20,960]\u001b[0m Trial 107 finished with value: 0.7966666666666666 and parameters: {'n_estimators': 385, 'criterion': 'entropy', 'max_depth': 9, 'min_samples_leaf': 3, 'min_samples_split': 0.1283412139550795, 'max_leaf_nodes': 45}. Best is trial 76 with value: 0.8144444444444444.\u001b[0m\n"
     ]
    },
    {
     "name": "stderr",
     "output_type": "stream",
     "text": [
      "\u001b[32m[I 2022-12-01 14:07:22,019]\u001b[0m Trial 108 finished with value: 0.8011111111111111 and parameters: {'n_estimators': 298, 'criterion': 'entropy', 'max_depth': 14, 'min_samples_leaf': 13, 'min_samples_split': 0.1747821929494679, 'max_leaf_nodes': 47}. Best is trial 76 with value: 0.8144444444444444.\u001b[0m\n",
      "\u001b[32m[I 2022-12-01 14:07:24,193]\u001b[0m Trial 109 finished with value: 0.8088888888888889 and parameters: {'n_estimators': 486, 'criterion': 'entropy', 'max_depth': 19, 'min_samples_leaf': 6, 'min_samples_split': 0.01487888411685845, 'max_leaf_nodes': 43}. Best is trial 76 with value: 0.8144444444444444.\u001b[0m\n",
      "\u001b[32m[I 2022-12-01 14:07:25,675]\u001b[0m Trial 110 finished with value: 0.8033333333333333 and parameters: {'n_estimators': 425, 'criterion': 'entropy', 'max_depth': 4, 'min_samples_leaf': 5, 'min_samples_split': 0.09290345027327136, 'max_leaf_nodes': 44}. Best is trial 76 with value: 0.8144444444444444.\u001b[0m\n",
      "\u001b[32m[I 2022-12-01 14:07:27,334]\u001b[0m Trial 111 finished with value: 0.8077777777777777 and parameters: {'n_estimators': 437, 'criterion': 'entropy', 'max_depth': 16, 'min_samples_leaf': 9, 'min_samples_split': 0.05346635577172064, 'max_leaf_nodes': 48}. Best is trial 76 with value: 0.8144444444444444.\u001b[0m\n",
      "\u001b[32m[I 2022-12-01 14:07:29,477]\u001b[0m Trial 112 finished with value: 0.8133333333333332 and parameters: {'n_estimators': 458, 'criterion': 'entropy', 'max_depth': 12, 'min_samples_leaf': 3, 'min_samples_split': 2.570178746292423e-05, 'max_leaf_nodes': 46}. Best is trial 76 with value: 0.8144444444444444.\u001b[0m\n",
      "\u001b[32m[I 2022-12-01 14:07:31,345]\u001b[0m Trial 113 finished with value: 0.8088888888888889 and parameters: {'n_estimators': 457, 'criterion': 'entropy', 'max_depth': 11, 'min_samples_leaf': 10, 'min_samples_split': 0.042845896301613756, 'max_leaf_nodes': 50}. Best is trial 76 with value: 0.8144444444444444.\u001b[0m\n",
      "\u001b[32m[I 2022-12-01 14:07:33,626]\u001b[0m Trial 114 finished with value: 0.8133333333333332 and parameters: {'n_estimators': 472, 'criterion': 'entropy', 'max_depth': 23, 'min_samples_leaf': 3, 'min_samples_split': 0.00015465055961939866, 'max_leaf_nodes': 45}. Best is trial 76 with value: 0.8144444444444444.\u001b[0m\n",
      "\u001b[32m[I 2022-12-01 14:07:35,827]\u001b[0m Trial 115 finished with value: 0.8155555555555555 and parameters: {'n_estimators': 473, 'criterion': 'entropy', 'max_depth': 23, 'min_samples_leaf': 3, 'min_samples_split': 0.00332921906620786, 'max_leaf_nodes': 46}. Best is trial 115 with value: 0.8155555555555555.\u001b[0m\n",
      "\u001b[32m[I 2022-12-01 14:07:37,564]\u001b[0m Trial 116 finished with value: 0.8077777777777777 and parameters: {'n_estimators': 431, 'criterion': 'entropy', 'max_depth': 23, 'min_samples_leaf': 4, 'min_samples_split': 0.07065327678557436, 'max_leaf_nodes': 46}. Best is trial 115 with value: 0.8155555555555555.\u001b[0m\n",
      "\u001b[32m[I 2022-12-01 14:07:39,394]\u001b[0m Trial 117 finished with value: 0.8122222222222222 and parameters: {'n_estimators': 404, 'criterion': 'entropy', 'max_depth': 32, 'min_samples_leaf': 1, 'min_samples_split': 0.0053185580716358805, 'max_leaf_nodes': 40}. Best is trial 115 with value: 0.8155555555555555.\u001b[0m\n",
      "\u001b[32m[I 2022-12-01 14:07:41,062]\u001b[0m Trial 118 finished with value: 0.8088888888888889 and parameters: {'n_estimators': 401, 'criterion': 'gini', 'max_depth': 30, 'min_samples_leaf': 1, 'min_samples_split': 0.0020013405531196723, 'max_leaf_nodes': 40}. Best is trial 115 with value: 0.8155555555555555.\u001b[0m\n",
      "\u001b[32m[I 2022-12-01 14:07:42,969]\u001b[0m Trial 119 finished with value: 0.8099999999999999 and parameters: {'n_estimators': 446, 'criterion': 'entropy', 'max_depth': 24, 'min_samples_leaf': 3, 'min_samples_split': 0.044490711502568454, 'max_leaf_nodes': 37}. Best is trial 115 with value: 0.8155555555555555.\u001b[0m\n",
      "\u001b[32m[I 2022-12-01 14:07:44,681]\u001b[0m Trial 120 finished with value: 0.8088888888888889 and parameters: {'n_estimators': 413, 'criterion': 'entropy', 'max_depth': 32, 'min_samples_leaf': 3, 'min_samples_split': 0.04093970415700923, 'max_leaf_nodes': 39}. Best is trial 115 with value: 0.8155555555555555.\u001b[0m\n",
      "\u001b[32m[I 2022-12-01 14:07:46,631]\u001b[0m Trial 121 finished with value: 0.8088888888888889 and parameters: {'n_estimators': 442, 'criterion': 'entropy', 'max_depth': 25, 'min_samples_leaf': 3, 'min_samples_split': 0.012556211197056173, 'max_leaf_nodes': 36}. Best is trial 115 with value: 0.8155555555555555.\u001b[0m\n",
      "\u001b[32m[I 2022-12-01 14:07:48,668]\u001b[0m Trial 122 finished with value: 0.8099999999999999 and parameters: {'n_estimators': 475, 'criterion': 'entropy', 'max_depth': 7, 'min_samples_leaf': 2, 'min_samples_split': 0.002505302838261357, 'max_leaf_nodes': 44}. Best is trial 115 with value: 0.8155555555555555.\u001b[0m\n",
      "\u001b[32m[I 2022-12-01 14:07:50,580]\u001b[0m Trial 123 finished with value: 0.8144444444444444 and parameters: {'n_estimators': 458, 'criterion': 'entropy', 'max_depth': 20, 'min_samples_leaf': 5, 'min_samples_split': 0.029982962970790034, 'max_leaf_nodes': 43}. Best is trial 115 with value: 0.8155555555555555.\u001b[0m\n",
      "\u001b[32m[I 2022-12-01 14:07:52,447]\u001b[0m Trial 124 finished with value: 0.8022222222222222 and parameters: {'n_estimators': 484, 'criterion': 'entropy', 'max_depth': 21, 'min_samples_leaf': 4, 'min_samples_split': 0.06126884347322455, 'max_leaf_nodes': 43}. Best is trial 115 with value: 0.8155555555555555.\u001b[0m\n",
      "\u001b[32m[I 2022-12-01 14:07:53,893]\u001b[0m Trial 125 finished with value: 0.7988888888888889 and parameters: {'n_estimators': 452, 'criterion': 'entropy', 'max_depth': 19, 'min_samples_leaf': 47, 'min_samples_split': 0.03260965098449023, 'max_leaf_nodes': 41}. Best is trial 115 with value: 0.8155555555555555.\u001b[0m\n",
      "\u001b[32m[I 2022-12-01 14:07:56,066]\u001b[0m Trial 126 finished with value: 0.8133333333333332 and parameters: {'n_estimators': 459, 'criterion': 'entropy', 'max_depth': 20, 'min_samples_leaf': 5, 'min_samples_split': 0.0003397098554436262, 'max_leaf_nodes': 42}. Best is trial 115 with value: 0.8155555555555555.\u001b[0m\n",
      "\u001b[32m[I 2022-12-01 14:07:58,178]\u001b[0m Trial 127 finished with value: 0.8033333333333333 and parameters: {'n_estimators': 435, 'criterion': 'entropy', 'max_depth': 22, 'min_samples_leaf': 4, 'min_samples_split': 0.08444572079731613, 'max_leaf_nodes': 42}. Best is trial 115 with value: 0.8155555555555555.\u001b[0m\n",
      "\u001b[32m[I 2022-12-01 14:07:59,922]\u001b[0m Trial 128 finished with value: 0.8 and parameters: {'n_estimators': 419, 'criterion': 'entropy', 'max_depth': 19, 'min_samples_leaf': 5, 'min_samples_split': 0.11377929929846686, 'max_leaf_nodes': 39}. Best is trial 115 with value: 0.8155555555555555.\u001b[0m\n",
      "\u001b[32m[I 2022-12-01 14:08:02,000]\u001b[0m Trial 129 finished with value: 0.8111111111111111 and parameters: {'n_estimators': 462, 'criterion': 'entropy', 'max_depth': 13, 'min_samples_leaf': 2, 'min_samples_split': 0.05230077414472018, 'max_leaf_nodes': 43}. Best is trial 115 with value: 0.8155555555555555.\u001b[0m\n",
      "\u001b[32m[I 2022-12-01 14:08:03,994]\u001b[0m Trial 130 finished with value: 0.8077777777777777 and parameters: {'n_estimators': 460, 'criterion': 'entropy', 'max_depth': 13, 'min_samples_leaf': 2, 'min_samples_split': 0.059729184622373754, 'max_leaf_nodes': 43}. Best is trial 115 with value: 0.8155555555555555.\u001b[0m\n",
      "\u001b[32m[I 2022-12-01 14:08:06,346]\u001b[0m Trial 131 finished with value: 0.8122222222222222 and parameters: {'n_estimators': 449, 'criterion': 'entropy', 'max_depth': 8, 'min_samples_leaf': 1, 'min_samples_split': 0.013740441879532404, 'max_leaf_nodes': 40}. Best is trial 115 with value: 0.8155555555555555.\u001b[0m\n",
      "\u001b[32m[I 2022-12-01 14:08:08,865]\u001b[0m Trial 132 finished with value: 0.8122222222222222 and parameters: {'n_estimators': 393, 'criterion': 'entropy', 'max_depth': 9, 'min_samples_leaf': 1, 'min_samples_split': 0.00441012318423965, 'max_leaf_nodes': 38}. Best is trial 115 with value: 0.8155555555555555.\u001b[0m\n",
      "\u001b[32m[I 2022-12-01 14:08:10,968]\u001b[0m Trial 133 finished with value: 0.8111111111111111 and parameters: {'n_estimators': 450, 'criterion': 'entropy', 'max_depth': 9, 'min_samples_leaf': 1, 'min_samples_split': 0.0007196087276475342, 'max_leaf_nodes': 41}. Best is trial 115 with value: 0.8155555555555555.\u001b[0m\n",
      "\u001b[32m[I 2022-12-01 14:08:12,242]\u001b[0m Trial 134 finished with value: 0.7611111111111111 and parameters: {'n_estimators': 467, 'criterion': 'entropy', 'max_depth': 7, 'min_samples_leaf': 2, 'min_samples_split': 0.5283536953787001, 'max_leaf_nodes': 42}. Best is trial 115 with value: 0.8155555555555555.\u001b[0m\n"
     ]
    },
    {
     "name": "stderr",
     "output_type": "stream",
     "text": [
      "\u001b[32m[I 2022-12-01 14:08:14,336]\u001b[0m Trial 135 finished with value: 0.8088888888888889 and parameters: {'n_estimators': 446, 'criterion': 'entropy', 'max_depth': 9, 'min_samples_leaf': 1, 'min_samples_split': 0.01591694783386684, 'max_leaf_nodes': 41}. Best is trial 115 with value: 0.8155555555555555.\u001b[0m\n",
      "\u001b[32m[I 2022-12-01 14:08:15,908]\u001b[0m Trial 136 finished with value: 0.8033333333333333 and parameters: {'n_estimators': 390, 'criterion': 'entropy', 'max_depth': 5, 'min_samples_leaf': 3, 'min_samples_split': 0.0019025475810139185, 'max_leaf_nodes': 40}. Best is trial 115 with value: 0.8155555555555555.\u001b[0m\n",
      "\u001b[32m[I 2022-12-01 14:08:17,619]\u001b[0m Trial 137 finished with value: 0.8088888888888889 and parameters: {'n_estimators': 408, 'criterion': 'entropy', 'max_depth': 27, 'min_samples_leaf': 5, 'min_samples_split': 0.04035815712358096, 'max_leaf_nodes': 38}. Best is trial 115 with value: 0.8155555555555555.\u001b[0m\n",
      "\u001b[32m[I 2022-12-01 14:08:19,418]\u001b[0m Trial 138 finished with value: 0.8144444444444444 and parameters: {'n_estimators': 434, 'criterion': 'gini', 'max_depth': 11, 'min_samples_leaf': 4, 'min_samples_split': 0.02693318823741269, 'max_leaf_nodes': 45}. Best is trial 115 with value: 0.8155555555555555.\u001b[0m\n",
      "\u001b[32m[I 2022-12-01 14:08:20,936]\u001b[0m Trial 139 finished with value: 0.8022222222222222 and parameters: {'n_estimators': 396, 'criterion': 'gini', 'max_depth': 17, 'min_samples_leaf': 4, 'min_samples_split': 0.07682912291082908, 'max_leaf_nodes': 45}. Best is trial 115 with value: 0.8155555555555555.\u001b[0m\n",
      "\u001b[32m[I 2022-12-01 14:08:22,802]\u001b[0m Trial 140 finished with value: 0.8077777777777777 and parameters: {'n_estimators': 439, 'criterion': 'gini', 'max_depth': 20, 'min_samples_leaf': 3, 'min_samples_split': 0.0238331189718278, 'max_leaf_nodes': 46}. Best is trial 115 with value: 0.8155555555555555.\u001b[0m\n",
      "\u001b[32m[I 2022-12-01 14:08:24,626]\u001b[0m Trial 141 finished with value: 0.8155555555555555 and parameters: {'n_estimators': 430, 'criterion': 'gini', 'max_depth': 11, 'min_samples_leaf': 1, 'min_samples_split': 0.03232434153398628, 'max_leaf_nodes': 45}. Best is trial 115 with value: 0.8155555555555555.\u001b[0m\n",
      "\u001b[32m[I 2022-12-01 14:08:26,571]\u001b[0m Trial 142 finished with value: 0.8155555555555555 and parameters: {'n_estimators': 449, 'criterion': 'gini', 'max_depth': 9, 'min_samples_leaf': 1, 'min_samples_split': 0.0027609397262651977, 'max_leaf_nodes': 44}. Best is trial 115 with value: 0.8155555555555555.\u001b[0m\n",
      "\u001b[32m[I 2022-12-01 14:08:28,431]\u001b[0m Trial 143 finished with value: 0.8022222222222222 and parameters: {'n_estimators': 478, 'criterion': 'gini', 'max_depth': 7, 'min_samples_leaf': 1, 'min_samples_split': 0.03909251182364247, 'max_leaf_nodes': 44}. Best is trial 115 with value: 0.8155555555555555.\u001b[0m\n",
      "\u001b[32m[I 2022-12-01 14:08:29,654]\u001b[0m Trial 144 finished with value: 0.7866666666666667 and parameters: {'n_estimators': 437, 'criterion': 'gini', 'max_depth': 2, 'min_samples_leaf': 2, 'min_samples_split': 0.020709983787524523, 'max_leaf_nodes': 45}. Best is trial 115 with value: 0.8155555555555555.\u001b[0m\n",
      "\u001b[32m[I 2022-12-01 14:08:31,295]\u001b[0m Trial 145 finished with value: 0.8055555555555556 and parameters: {'n_estimators': 450, 'criterion': 'gini', 'max_depth': 11, 'min_samples_leaf': 4, 'min_samples_split': 0.0730395905873645, 'max_leaf_nodes': 46}. Best is trial 115 with value: 0.8155555555555555.\u001b[0m\n",
      "\u001b[32m[I 2022-12-01 14:08:32,990]\u001b[0m Trial 146 finished with value: 0.8 and parameters: {'n_estimators': 488, 'criterion': 'gini', 'max_depth': 5, 'min_samples_leaf': 1, 'min_samples_split': 0.09690543395771005, 'max_leaf_nodes': 44}. Best is trial 115 with value: 0.8155555555555555.\u001b[0m\n",
      "\u001b[32m[I 2022-12-01 14:08:34,720]\u001b[0m Trial 147 finished with value: 0.8166666666666667 and parameters: {'n_estimators': 417, 'criterion': 'gini', 'max_depth': 23, 'min_samples_leaf': 3, 'min_samples_split': 0.0003001692720107756, 'max_leaf_nodes': 43}. Best is trial 147 with value: 0.8166666666666667.\u001b[0m\n",
      "\u001b[32m[I 2022-12-01 14:08:36,297]\u001b[0m Trial 148 finished with value: 0.8066666666666666 and parameters: {'n_estimators': 416, 'criterion': 'gini', 'max_depth': 23, 'min_samples_leaf': 5, 'min_samples_split': 0.03857225963814086, 'max_leaf_nodes': 43}. Best is trial 147 with value: 0.8166666666666667.\u001b[0m\n",
      "\u001b[32m[I 2022-12-01 14:08:38,301]\u001b[0m Trial 149 finished with value: 0.8099999999999999 and parameters: {'n_estimators': 474, 'criterion': 'gini', 'max_depth': 9, 'min_samples_leaf': 3, 'min_samples_split': 0.024204477246113413, 'max_leaf_nodes': 45}. Best is trial 147 with value: 0.8166666666666667.\u001b[0m\n",
      "\u001b[32m[I 2022-12-01 14:08:39,983]\u001b[0m Trial 150 finished with value: 0.8133333333333332 and parameters: {'n_estimators': 379, 'criterion': 'gini', 'max_depth': 16, 'min_samples_leaf': 1, 'min_samples_split': 0.0030545401322243483, 'max_leaf_nodes': 42}. Best is trial 147 with value: 0.8166666666666667.\u001b[0m\n",
      "\u001b[32m[I 2022-12-01 14:08:41,594]\u001b[0m Trial 151 finished with value: 0.8133333333333332 and parameters: {'n_estimators': 375, 'criterion': 'gini', 'max_depth': 18, 'min_samples_leaf': 1, 'min_samples_split': 0.008236272008128234, 'max_leaf_nodes': 42}. Best is trial 147 with value: 0.8166666666666667.\u001b[0m\n",
      "\u001b[32m[I 2022-12-01 14:08:43,133]\u001b[0m Trial 152 finished with value: 0.8033333333333333 and parameters: {'n_estimators': 377, 'criterion': 'gini', 'max_depth': 18, 'min_samples_leaf': 3, 'min_samples_split': 0.054960991001435235, 'max_leaf_nodes': 42}. Best is trial 147 with value: 0.8166666666666667.\u001b[0m\n",
      "\u001b[32m[I 2022-12-01 14:08:44,891]\u001b[0m Trial 153 finished with value: 0.8122222222222222 and parameters: {'n_estimators': 388, 'criterion': 'gini', 'max_depth': 16, 'min_samples_leaf': 4, 'min_samples_split': 0.017399977431366107, 'max_leaf_nodes': 42}. Best is trial 147 with value: 0.8166666666666667.\u001b[0m\n",
      "\u001b[32m[I 2022-12-01 14:08:46,459]\u001b[0m Trial 154 finished with value: 0.8133333333333332 and parameters: {'n_estimators': 340, 'criterion': 'gini', 'max_depth': 12, 'min_samples_leaf': 2, 'min_samples_split': 0.005904588327145402, 'max_leaf_nodes': 47}. Best is trial 147 with value: 0.8166666666666667.\u001b[0m\n",
      "\u001b[32m[I 2022-12-01 14:08:47,871]\u001b[0m Trial 155 finished with value: 0.8066666666666666 and parameters: {'n_estimators': 343, 'criterion': 'gini', 'max_depth': 17, 'min_samples_leaf': 4, 'min_samples_split': 0.04530553861196797, 'max_leaf_nodes': 47}. Best is trial 147 with value: 0.8166666666666667.\u001b[0m\n",
      "\u001b[32m[I 2022-12-01 14:08:49,743]\u001b[0m Trial 156 finished with value: 0.8144444444444444 and parameters: {'n_estimators': 400, 'criterion': 'gini', 'max_depth': 12, 'min_samples_leaf': 2, 'min_samples_split': 0.0009286014815383728, 'max_leaf_nodes': 46}. Best is trial 147 with value: 0.8166666666666667.\u001b[0m\n",
      "\u001b[32m[I 2022-12-01 14:08:51,268]\u001b[0m Trial 157 finished with value: 0.8111111111111111 and parameters: {'n_estimators': 325, 'criterion': 'gini', 'max_depth': 13, 'min_samples_leaf': 2, 'min_samples_split': 0.0010334912645981577, 'max_leaf_nodes': 47}. Best is trial 147 with value: 0.8166666666666667.\u001b[0m\n",
      "\u001b[32m[I 2022-12-01 14:08:52,854]\u001b[0m Trial 158 finished with value: 0.8066666666666666 and parameters: {'n_estimators': 368, 'criterion': 'gini', 'max_depth': 15, 'min_samples_leaf': 6, 'min_samples_split': 0.038389938719067346, 'max_leaf_nodes': 46}. Best is trial 147 with value: 0.8166666666666667.\u001b[0m\n",
      "\u001b[32m[I 2022-12-01 14:08:54,385]\u001b[0m Trial 159 finished with value: 0.8044444444444444 and parameters: {'n_estimators': 358, 'criterion': 'gini', 'max_depth': 12, 'min_samples_leaf': 5, 'min_samples_split': 0.06575097067241725, 'max_leaf_nodes': 45}. Best is trial 147 with value: 0.8166666666666667.\u001b[0m\n",
      "\u001b[32m[I 2022-12-01 14:08:54,917]\u001b[0m Trial 160 finished with value: 0.5155555555555555 and parameters: {'n_estimators': 239, 'criterion': 'gini', 'max_depth': 21, 'min_samples_leaf': 3, 'min_samples_split': 0.7237550294815782, 'max_leaf_nodes': 44}. Best is trial 147 with value: 0.8166666666666667.\u001b[0m\n",
      "\u001b[32m[I 2022-12-01 14:08:56,644]\u001b[0m Trial 161 finished with value: 0.8144444444444444 and parameters: {'n_estimators': 381, 'criterion': 'gini', 'max_depth': 16, 'min_samples_leaf': 4, 'min_samples_split': 0.00047605266184347437, 'max_leaf_nodes': 42}. Best is trial 147 with value: 0.8166666666666667.\u001b[0m\n"
     ]
    },
    {
     "name": "stderr",
     "output_type": "stream",
     "text": [
      "\u001b[32m[I 2022-12-01 14:08:58,446]\u001b[0m Trial 162 finished with value: 0.8066666666666666 and parameters: {'n_estimators': 379, 'criterion': 'gini', 'max_depth': 15, 'min_samples_leaf': 2, 'min_samples_split': 0.01623108756789256, 'max_leaf_nodes': 44}. Best is trial 147 with value: 0.8166666666666667.\u001b[0m\n",
      "\u001b[32m[I 2022-12-01 14:08:59,370]\u001b[0m Trial 163 finished with value: 0.5155555555555555 and parameters: {'n_estimators': 409, 'criterion': 'gini', 'max_depth': 11, 'min_samples_leaf': 2, 'min_samples_split': 0.8273870178659513, 'max_leaf_nodes': 46}. Best is trial 147 with value: 0.8166666666666667.\u001b[0m\n",
      "\u001b[32m[I 2022-12-01 14:09:01,016]\u001b[0m Trial 164 finished with value: 0.8077777777777777 and parameters: {'n_estimators': 425, 'criterion': 'gini', 'max_depth': 18, 'min_samples_leaf': 7, 'min_samples_split': 0.031243854333071704, 'max_leaf_nodes': 47}. Best is trial 147 with value: 0.8166666666666667.\u001b[0m\n",
      "\u001b[32m[I 2022-12-01 14:09:02,437]\u001b[0m Trial 165 finished with value: 0.8177777777777777 and parameters: {'n_estimators': 350, 'criterion': 'gini', 'max_depth': 24, 'min_samples_leaf': 1, 'min_samples_split': 0.0029483225744898387, 'max_leaf_nodes': 43}. Best is trial 165 with value: 0.8177777777777777.\u001b[0m\n",
      "\u001b[32m[I 2022-12-01 14:09:03,816]\u001b[0m Trial 166 finished with value: 0.8088888888888889 and parameters: {'n_estimators': 344, 'criterion': 'gini', 'max_depth': 24, 'min_samples_leaf': 4, 'min_samples_split': 0.00045694952084109975, 'max_leaf_nodes': 43}. Best is trial 165 with value: 0.8177777777777777.\u001b[0m\n",
      "\u001b[32m[I 2022-12-01 14:09:05,234]\u001b[0m Trial 167 finished with value: 0.8055555555555556 and parameters: {'n_estimators': 356, 'criterion': 'gini', 'max_depth': 19, 'min_samples_leaf': 5, 'min_samples_split': 0.0509053374570455, 'max_leaf_nodes': 45}. Best is trial 165 with value: 0.8177777777777777.\u001b[0m\n",
      "\u001b[32m[I 2022-12-01 14:09:06,757]\u001b[0m Trial 168 finished with value: 0.8111111111111111 and parameters: {'n_estimators': 377, 'criterion': 'gini', 'max_depth': 26, 'min_samples_leaf': 3, 'min_samples_split': 0.0015177475702767554, 'max_leaf_nodes': 43}. Best is trial 165 with value: 0.8177777777777777.\u001b[0m\n",
      "\u001b[32m[I 2022-12-01 14:09:08,258]\u001b[0m Trial 169 finished with value: 0.8111111111111111 and parameters: {'n_estimators': 366, 'criterion': 'gini', 'max_depth': 21, 'min_samples_leaf': 1, 'min_samples_split': 0.029501438507011906, 'max_leaf_nodes': 42}. Best is trial 165 with value: 0.8177777777777777.\u001b[0m\n",
      "\u001b[32m[I 2022-12-01 14:09:09,394]\u001b[0m Trial 170 finished with value: 0.8044444444444444 and parameters: {'n_estimators': 313, 'criterion': 'gini', 'max_depth': 16, 'min_samples_leaf': 6, 'min_samples_split': 0.06706080827917282, 'max_leaf_nodes': 44}. Best is trial 165 with value: 0.8177777777777777.\u001b[0m\n",
      "\u001b[32m[I 2022-12-01 14:09:10,996]\u001b[0m Trial 171 finished with value: 0.8122222222222222 and parameters: {'n_estimators': 395, 'criterion': 'gini', 'max_depth': 13, 'min_samples_leaf': 1, 'min_samples_split': 0.002745026422068129, 'max_leaf_nodes': 41}. Best is trial 165 with value: 0.8177777777777777.\u001b[0m\n",
      "\u001b[32m[I 2022-12-01 14:09:12,574]\u001b[0m Trial 172 finished with value: 0.8077777777777777 and parameters: {'n_estimators': 394, 'criterion': 'gini', 'max_depth': 13, 'min_samples_leaf': 2, 'min_samples_split': 0.03740380844500754, 'max_leaf_nodes': 42}. Best is trial 165 with value: 0.8177777777777777.\u001b[0m\n",
      "\u001b[32m[I 2022-12-01 14:09:14,117]\u001b[0m Trial 173 finished with value: 0.8077777777777777 and parameters: {'n_estimators': 384, 'criterion': 'gini', 'max_depth': 7, 'min_samples_leaf': 1, 'min_samples_split': 0.020907288934248276, 'max_leaf_nodes': 48}. Best is trial 165 with value: 0.8177777777777777.\u001b[0m\n",
      "\u001b[32m[I 2022-12-01 14:09:15,789]\u001b[0m Trial 174 finished with value: 0.8111111111111111 and parameters: {'n_estimators': 368, 'criterion': 'gini', 'max_depth': 16, 'min_samples_leaf': 4, 'min_samples_split': 0.020333964078611644, 'max_leaf_nodes': 43}. Best is trial 165 with value: 0.8177777777777777.\u001b[0m\n",
      "\u001b[32m[I 2022-12-01 14:09:17,718]\u001b[0m Trial 175 finished with value: 0.8055555555555556 and parameters: {'n_estimators': 420, 'criterion': 'gini', 'max_depth': 14, 'min_samples_leaf': 3, 'min_samples_split': 0.0019064536363317943, 'max_leaf_nodes': 41}. Best is trial 165 with value: 0.8177777777777777.\u001b[0m\n",
      "\u001b[32m[I 2022-12-01 14:09:19,152]\u001b[0m Trial 176 finished with value: 0.8055555555555556 and parameters: {'n_estimators': 348, 'criterion': 'gini', 'max_depth': 20, 'min_samples_leaf': 4, 'min_samples_split': 0.046771952601634616, 'max_leaf_nodes': 45}. Best is trial 165 with value: 0.8177777777777777.\u001b[0m\n",
      "\u001b[32m[I 2022-12-01 14:09:21,164]\u001b[0m Trial 177 finished with value: 0.8144444444444444 and parameters: {'n_estimators': 408, 'criterion': 'gini', 'max_depth': 23, 'min_samples_leaf': 2, 'min_samples_split': 0.00024053968511023732, 'max_leaf_nodes': 46}. Best is trial 165 with value: 0.8177777777777777.\u001b[0m\n",
      "\u001b[32m[I 2022-12-01 14:09:22,934]\u001b[0m Trial 178 finished with value: 0.8077777777777777 and parameters: {'n_estimators': 430, 'criterion': 'gini', 'max_depth': 24, 'min_samples_leaf': 2, 'min_samples_split': 0.05666743388459615, 'max_leaf_nodes': 47}. Best is trial 165 with value: 0.8177777777777777.\u001b[0m\n",
      "\u001b[32m[I 2022-12-01 14:09:24,344]\u001b[0m Trial 179 finished with value: 0.8133333333333332 and parameters: {'n_estimators': 335, 'criterion': 'gini', 'max_depth': 23, 'min_samples_leaf': 5, 'min_samples_split': 0.00030399433348451965, 'max_leaf_nodes': 46}. Best is trial 165 with value: 0.8177777777777777.\u001b[0m\n",
      "\u001b[32m[I 2022-12-01 14:09:25,116]\u001b[0m Trial 180 finished with value: 0.5155555555555555 and parameters: {'n_estimators': 332, 'criterion': 'gini', 'max_depth': 27, 'min_samples_leaf': 5, 'min_samples_split': 0.6535865580630154, 'max_leaf_nodes': 48}. Best is trial 165 with value: 0.8177777777777777.\u001b[0m\n",
      "\u001b[32m[I 2022-12-01 14:09:26,358]\u001b[0m Trial 181 finished with value: 0.8188888888888888 and parameters: {'n_estimators': 290, 'criterion': 'gini', 'max_depth': 23, 'min_samples_leaf': 2, 'min_samples_split': 0.023306363594914285, 'max_leaf_nodes': 46}. Best is trial 181 with value: 0.8188888888888888.\u001b[0m\n",
      "\u001b[32m[I 2022-12-01 14:09:27,537]\u001b[0m Trial 182 finished with value: 0.8055555555555556 and parameters: {'n_estimators': 289, 'criterion': 'gini', 'max_depth': 22, 'min_samples_leaf': 3, 'min_samples_split': 0.02726929165994102, 'max_leaf_nodes': 45}. Best is trial 181 with value: 0.8188888888888888.\u001b[0m\n",
      "\u001b[32m[I 2022-12-01 14:09:29,228]\u001b[0m Trial 183 finished with value: 0.8022222222222222 and parameters: {'n_estimators': 404, 'criterion': 'gini', 'max_depth': 25, 'min_samples_leaf': 2, 'min_samples_split': 0.03829928406715731, 'max_leaf_nodes': 47}. Best is trial 181 with value: 0.8188888888888888.\u001b[0m\n",
      "\u001b[32m[I 2022-12-01 14:09:31,152]\u001b[0m Trial 184 finished with value: 0.8144444444444444 and parameters: {'n_estimators': 405, 'criterion': 'gini', 'max_depth': 29, 'min_samples_leaf': 5, 'min_samples_split': 0.02036014991718999, 'max_leaf_nodes': 46}. Best is trial 181 with value: 0.8188888888888888.\u001b[0m\n",
      "\u001b[32m[I 2022-12-01 14:09:32,908]\u001b[0m Trial 185 finished with value: 0.8099999999999999 and parameters: {'n_estimators': 384, 'criterion': 'gini', 'max_depth': 20, 'min_samples_leaf': 3, 'min_samples_split': 0.024124123019330725, 'max_leaf_nodes': 44}. Best is trial 181 with value: 0.8188888888888888.\u001b[0m\n",
      "\u001b[32m[I 2022-12-01 14:09:34,691]\u001b[0m Trial 186 finished with value: 0.8111111111111111 and parameters: {'n_estimators': 411, 'criterion': 'gini', 'max_depth': 28, 'min_samples_leaf': 1, 'min_samples_split': 0.05552080118130956, 'max_leaf_nodes': 46}. Best is trial 181 with value: 0.8188888888888888.\u001b[0m\n",
      "\u001b[32m[I 2022-12-01 14:09:35,846]\u001b[0m Trial 187 finished with value: 0.8122222222222222 and parameters: {'n_estimators': 268, 'criterion': 'gini', 'max_depth': 23, 'min_samples_leaf': 6, 'min_samples_split': 5.713213954837773e-05, 'max_leaf_nodes': 46}. Best is trial 181 with value: 0.8188888888888888.\u001b[0m\n",
      "\u001b[32m[I 2022-12-01 14:09:37,413]\u001b[0m Trial 188 finished with value: 0.8033333333333333 and parameters: {'n_estimators': 419, 'criterion': 'gini', 'max_depth': 29, 'min_samples_leaf': 4, 'min_samples_split': 0.08185838950355048, 'max_leaf_nodes': 48}. Best is trial 181 with value: 0.8188888888888888.\u001b[0m\n"
     ]
    },
    {
     "name": "stderr",
     "output_type": "stream",
     "text": [
      "\u001b[32m[I 2022-12-01 14:09:39,042]\u001b[0m Trial 189 finished with value: 0.8066666666666666 and parameters: {'n_estimators': 401, 'criterion': 'gini', 'max_depth': 25, 'min_samples_leaf': 2, 'min_samples_split': 0.03732355886499861, 'max_leaf_nodes': 49}. Best is trial 181 with value: 0.8188888888888888.\u001b[0m\n",
      "\u001b[32m[I 2022-12-01 14:09:40,517]\u001b[0m Trial 190 finished with value: 0.8122222222222222 and parameters: {'n_estimators': 363, 'criterion': 'gini', 'max_depth': 18, 'min_samples_leaf': 7, 'min_samples_split': 0.023790394411681175, 'max_leaf_nodes': 44}. Best is trial 181 with value: 0.8188888888888888.\u001b[0m\n",
      "\u001b[32m[I 2022-12-01 14:09:41,401]\u001b[0m Trial 191 finished with value: 0.7866666666666667 and parameters: {'n_estimators': 307, 'criterion': 'gini', 'max_depth': 22, 'min_samples_leaf': 5, 'min_samples_split': 0.3434636982216713, 'max_leaf_nodes': 46}. Best is trial 181 with value: 0.8188888888888888.\u001b[0m\n",
      "\u001b[32m[I 2022-12-01 14:09:42,786]\u001b[0m Trial 192 finished with value: 0.8111111111111111 and parameters: {'n_estimators': 329, 'criterion': 'gini', 'max_depth': 23, 'min_samples_leaf': 4, 'min_samples_split': 0.019180403126333755, 'max_leaf_nodes': 45}. Best is trial 181 with value: 0.8188888888888888.\u001b[0m\n",
      "\u001b[32m[I 2022-12-01 14:09:44,375]\u001b[0m Trial 193 finished with value: 0.8066666666666666 and parameters: {'n_estimators': 375, 'criterion': 'gini', 'max_depth': 19, 'min_samples_leaf': 3, 'min_samples_split': 0.02058315247916387, 'max_leaf_nodes': 43}. Best is trial 181 with value: 0.8188888888888888.\u001b[0m\n",
      "\u001b[32m[I 2022-12-01 14:09:45,685]\u001b[0m Trial 194 finished with value: 0.8022222222222222 and parameters: {'n_estimators': 316, 'criterion': 'gini', 'max_depth': 11, 'min_samples_leaf': 1, 'min_samples_split': 0.04327641420690719, 'max_leaf_nodes': 46}. Best is trial 181 with value: 0.8188888888888888.\u001b[0m\n",
      "\u001b[32m[I 2022-12-01 14:09:47,559]\u001b[0m Trial 195 finished with value: 0.8111111111111111 and parameters: {'n_estimators': 406, 'criterion': 'gini', 'max_depth': 26, 'min_samples_leaf': 5, 'min_samples_split': 0.0010066914649487155, 'max_leaf_nodes': 45}. Best is trial 181 with value: 0.8188888888888888.\u001b[0m\n",
      "\u001b[32m[I 2022-12-01 14:09:49,008]\u001b[0m Trial 196 finished with value: 0.8077777777777777 and parameters: {'n_estimators': 349, 'criterion': 'gini', 'max_depth': 18, 'min_samples_leaf': 2, 'min_samples_split': 0.05079514443437025, 'max_leaf_nodes': 47}. Best is trial 181 with value: 0.8188888888888888.\u001b[0m\n",
      "\u001b[32m[I 2022-12-01 14:09:50,213]\u001b[0m Trial 197 finished with value: 0.8122222222222222 and parameters: {'n_estimators': 296, 'criterion': 'gini', 'max_depth': 15, 'min_samples_leaf': 3, 'min_samples_split': 0.019609974985747753, 'max_leaf_nodes': 48}. Best is trial 181 with value: 0.8188888888888888.\u001b[0m\n",
      "\u001b[32m[I 2022-12-01 14:09:51,844]\u001b[0m Trial 198 finished with value: 0.8044444444444444 and parameters: {'n_estimators': 426, 'criterion': 'gini', 'max_depth': 24, 'min_samples_leaf': 2, 'min_samples_split': 0.06514106997503999, 'max_leaf_nodes': 47}. Best is trial 181 with value: 0.8188888888888888.\u001b[0m\n",
      "\u001b[32m[I 2022-12-01 14:09:53,313]\u001b[0m Trial 199 finished with value: 0.8155555555555555 and parameters: {'n_estimators': 335, 'criterion': 'gini', 'max_depth': 20, 'min_samples_leaf': 6, 'min_samples_split': 0.0005344577381821911, 'max_leaf_nodes': 45}. Best is trial 181 with value: 0.8188888888888888.\u001b[0m\n",
      "\u001b[32m[I 2022-12-01 14:09:55,065]\u001b[0m Trial 200 finished with value: 0.8066666666666666 and parameters: {'n_estimators': 432, 'criterion': 'gini', 'max_depth': 19, 'min_samples_leaf': 4, 'min_samples_split': 0.03348096879587668, 'max_leaf_nodes': 44}. Best is trial 181 with value: 0.8188888888888888.\u001b[0m\n",
      "\u001b[32m[I 2022-12-01 14:09:56,911]\u001b[0m Trial 201 finished with value: 0.8133333333333332 and parameters: {'n_estimators': 417, 'criterion': 'gini', 'max_depth': 20, 'min_samples_leaf': 6, 'min_samples_split': 0.013554850830049633, 'max_leaf_nodes': 43}. Best is trial 181 with value: 0.8188888888888888.\u001b[0m\n",
      "\u001b[32m[I 2022-12-01 14:09:58,388]\u001b[0m Trial 202 finished with value: 0.8088888888888889 and parameters: {'n_estimators': 335, 'criterion': 'gini', 'max_depth': 20, 'min_samples_leaf': 6, 'min_samples_split': 0.01668830452211005, 'max_leaf_nodes': 43}. Best is trial 181 with value: 0.8188888888888888.\u001b[0m\n",
      "\u001b[32m[I 2022-12-01 14:10:00,175]\u001b[0m Trial 203 finished with value: 0.8122222222222222 and parameters: {'n_estimators': 412, 'criterion': 'gini', 'max_depth': 22, 'min_samples_leaf': 6, 'min_samples_split': 0.00059688724483313, 'max_leaf_nodes': 45}. Best is trial 181 with value: 0.8188888888888888.\u001b[0m\n",
      "\u001b[32m[I 2022-12-01 14:10:01,460]\u001b[0m Trial 204 finished with value: 0.8055555555555556 and parameters: {'n_estimators': 322, 'criterion': 'gini', 'max_depth': 16, 'min_samples_leaf': 5, 'min_samples_split': 0.03883247118607696, 'max_leaf_nodes': 46}. Best is trial 181 with value: 0.8188888888888888.\u001b[0m\n",
      "\u001b[32m[I 2022-12-01 14:10:02,918]\u001b[0m Trial 205 finished with value: 0.8122222222222222 and parameters: {'n_estimators': 341, 'criterion': 'gini', 'max_depth': 21, 'min_samples_leaf': 5, 'min_samples_split': 0.01829199964035108, 'max_leaf_nodes': 46}. Best is trial 181 with value: 0.8188888888888888.\u001b[0m\n",
      "\u001b[32m[I 2022-12-01 14:10:04,792]\u001b[0m Trial 206 finished with value: 0.8055555555555556 and parameters: {'n_estimators': 464, 'criterion': 'gini', 'max_depth': 11, 'min_samples_leaf': 7, 'min_samples_split': 0.037997587829397224, 'max_leaf_nodes': 44}. Best is trial 181 with value: 0.8188888888888888.\u001b[0m\n",
      "\u001b[32m[I 2022-12-01 14:10:06,001]\u001b[0m Trial 207 finished with value: 0.8111111111111111 and parameters: {'n_estimators': 280, 'criterion': 'gini', 'max_depth': 18, 'min_samples_leaf': 3, 'min_samples_split': 0.01814428741680813, 'max_leaf_nodes': 42}. Best is trial 181 with value: 0.8188888888888888.\u001b[0m\n",
      "\u001b[32m[I 2022-12-01 14:10:07,321]\u001b[0m Trial 208 finished with value: 0.8 and parameters: {'n_estimators': 349, 'criterion': 'gini', 'max_depth': 24, 'min_samples_leaf': 1, 'min_samples_split': 0.059539828485916414, 'max_leaf_nodes': 45}. Best is trial 181 with value: 0.8188888888888888.\u001b[0m\n",
      "\u001b[32m[I 2022-12-01 14:10:09,009]\u001b[0m Trial 209 finished with value: 0.8088888888888889 and parameters: {'n_estimators': 417, 'criterion': 'gini', 'max_depth': 26, 'min_samples_leaf': 7, 'min_samples_split': 0.0004889003549733792, 'max_leaf_nodes': 44}. Best is trial 181 with value: 0.8188888888888888.\u001b[0m\n",
      "\u001b[32m[I 2022-12-01 14:10:10,776]\u001b[0m Trial 210 finished with value: 0.8099999999999999 and parameters: {'n_estimators': 442, 'criterion': 'gini', 'max_depth': 14, 'min_samples_leaf': 2, 'min_samples_split': 0.04133721817934267, 'max_leaf_nodes': 47}. Best is trial 181 with value: 0.8188888888888888.\u001b[0m\n",
      "\u001b[32m[I 2022-12-01 14:10:12,471]\u001b[0m Trial 211 finished with value: 0.8055555555555556 and parameters: {'n_estimators': 391, 'criterion': 'gini', 'max_depth': 17, 'min_samples_leaf': 4, 'min_samples_split': 0.0008805731319674573, 'max_leaf_nodes': 45}. Best is trial 181 with value: 0.8188888888888888.\u001b[0m\n",
      "\u001b[32m[I 2022-12-01 14:10:14,533]\u001b[0m Trial 212 finished with value: 0.8133333333333332 and parameters: {'n_estimators': 470, 'criterion': 'gini', 'max_depth': 22, 'min_samples_leaf': 3, 'min_samples_split': 0.0010657293534670092, 'max_leaf_nodes': 46}. Best is trial 181 with value: 0.8188888888888888.\u001b[0m\n",
      "\u001b[32m[I 2022-12-01 14:10:16,529]\u001b[0m Trial 213 finished with value: 0.8077777777777777 and parameters: {'n_estimators': 471, 'criterion': 'gini', 'max_depth': 12, 'min_samples_leaf': 3, 'min_samples_split': 0.02277434217747557, 'max_leaf_nodes': 47}. Best is trial 181 with value: 0.8188888888888888.\u001b[0m\n",
      "\u001b[32m[I 2022-12-01 14:10:18,000]\u001b[0m Trial 214 finished with value: 0.8155555555555555 and parameters: {'n_estimators': 338, 'criterion': 'gini', 'max_depth': 10, 'min_samples_leaf': 1, 'min_samples_split': 0.0014871185910953436, 'max_leaf_nodes': 49}. Best is trial 181 with value: 0.8188888888888888.\u001b[0m\n",
      "\u001b[32m[I 2022-12-01 14:10:19,387]\u001b[0m Trial 215 finished with value: 0.8111111111111111 and parameters: {'n_estimators': 331, 'criterion': 'gini', 'max_depth': 10, 'min_samples_leaf': 4, 'min_samples_split': 0.022309319369164214, 'max_leaf_nodes': 49}. Best is trial 181 with value: 0.8188888888888888.\u001b[0m\n"
     ]
    },
    {
     "name": "stderr",
     "output_type": "stream",
     "text": [
      "\u001b[32m[I 2022-12-01 14:10:20,989]\u001b[0m Trial 216 finished with value: 0.8133333333333332 and parameters: {'n_estimators': 359, 'criterion': 'gini', 'max_depth': 21, 'min_samples_leaf': 1, 'min_samples_split': 0.00027087712666997745, 'max_leaf_nodes': 49}. Best is trial 181 with value: 0.8188888888888888.\u001b[0m\n",
      "\u001b[32m[I 2022-12-01 14:10:22,509]\u001b[0m Trial 217 finished with value: 0.8077777777777777 and parameters: {'n_estimators': 353, 'criterion': 'gini', 'max_depth': 23, 'min_samples_leaf': 1, 'min_samples_split': 0.0016342304571459092, 'max_leaf_nodes': 50}. Best is trial 181 with value: 0.8188888888888888.\u001b[0m\n",
      "\u001b[32m[I 2022-12-01 14:10:24,021]\u001b[0m Trial 218 finished with value: 0.8088888888888889 and parameters: {'n_estimators': 359, 'criterion': 'gini', 'max_depth': 20, 'min_samples_leaf': 1, 'min_samples_split': 0.035826425678133676, 'max_leaf_nodes': 49}. Best is trial 181 with value: 0.8188888888888888.\u001b[0m\n",
      "\u001b[32m[I 2022-12-01 14:10:24,935]\u001b[0m Trial 219 finished with value: 0.7733333333333333 and parameters: {'n_estimators': 334, 'criterion': 'gini', 'max_depth': 22, 'min_samples_leaf': 2, 'min_samples_split': 0.4219686575521525, 'max_leaf_nodes': 49}. Best is trial 181 with value: 0.8188888888888888.\u001b[0m\n",
      "\u001b[32m[I 2022-12-01 14:10:26,989]\u001b[0m Trial 220 finished with value: 0.8111111111111111 and parameters: {'n_estimators': 479, 'criterion': 'gini', 'max_depth': 30, 'min_samples_leaf': 3, 'min_samples_split': 3.40159251554043e-05, 'max_leaf_nodes': 42}. Best is trial 181 with value: 0.8188888888888888.\u001b[0m\n",
      "\u001b[32m[I 2022-12-01 14:10:28,698]\u001b[0m Trial 221 finished with value: 0.8099999999999999 and parameters: {'n_estimators': 401, 'criterion': 'gini', 'max_depth': 26, 'min_samples_leaf': 3, 'min_samples_split': 0.02414694536556682, 'max_leaf_nodes': 43}. Best is trial 181 with value: 0.8188888888888888.\u001b[0m\n",
      "\u001b[32m[I 2022-12-01 14:10:30,518]\u001b[0m Trial 222 finished with value: 0.8088888888888889 and parameters: {'n_estimators': 431, 'criterion': 'gini', 'max_depth': 17, 'min_samples_leaf': 4, 'min_samples_split': 0.021081259283093057, 'max_leaf_nodes': 43}. Best is trial 181 with value: 0.8188888888888888.\u001b[0m\n",
      "\u001b[32m[I 2022-12-01 14:10:32,013]\u001b[0m Trial 223 finished with value: 0.8088888888888889 and parameters: {'n_estimators': 340, 'criterion': 'gini', 'max_depth': 20, 'min_samples_leaf': 1, 'min_samples_split': 0.04696048640373296, 'max_leaf_nodes': 48}. Best is trial 181 with value: 0.8188888888888888.\u001b[0m\n",
      "\u001b[32m[I 2022-12-01 14:10:33,948]\u001b[0m Trial 224 finished with value: 0.8033333333333333 and parameters: {'n_estimators': 456, 'criterion': 'gini', 'max_depth': 8, 'min_samples_leaf': 2, 'min_samples_split': 0.0199868476961726, 'max_leaf_nodes': 47}. Best is trial 181 with value: 0.8188888888888888.\u001b[0m\n",
      "\u001b[32m[I 2022-12-01 14:10:35,191]\u001b[0m Trial 225 finished with value: 0.8122222222222222 and parameters: {'n_estimators': 316, 'criterion': 'gini', 'max_depth': 13, 'min_samples_leaf': 2, 'min_samples_split': 0.034684015989215666, 'max_leaf_nodes': 45}. Best is trial 181 with value: 0.8188888888888888.\u001b[0m\n",
      "\u001b[32m[I 2022-12-01 14:10:36,618]\u001b[0m Trial 226 finished with value: 0.8066666666666666 and parameters: {'n_estimators': 372, 'criterion': 'gini', 'max_depth': 24, 'min_samples_leaf': 1, 'min_samples_split': 0.05634954420543993, 'max_leaf_nodes': 41}. Best is trial 181 with value: 0.8188888888888888.\u001b[0m\n",
      "\u001b[32m[I 2022-12-01 14:10:38,189]\u001b[0m Trial 227 finished with value: 0.8055555555555556 and parameters: {'n_estimators': 382, 'criterion': 'gini', 'max_depth': 15, 'min_samples_leaf': 5, 'min_samples_split': 0.0008902921867109895, 'max_leaf_nodes': 46}. Best is trial 181 with value: 0.8188888888888888.\u001b[0m\n",
      "\u001b[32m[I 2022-12-01 14:10:39,835]\u001b[0m Trial 228 finished with value: 0.8088888888888889 and parameters: {'n_estimators': 398, 'criterion': 'gini', 'max_depth': 28, 'min_samples_leaf': 6, 'min_samples_split': 0.019355569386893156, 'max_leaf_nodes': 44}. Best is trial 181 with value: 0.8188888888888888.\u001b[0m\n",
      "\u001b[32m[I 2022-12-01 14:10:41,674]\u001b[0m Trial 229 finished with value: 0.8122222222222222 and parameters: {'n_estimators': 449, 'criterion': 'gini', 'max_depth': 10, 'min_samples_leaf': 4, 'min_samples_split': 0.041807557752243034, 'max_leaf_nodes': 47}. Best is trial 181 with value: 0.8188888888888888.\u001b[0m\n",
      "\u001b[32m[I 2022-12-01 14:10:43,025]\u001b[0m Trial 230 finished with value: 0.8066666666666666 and parameters: {'n_estimators': 326, 'criterion': 'gini', 'max_depth': 12, 'min_samples_leaf': 2, 'min_samples_split': 0.07499715640977764, 'max_leaf_nodes': 45}. Best is trial 181 with value: 0.8188888888888888.\u001b[0m\n",
      "\u001b[32m[I 2022-12-01 14:10:45,218]\u001b[0m Trial 231 finished with value: 0.8066666666666666 and parameters: {'n_estimators': 419, 'criterion': 'gini', 'max_depth': 18, 'min_samples_leaf': 5, 'min_samples_split': 0.018111648012558938, 'max_leaf_nodes': 43}. Best is trial 181 with value: 0.8188888888888888.\u001b[0m\n",
      "\u001b[32m[I 2022-12-01 14:10:46,978]\u001b[0m Trial 232 finished with value: 0.8088888888888889 and parameters: {'n_estimators': 411, 'criterion': 'gini', 'max_depth': 15, 'min_samples_leaf': 3, 'min_samples_split': 0.0009028205275177135, 'max_leaf_nodes': 44}. Best is trial 181 with value: 0.8188888888888888.\u001b[0m\n",
      "\u001b[32m[I 2022-12-01 14:10:48,516]\u001b[0m Trial 233 finished with value: 0.8099999999999999 and parameters: {'n_estimators': 346, 'criterion': 'gini', 'max_depth': 20, 'min_samples_leaf': 1, 'min_samples_split': 0.01949640894712469, 'max_leaf_nodes': 48}. Best is trial 181 with value: 0.8188888888888888.\u001b[0m\n",
      "\u001b[32m[I 2022-12-01 14:10:49,808]\u001b[0m Trial 234 finished with value: 0.8033333333333333 and parameters: {'n_estimators': 370, 'criterion': 'gini', 'max_depth': 22, 'min_samples_leaf': 28, 'min_samples_split': 0.01651524846647324, 'max_leaf_nodes': 46}. Best is trial 181 with value: 0.8188888888888888.\u001b[0m\n",
      "\u001b[32m[I 2022-12-01 14:10:51,849]\u001b[0m Trial 235 finished with value: 0.8099999999999999 and parameters: {'n_estimators': 467, 'criterion': 'gini', 'max_depth': 10, 'min_samples_leaf': 3, 'min_samples_split': 0.0013501610223316616, 'max_leaf_nodes': 46}. Best is trial 181 with value: 0.8188888888888888.\u001b[0m\n",
      "\u001b[32m[I 2022-12-01 14:10:53,636]\u001b[0m Trial 236 finished with value: 0.8111111111111111 and parameters: {'n_estimators': 463, 'criterion': 'gini', 'max_depth': 23, 'min_samples_leaf': 4, 'min_samples_split': 0.03661357841943493, 'max_leaf_nodes': 42}. Best is trial 181 with value: 0.8188888888888888.\u001b[0m\n",
      "\u001b[32m[I 2022-12-01 14:10:54,880]\u001b[0m Trial 237 finished with value: 0.7977777777777778 and parameters: {'n_estimators': 360, 'criterion': 'gini', 'max_depth': 25, 'min_samples_leaf': 36, 'min_samples_split': 0.0009732281101497702, 'max_leaf_nodes': 48}. Best is trial 181 with value: 0.8188888888888888.\u001b[0m\n",
      "\u001b[32m[I 2022-12-01 14:10:56,531]\u001b[0m Trial 238 finished with value: 0.8066666666666666 and parameters: {'n_estimators': 385, 'criterion': 'gini', 'max_depth': 21, 'min_samples_leaf': 1, 'min_samples_split': 0.03401874685559937, 'max_leaf_nodes': 41}. Best is trial 181 with value: 0.8188888888888888.\u001b[0m\n",
      "\u001b[32m[I 2022-12-01 14:10:58,269]\u001b[0m Trial 239 finished with value: 0.8055555555555556 and parameters: {'n_estimators': 440, 'criterion': 'gini', 'max_depth': 13, 'min_samples_leaf': 2, 'min_samples_split': 0.05626512558555234, 'max_leaf_nodes': 47}. Best is trial 181 with value: 0.8188888888888888.\u001b[0m\n",
      "\u001b[32m[I 2022-12-01 14:11:00,039]\u001b[0m Trial 240 finished with value: 0.8099999999999999 and parameters: {'n_estimators': 425, 'criterion': 'gini', 'max_depth': 8, 'min_samples_leaf': 3, 'min_samples_split': 0.019844126928589518, 'max_leaf_nodes': 45}. Best is trial 181 with value: 0.8188888888888888.\u001b[0m\n",
      "\u001b[32m[I 2022-12-01 14:11:02,129]\u001b[0m Trial 241 finished with value: 0.8111111111111111 and parameters: {'n_estimators': 489, 'criterion': 'log_loss', 'max_depth': 22, 'min_samples_leaf': 6, 'min_samples_split': 0.0016684695540337587, 'max_leaf_nodes': 44}. Best is trial 181 with value: 0.8188888888888888.\u001b[0m\n",
      "\u001b[32m[I 2022-12-01 14:11:03,991]\u001b[0m Trial 242 finished with value: 0.8111111111111111 and parameters: {'n_estimators': 457, 'criterion': 'gini', 'max_depth': 20, 'min_samples_leaf': 4, 'min_samples_split': 0.0005035619344118166, 'max_leaf_nodes': 46}. Best is trial 181 with value: 0.8188888888888888.\u001b[0m\n"
     ]
    },
    {
     "name": "stderr",
     "output_type": "stream",
     "text": [
      "\u001b[32m[I 2022-12-01 14:11:05,619]\u001b[0m Trial 243 finished with value: 0.8044444444444444 and parameters: {'n_estimators': 409, 'criterion': 'gini', 'max_depth': 19, 'min_samples_leaf': 3, 'min_samples_split': 0.024853087985959324, 'max_leaf_nodes': 45}. Best is trial 181 with value: 0.8188888888888888.\u001b[0m\n",
      "\u001b[32m[I 2022-12-01 14:11:07,347]\u001b[0m Trial 244 finished with value: 0.8077777777777777 and parameters: {'n_estimators': 440, 'criterion': 'gini', 'max_depth': 17, 'min_samples_leaf': 5, 'min_samples_split': 0.019077682347448208, 'max_leaf_nodes': 43}. Best is trial 181 with value: 0.8188888888888888.\u001b[0m\n",
      "\u001b[32m[I 2022-12-01 14:11:09,210]\u001b[0m Trial 245 finished with value: 0.8044444444444444 and parameters: {'n_estimators': 476, 'criterion': 'gini', 'max_depth': 23, 'min_samples_leaf': 2, 'min_samples_split': 0.03997986458258617, 'max_leaf_nodes': 48}. Best is trial 181 with value: 0.8188888888888888.\u001b[0m\n",
      "\u001b[32m[I 2022-12-01 14:11:10,552]\u001b[0m Trial 246 finished with value: 0.7922222222222223 and parameters: {'n_estimators': 431, 'criterion': 'gini', 'max_depth': 24, 'min_samples_leaf': 43, 'min_samples_split': 0.00085830257714302, 'max_leaf_nodes': 46}. Best is trial 181 with value: 0.8188888888888888.\u001b[0m\n",
      "\u001b[32m[I 2022-12-01 14:11:12,058]\u001b[0m Trial 247 finished with value: 0.8088888888888889 and parameters: {'n_estimators': 353, 'criterion': 'gini', 'max_depth': 14, 'min_samples_leaf': 1, 'min_samples_split': 0.033891015249783905, 'max_leaf_nodes': 47}. Best is trial 181 with value: 0.8188888888888888.\u001b[0m\n",
      "\u001b[32m[I 2022-12-01 14:11:13,489]\u001b[0m Trial 248 finished with value: 0.8044444444444444 and parameters: {'n_estimators': 369, 'criterion': 'gini', 'max_depth': 6, 'min_samples_leaf': 2, 'min_samples_split': 0.020645987558274518, 'max_leaf_nodes': 50}. Best is trial 181 with value: 0.8188888888888888.\u001b[0m\n",
      "\u001b[32m[I 2022-12-01 14:11:14,958]\u001b[0m Trial 249 finished with value: 0.8077777777777777 and parameters: {'n_estimators': 342, 'criterion': 'gini', 'max_depth': 11, 'min_samples_leaf': 2, 'min_samples_split': 0.05348407063213906, 'max_leaf_nodes': 46}. Best is trial 181 with value: 0.8188888888888888.\u001b[0m\n",
      "\u001b[32m[I 2022-12-01 14:11:17,043]\u001b[0m Trial 250 finished with value: 0.8011111111111111 and parameters: {'n_estimators': 456, 'criterion': 'gini', 'max_depth': 21, 'min_samples_leaf': 4, 'min_samples_split': 0.020258354875647963, 'max_leaf_nodes': 45}. Best is trial 181 with value: 0.8188888888888888.\u001b[0m\n",
      "\u001b[32m[I 2022-12-01 14:11:18,804]\u001b[0m Trial 251 finished with value: 0.8077777777777777 and parameters: {'n_estimators': 399, 'criterion': 'gini', 'max_depth': 18, 'min_samples_leaf': 6, 'min_samples_split': 0.01720794136285949, 'max_leaf_nodes': 44}. Best is trial 181 with value: 0.8188888888888888.\u001b[0m\n",
      "\u001b[32m[I 2022-12-01 14:11:20,218]\u001b[0m Trial 252 finished with value: 0.7933333333333333 and parameters: {'n_estimators': 419, 'criterion': 'gini', 'max_depth': 15, 'min_samples_leaf': 1, 'min_samples_split': 0.2393459904551398, 'max_leaf_nodes': 43}. Best is trial 181 with value: 0.8188888888888888.\u001b[0m\n",
      "\u001b[32m[I 2022-12-01 14:11:22,348]\u001b[0m Trial 253 finished with value: 0.8088888888888889 and parameters: {'n_estimators': 448, 'criterion': 'entropy', 'max_depth': 25, 'min_samples_leaf': 3, 'min_samples_split': 0.0012453262005462408, 'max_leaf_nodes': 48}. Best is trial 181 with value: 0.8188888888888888.\u001b[0m\n",
      "\u001b[32m[I 2022-12-01 14:11:23,938]\u001b[0m Trial 254 finished with value: 0.8055555555555556 and parameters: {'n_estimators': 388, 'criterion': 'gini', 'max_depth': 9, 'min_samples_leaf': 2, 'min_samples_split': 0.04106492130526905, 'max_leaf_nodes': 47}. Best is trial 181 with value: 0.8188888888888888.\u001b[0m\n",
      "\u001b[32m[I 2022-12-01 14:11:25,403]\u001b[0m Trial 255 finished with value: 0.8088888888888889 and parameters: {'n_estimators': 336, 'criterion': 'gini', 'max_depth': 16, 'min_samples_leaf': 5, 'min_samples_split': 0.0007884912926267977, 'max_leaf_nodes': 42}. Best is trial 181 with value: 0.8188888888888888.\u001b[0m\n",
      "\u001b[32m[I 2022-12-01 14:11:25,965]\u001b[0m Trial 256 finished with value: 0.5155555555555555 and parameters: {'n_estimators': 241, 'criterion': 'entropy', 'max_depth': 20, 'min_samples_leaf': 4, 'min_samples_split': 0.9463630096103066, 'max_leaf_nodes': 45}. Best is trial 181 with value: 0.8188888888888888.\u001b[0m\n",
      "\u001b[32m[I 2022-12-01 14:11:27,178]\u001b[0m Trial 257 finished with value: 0.8044444444444444 and parameters: {'n_estimators': 302, 'criterion': 'gini', 'max_depth': 13, 'min_samples_leaf': 7, 'min_samples_split': 0.04251004816685302, 'max_leaf_nodes': 44}. Best is trial 181 with value: 0.8188888888888888.\u001b[0m\n",
      "\u001b[32m[I 2022-12-01 14:11:28,846]\u001b[0m Trial 258 finished with value: 0.8122222222222222 and parameters: {'n_estimators': 355, 'criterion': 'gini', 'max_depth': 27, 'min_samples_leaf': 1, 'min_samples_split': 0.02183430809012479, 'max_leaf_nodes': 42}. Best is trial 181 with value: 0.8188888888888888.\u001b[0m\n",
      "\u001b[32m[I 2022-12-01 14:11:30,504]\u001b[0m Trial 259 finished with value: 0.8022222222222222 and parameters: {'n_estimators': 414, 'criterion': 'gini', 'max_depth': 22, 'min_samples_leaf': 3, 'min_samples_split': 0.061677833761996315, 'max_leaf_nodes': 49}. Best is trial 181 with value: 0.8188888888888888.\u001b[0m\n",
      "\u001b[32m[I 2022-12-01 14:11:32,762]\u001b[0m Trial 260 finished with value: 0.8077777777777777 and parameters: {'n_estimators': 472, 'criterion': 'log_loss', 'max_depth': 89, 'min_samples_leaf': 4, 'min_samples_split': 0.03244751578391864, 'max_leaf_nodes': 46}. Best is trial 181 with value: 0.8188888888888888.\u001b[0m\n",
      "\u001b[32m[I 2022-12-01 14:11:34,407]\u001b[0m Trial 261 finished with value: 0.8099999999999999 and parameters: {'n_estimators': 364, 'criterion': 'gini', 'max_depth': 21, 'min_samples_leaf': 2, 'min_samples_split': 0.0003435264567134588, 'max_leaf_nodes': 43}. Best is trial 181 with value: 0.8188888888888888.\u001b[0m\n",
      "\u001b[32m[I 2022-12-01 14:11:36,121]\u001b[0m Trial 262 finished with value: 0.8044444444444444 and parameters: {'n_estimators': 433, 'criterion': 'entropy', 'max_depth': 18, 'min_samples_leaf': 1, 'min_samples_split': 0.01843380681066705, 'max_leaf_nodes': 13}. Best is trial 181 with value: 0.8188888888888888.\u001b[0m\n",
      "\u001b[32m[I 2022-12-01 14:11:37,817]\u001b[0m Trial 263 finished with value: 0.8099999999999999 and parameters: {'n_estimators': 376, 'criterion': 'entropy', 'max_depth': 23, 'min_samples_leaf': 5, 'min_samples_split': 0.04787447919185009, 'max_leaf_nodes': 23}. Best is trial 181 with value: 0.8188888888888888.\u001b[0m\n",
      "\u001b[32m[I 2022-12-01 14:11:39,693]\u001b[0m Trial 264 finished with value: 0.8144444444444444 and parameters: {'n_estimators': 452, 'criterion': 'gini', 'max_depth': 12, 'min_samples_leaf': 8, 'min_samples_split': 0.016339044162395965, 'max_leaf_nodes': 44}. Best is trial 181 with value: 0.8188888888888888.\u001b[0m\n",
      "\u001b[32m[I 2022-12-01 14:11:41,332]\u001b[0m Trial 265 finished with value: 0.8099999999999999 and parameters: {'n_estimators': 464, 'criterion': 'gini', 'max_depth': 10, 'min_samples_leaf': 9, 'min_samples_split': 0.07029112368146817, 'max_leaf_nodes': 45}. Best is trial 181 with value: 0.8188888888888888.\u001b[0m\n",
      "\u001b[32m[I 2022-12-01 14:11:42,683]\u001b[0m Trial 266 finished with value: 0.8077777777777777 and parameters: {'n_estimators': 322, 'criterion': 'entropy', 'max_depth': 11, 'min_samples_leaf': 7, 'min_samples_split': 0.03377101726582134, 'max_leaf_nodes': 40}. Best is trial 181 with value: 0.8188888888888888.\u001b[0m\n",
      "\u001b[32m[I 2022-12-01 14:11:44,554]\u001b[0m Trial 267 finished with value: 0.8122222222222222 and parameters: {'n_estimators': 442, 'criterion': 'gini', 'max_depth': 12, 'min_samples_leaf': 8, 'min_samples_split': 0.01811505726125643, 'max_leaf_nodes': 47}. Best is trial 181 with value: 0.8188888888888888.\u001b[0m\n",
      "\u001b[32m[I 2022-12-01 14:11:46,019]\u001b[0m Trial 268 finished with value: 0.8066666666666666 and parameters: {'n_estimators': 350, 'criterion': 'gini', 'max_depth': 26, 'min_samples_leaf': 3, 'min_samples_split': 0.049902714485069444, 'max_leaf_nodes': 43}. Best is trial 181 with value: 0.8188888888888888.\u001b[0m\n",
      "\u001b[32m[I 2022-12-01 14:11:47,413]\u001b[0m Trial 269 finished with value: 0.8088888888888889 and parameters: {'n_estimators': 276, 'criterion': 'gini', 'max_depth': 24, 'min_samples_leaf': 2, 'min_samples_split': 0.016720256812292167, 'max_leaf_nodes': 41}. Best is trial 181 with value: 0.8188888888888888.\u001b[0m\n"
     ]
    },
    {
     "name": "stderr",
     "output_type": "stream",
     "text": [
      "\u001b[32m[I 2022-12-01 14:11:48,326]\u001b[0m Trial 270 finished with value: 0.8033333333333333 and parameters: {'n_estimators': 224, 'criterion': 'gini', 'max_depth': 7, 'min_samples_leaf': 8, 'min_samples_split': 0.035857654429002364, 'max_leaf_nodes': 49}. Best is trial 181 with value: 0.8188888888888888.\u001b[0m\n",
      "\u001b[32m[I 2022-12-01 14:11:50,391]\u001b[0m Trial 271 finished with value: 0.8122222222222222 and parameters: {'n_estimators': 451, 'criterion': 'entropy', 'max_depth': 9, 'min_samples_leaf': 3, 'min_samples_split': 5.12829132541053e-05, 'max_leaf_nodes': 46}. Best is trial 181 with value: 0.8188888888888888.\u001b[0m\n",
      "\u001b[32m[I 2022-12-01 14:11:51,584]\u001b[0m Trial 272 finished with value: 0.8044444444444444 and parameters: {'n_estimators': 258, 'criterion': 'gini', 'max_depth': 16, 'min_samples_leaf': 1, 'min_samples_split': 0.0008523044604266776, 'max_leaf_nodes': 44}. Best is trial 181 with value: 0.8188888888888888.\u001b[0m\n",
      "\u001b[32m[I 2022-12-01 14:11:53,256]\u001b[0m Trial 273 finished with value: 0.8066666666666666 and parameters: {'n_estimators': 402, 'criterion': 'gini', 'max_depth': 15, 'min_samples_leaf': 1, 'min_samples_split': 0.06247199016093301, 'max_leaf_nodes': 42}. Best is trial 181 with value: 0.8188888888888888.\u001b[0m\n",
      "\u001b[32m[I 2022-12-01 14:11:55,053]\u001b[0m Trial 274 finished with value: 0.8099999999999999 and parameters: {'n_estimators': 426, 'criterion': 'gini', 'max_depth': 12, 'min_samples_leaf': 6, 'min_samples_split': 0.018488339208488185, 'max_leaf_nodes': 48}. Best is trial 181 with value: 0.8188888888888888.\u001b[0m\n",
      "\u001b[32m[I 2022-12-01 14:11:56,716]\u001b[0m Trial 275 finished with value: 0.8088888888888889 and parameters: {'n_estimators': 391, 'criterion': 'gini', 'max_depth': 19, 'min_samples_leaf': 4, 'min_samples_split': 0.03466430052981002, 'max_leaf_nodes': 45}. Best is trial 181 with value: 0.8188888888888888.\u001b[0m\n",
      "\u001b[32m[I 2022-12-01 14:11:58,199]\u001b[0m Trial 276 finished with value: 0.8022222222222222 and parameters: {'n_estimators': 422, 'criterion': 'gini', 'max_depth': 4, 'min_samples_leaf': 2, 'min_samples_split': 0.019838682304465786, 'max_leaf_nodes': 44}. Best is trial 181 with value: 0.8188888888888888.\u001b[0m\n",
      "\u001b[32m[I 2022-12-01 14:12:00,703]\u001b[0m Trial 277 finished with value: 0.8066666666666666 and parameters: {'n_estimators': 490, 'criterion': 'entropy', 'max_depth': 13, 'min_samples_leaf': 3, 'min_samples_split': 0.0008829071684423116, 'max_leaf_nodes': 47}. Best is trial 181 with value: 0.8188888888888888.\u001b[0m\n",
      "\u001b[32m[I 2022-12-01 14:12:02,064]\u001b[0m Trial 278 finished with value: 0.8011111111111111 and parameters: {'n_estimators': 339, 'criterion': 'gini', 'max_depth': 17, 'min_samples_leaf': 6, 'min_samples_split': 0.046504791050303924, 'max_leaf_nodes': 43}. Best is trial 181 with value: 0.8188888888888888.\u001b[0m\n",
      "\u001b[32m[I 2022-12-01 14:12:03,206]\u001b[0m Trial 279 finished with value: 0.7922222222222223 and parameters: {'n_estimators': 382, 'criterion': 'gini', 'max_depth': 9, 'min_samples_leaf': 2, 'min_samples_split': 0.29511847040387107, 'max_leaf_nodes': 46}. Best is trial 181 with value: 0.8188888888888888.\u001b[0m\n",
      "\u001b[32m[I 2022-12-01 14:12:04,941]\u001b[0m Trial 280 finished with value: 0.8055555555555556 and parameters: {'n_estimators': 436, 'criterion': 'entropy', 'max_depth': 7, 'min_samples_leaf': 5, 'min_samples_split': 0.08314097851234774, 'max_leaf_nodes': 44}. Best is trial 181 with value: 0.8188888888888888.\u001b[0m\n",
      "\u001b[32m[I 2022-12-01 14:12:06,103]\u001b[0m Trial 281 finished with value: 0.7577777777777778 and parameters: {'n_estimators': 457, 'criterion': 'entropy', 'max_depth': 22, 'min_samples_leaf': 5, 'min_samples_split': 0.5479002909930215, 'max_leaf_nodes': 44}. Best is trial 181 with value: 0.8188888888888888.\u001b[0m\n",
      "\u001b[32m[I 2022-12-01 14:12:07,832]\u001b[0m Trial 282 finished with value: 0.8099999999999999 and parameters: {'n_estimators': 445, 'criterion': 'gini', 'max_depth': 20, 'min_samples_leaf': 7, 'min_samples_split': 0.031357951422557484, 'max_leaf_nodes': 46}. Best is trial 181 with value: 0.8188888888888888.\u001b[0m\n",
      "\u001b[32m[I 2022-12-01 14:12:09,051]\u001b[0m Trial 283 finished with value: 0.7644444444444444 and parameters: {'n_estimators': 407, 'criterion': 'entropy', 'max_depth': 14, 'min_samples_leaf': 4, 'min_samples_split': 0.4918114258732631, 'max_leaf_nodes': 42}. Best is trial 181 with value: 0.8188888888888888.\u001b[0m\n",
      "\u001b[32m[I 2022-12-01 14:12:10,843]\u001b[0m Trial 284 finished with value: 0.8099999999999999 and parameters: {'n_estimators': 416, 'criterion': 'gini', 'max_depth': 10, 'min_samples_leaf': 5, 'min_samples_split': 0.019544594651232802, 'max_leaf_nodes': 50}. Best is trial 181 with value: 0.8188888888888888.\u001b[0m\n",
      "\u001b[32m[I 2022-12-01 14:12:12,727]\u001b[0m Trial 285 finished with value: 0.8066666666666666 and parameters: {'n_estimators': 430, 'criterion': 'log_loss', 'max_depth': 37, 'min_samples_leaf': 8, 'min_samples_split': 0.054166542250565886, 'max_leaf_nodes': 45}. Best is trial 181 with value: 0.8188888888888888.\u001b[0m\n",
      "\u001b[32m[I 2022-12-01 14:12:14,887]\u001b[0m Trial 286 finished with value: 0.8166666666666667 and parameters: {'n_estimators': 482, 'criterion': 'gini', 'max_depth': 28, 'min_samples_leaf': 3, 'min_samples_split': 0.019879150919189795, 'max_leaf_nodes': 45}. Best is trial 181 with value: 0.8188888888888888.\u001b[0m\n",
      "\u001b[32m[I 2022-12-01 14:12:16,147]\u001b[0m Trial 287 finished with value: 0.7944444444444445 and parameters: {'n_estimators': 360, 'criterion': 'gini', 'max_depth': 32, 'min_samples_leaf': 1, 'min_samples_split': 0.03723699042935663, 'max_leaf_nodes': 5}. Best is trial 181 with value: 0.8188888888888888.\u001b[0m\n",
      "\u001b[32m[I 2022-12-01 14:12:18,039]\u001b[0m Trial 288 finished with value: 0.8011111111111111 and parameters: {'n_estimators': 480, 'criterion': 'gini', 'max_depth': 29, 'min_samples_leaf': 3, 'min_samples_split': 0.06857792660245643, 'max_leaf_nodes': 30}. Best is trial 181 with value: 0.8188888888888888.\u001b[0m\n",
      "\u001b[32m[I 2022-12-01 14:12:19,143]\u001b[0m Trial 289 finished with value: 0.5155555555555555 and parameters: {'n_estimators': 471, 'criterion': 'gini', 'max_depth': 27, 'min_samples_leaf': 2, 'min_samples_split': 0.7923815762789266, 'max_leaf_nodes': 45}. Best is trial 181 with value: 0.8188888888888888.\u001b[0m\n",
      "\u001b[32m[I 2022-12-01 14:12:21,293]\u001b[0m Trial 290 finished with value: 0.8099999999999999 and parameters: {'n_estimators': 481, 'criterion': 'gini', 'max_depth': 24, 'min_samples_leaf': 3, 'min_samples_split': 0.01870290128419749, 'max_leaf_nodes': 49}. Best is trial 181 with value: 0.8188888888888888.\u001b[0m\n",
      "\u001b[32m[I 2022-12-01 14:12:23,382]\u001b[0m Trial 291 finished with value: 0.8122222222222222 and parameters: {'n_estimators': 493, 'criterion': 'gini', 'max_depth': 17, 'min_samples_leaf': 1, 'min_samples_split': 0.03499015029819646, 'max_leaf_nodes': 47}. Best is trial 181 with value: 0.8188888888888888.\u001b[0m\n",
      "\u001b[32m[I 2022-12-01 14:12:25,530]\u001b[0m Trial 292 finished with value: 0.82 and parameters: {'n_estimators': 464, 'criterion': 'entropy', 'max_depth': 26, 'min_samples_leaf': 4, 'min_samples_split': 0.0006869006007911953, 'max_leaf_nodes': 46}. Best is trial 292 with value: 0.82.\u001b[0m\n",
      "\u001b[32m[I 2022-12-01 14:12:26,750]\u001b[0m Trial 293 finished with value: 0.8011111111111111 and parameters: {'n_estimators': 327, 'criterion': 'gini', 'max_depth': 30, 'min_samples_leaf': 4, 'min_samples_split': 0.05251185701700944, 'max_leaf_nodes': 43}. Best is trial 292 with value: 0.82.\u001b[0m\n",
      "\u001b[32m[I 2022-12-01 14:12:29,032]\u001b[0m Trial 294 finished with value: 0.8088888888888889 and parameters: {'n_estimators': 462, 'criterion': 'entropy', 'max_depth': 27, 'min_samples_leaf': 3, 'min_samples_split': 0.019497483795528493, 'max_leaf_nodes': 45}. Best is trial 292 with value: 0.82.\u001b[0m\n",
      "\u001b[32m[I 2022-12-01 14:12:31,190]\u001b[0m Trial 295 finished with value: 0.8077777777777777 and parameters: {'n_estimators': 475, 'criterion': 'entropy', 'max_depth': 25, 'min_samples_leaf': 6, 'min_samples_split': 0.017799960455550722, 'max_leaf_nodes': 46}. Best is trial 292 with value: 0.82.\u001b[0m\n",
      "\u001b[32m[I 2022-12-01 14:12:33,080]\u001b[0m Trial 296 finished with value: 0.8066666666666666 and parameters: {'n_estimators': 396, 'criterion': 'entropy', 'max_depth': 28, 'min_samples_leaf': 4, 'min_samples_split': 0.0007460477885291687, 'max_leaf_nodes': 47}. Best is trial 292 with value: 0.82.\u001b[0m\n",
      "\u001b[32m[I 2022-12-01 14:12:34,702]\u001b[0m Trial 297 finished with value: 0.8022222222222222 and parameters: {'n_estimators': 451, 'criterion': 'gini', 'max_depth': 25, 'min_samples_leaf': 24, 'min_samples_split': 0.03548849580361163, 'max_leaf_nodes': 46}. Best is trial 292 with value: 0.82.\u001b[0m\n"
     ]
    },
    {
     "name": "stderr",
     "output_type": "stream",
     "text": [
      "\u001b[32m[I 2022-12-01 14:12:36,760]\u001b[0m Trial 298 finished with value: 0.8088888888888889 and parameters: {'n_estimators': 483, 'criterion': 'gini', 'max_depth': 22, 'min_samples_leaf': 5, 'min_samples_split': 0.0007979338092198025, 'max_leaf_nodes': 44}. Best is trial 292 with value: 0.82.\u001b[0m\n",
      "\u001b[32m[I 2022-12-01 14:12:38,250]\u001b[0m Trial 299 finished with value: 0.8066666666666666 and parameters: {'n_estimators': 405, 'criterion': 'gini', 'max_depth': 26, 'min_samples_leaf': 2, 'min_samples_split': 0.065835991426283, 'max_leaf_nodes': 48}. Best is trial 292 with value: 0.82.\u001b[0m\n"
     ]
    },
    {
     "name": "stdout",
     "output_type": "stream",
     "text": [
      "Accuracy: 0.82\n",
      "Best hyperparameters: {'n_estimators': 464, 'criterion': 'entropy', 'max_depth': 26, 'min_samples_leaf': 4, 'min_samples_split': 0.0006869006007911953, 'max_leaf_nodes': 46}\n"
     ]
    }
   ],
   "source": [
    "# optuna for RF\n",
    "\n",
    "import optuna\n",
    "\n",
    "import sklearn.ensemble\n",
    "import sklearn.model_selection\n",
    "\n",
    "from sklearn import svm\n",
    "\n",
    "Y = train_df['N_category']\n",
    "X = train_df.drop(columns = ['N_category'])\n",
    "\n",
    "\n",
    "xtest = test_df.iloc[:,:]\n",
    "\n",
    "xtrain, xval, ytrain, yval = train_test_split(X,Y,test_size=0.10,random_state=41) \n",
    "\n",
    "def objective(trial):\n",
    "    # iris = sklearn.datasets.load_iris()\n",
    "    \n",
    "    n_estimators = trial.suggest_int('n_estimators', 10, 500)\n",
    "    criterion = trial.suggest_categorical('criterion', ['gini', 'entropy', 'log_loss'])\n",
    "    max_depth = trial.suggest_int('max_depth', 2, 100)\n",
    "    min_samples_leaf = trial.suggest_int('min_samples_leaf', 1, 50)\n",
    "    min_samples_split = trial.suggest_float('min_samples_split', 0, 1)\n",
    "    max_leaf_nodes = trial.suggest_int('max_leaf_nodes', 2, 50)\n",
    "    \n",
    "    clf = RandomForestClassifier(n_estimators=n_estimators, criterion = criterion, max_depth= max_depth, \n",
    "                  min_samples_leaf=min_samples_leaf,\n",
    "                  min_samples_split=min_samples_split,\n",
    "                  max_leaf_nodes=max_leaf_nodes,bootstrap=True)\n",
    "    \n",
    "    return sklearn.model_selection.cross_val_score(\n",
    "        clf, xtrain, ytrain).mean()\n",
    "\n",
    "study = optuna.create_study(direction='maximize')\n",
    "study.optimize(objective, n_trials=300)\n",
    "\n",
    "trial = study.best_trial\n",
    "\n",
    "print('Accuracy: {}'.format(trial.value))\n",
    "print(\"Best hyperparameters: {}\".format(trial.params))"
   ]
  },
  {
   "cell_type": "code",
   "execution_count": null,
   "metadata": {},
   "outputs": [],
   "source": []
  }
 ],
 "metadata": {
  "accelerator": "GPU",
  "colab": {
   "machine_shape": "hm",
   "provenance": []
  },
  "gpuClass": "standard",
  "kernelspec": {
   "display_name": "Python 3 (ipykernel)",
   "language": "python",
   "name": "python3"
  },
  "language_info": {
   "codemirror_mode": {
    "name": "ipython",
    "version": 3
   },
   "file_extension": ".py",
   "mimetype": "text/x-python",
   "name": "python",
   "nbconvert_exporter": "python",
   "pygments_lexer": "ipython3",
   "version": "3.10.6"
  },
  "toc": {
   "base_numbering": 1,
   "nav_menu": {},
   "number_sections": true,
   "sideBar": true,
   "skip_h1_title": false,
   "title_cell": "Table of Contents",
   "title_sidebar": "Contents",
   "toc_cell": false,
   "toc_position": {},
   "toc_section_display": true,
   "toc_window_display": false
  },
  "vscode": {
   "interpreter": {
    "hash": "378073279577637ba3712ee88bf2536aff2caeefc5045edcc66718293fbddbfa"
   }
  },
  "widgets": {
   "application/vnd.jupyter.widget-state+json": {
    "51a1a7947a1a4c1089985ca898331dfe": {
     "model_module": "@jupyter-widgets/base",
     "model_module_version": "1.2.0",
     "model_name": "LayoutModel",
     "state": {
      "_model_module": "@jupyter-widgets/base",
      "_model_module_version": "1.2.0",
      "_model_name": "LayoutModel",
      "_view_count": null,
      "_view_module": "@jupyter-widgets/base",
      "_view_module_version": "1.2.0",
      "_view_name": "LayoutView",
      "align_content": null,
      "align_items": null,
      "align_self": null,
      "border": null,
      "bottom": null,
      "display": null,
      "flex": null,
      "flex_flow": null,
      "grid_area": null,
      "grid_auto_columns": null,
      "grid_auto_flow": null,
      "grid_auto_rows": null,
      "grid_column": null,
      "grid_gap": null,
      "grid_row": null,
      "grid_template_areas": null,
      "grid_template_columns": null,
      "grid_template_rows": null,
      "height": null,
      "justify_content": null,
      "justify_items": null,
      "left": null,
      "margin": null,
      "max_height": null,
      "max_width": null,
      "min_height": null,
      "min_width": null,
      "object_fit": null,
      "object_position": null,
      "order": null,
      "overflow": null,
      "overflow_x": null,
      "overflow_y": null,
      "padding": null,
      "right": null,
      "top": null,
      "visibility": null,
      "width": null
     }
    },
    "54e0f6ff77bf4eccb61b4374b9fab4ae": {
     "model_module": "@jupyter-widgets/controls",
     "model_module_version": "1.5.0",
     "model_name": "FloatProgressModel",
     "state": {
      "_dom_classes": [],
      "_model_module": "@jupyter-widgets/controls",
      "_model_module_version": "1.5.0",
      "_model_name": "FloatProgressModel",
      "_view_count": null,
      "_view_module": "@jupyter-widgets/controls",
      "_view_module_version": "1.5.0",
      "_view_name": "ProgressView",
      "bar_style": "",
      "description": "",
      "description_tooltip": null,
      "layout": "IPY_MODEL_51a1a7947a1a4c1089985ca898331dfe",
      "max": 1,
      "min": 0,
      "orientation": "horizontal",
      "style": "IPY_MODEL_6bd4acc49fa44d4da404b08d64473d07",
      "value": 0.08283378746594006
     }
    },
    "626a93119aa44ecc9448fb19e4960c8e": {
     "model_module": "@jupyter-widgets/controls",
     "model_module_version": "1.5.0",
     "model_name": "DescriptionStyleModel",
     "state": {
      "_model_module": "@jupyter-widgets/controls",
      "_model_module_version": "1.5.0",
      "_model_name": "DescriptionStyleModel",
      "_view_count": null,
      "_view_module": "@jupyter-widgets/base",
      "_view_module_version": "1.2.0",
      "_view_name": "StyleView",
      "description_width": ""
     }
    },
    "6bd4acc49fa44d4da404b08d64473d07": {
     "model_module": "@jupyter-widgets/controls",
     "model_module_version": "1.5.0",
     "model_name": "ProgressStyleModel",
     "state": {
      "_model_module": "@jupyter-widgets/controls",
      "_model_module_version": "1.5.0",
      "_model_name": "ProgressStyleModel",
      "_view_count": null,
      "_view_module": "@jupyter-widgets/base",
      "_view_module_version": "1.2.0",
      "_view_name": "StyleView",
      "bar_color": null,
      "description_width": ""
     }
    },
    "9febbf51368648b8ad5fe104d08fbaad": {
     "model_module": "@jupyter-widgets/controls",
     "model_module_version": "1.5.0",
     "model_name": "LabelModel",
     "state": {
      "_dom_classes": [],
      "_model_module": "@jupyter-widgets/controls",
      "_model_module_version": "1.5.0",
      "_model_name": "LabelModel",
      "_view_count": null,
      "_view_module": "@jupyter-widgets/controls",
      "_view_module_version": "1.5.0",
      "_view_name": "LabelView",
      "description": "",
      "description_tooltip": null,
      "layout": "IPY_MODEL_a63f61b78a9340d18eb468d8d620cdf6",
      "placeholder": "​",
      "style": "IPY_MODEL_626a93119aa44ecc9448fb19e4960c8e",
      "value": "0.001 MB of 0.009 MB uploaded (0.000 MB deduped)\r"
     }
    },
    "a484e5022115448f836e9771f6ed5774": {
     "model_module": "@jupyter-widgets/controls",
     "model_module_version": "1.5.0",
     "model_name": "VBoxModel",
     "state": {
      "_dom_classes": [],
      "_model_module": "@jupyter-widgets/controls",
      "_model_module_version": "1.5.0",
      "_model_name": "VBoxModel",
      "_view_count": null,
      "_view_module": "@jupyter-widgets/controls",
      "_view_module_version": "1.5.0",
      "_view_name": "VBoxView",
      "box_style": "",
      "children": [
       "IPY_MODEL_9febbf51368648b8ad5fe104d08fbaad",
       "IPY_MODEL_54e0f6ff77bf4eccb61b4374b9fab4ae"
      ],
      "layout": "IPY_MODEL_fb1b52128c4a423cbe0a06b82379fc37"
     }
    },
    "a63f61b78a9340d18eb468d8d620cdf6": {
     "model_module": "@jupyter-widgets/base",
     "model_module_version": "1.2.0",
     "model_name": "LayoutModel",
     "state": {
      "_model_module": "@jupyter-widgets/base",
      "_model_module_version": "1.2.0",
      "_model_name": "LayoutModel",
      "_view_count": null,
      "_view_module": "@jupyter-widgets/base",
      "_view_module_version": "1.2.0",
      "_view_name": "LayoutView",
      "align_content": null,
      "align_items": null,
      "align_self": null,
      "border": null,
      "bottom": null,
      "display": null,
      "flex": null,
      "flex_flow": null,
      "grid_area": null,
      "grid_auto_columns": null,
      "grid_auto_flow": null,
      "grid_auto_rows": null,
      "grid_column": null,
      "grid_gap": null,
      "grid_row": null,
      "grid_template_areas": null,
      "grid_template_columns": null,
      "grid_template_rows": null,
      "height": null,
      "justify_content": null,
      "justify_items": null,
      "left": null,
      "margin": null,
      "max_height": null,
      "max_width": null,
      "min_height": null,
      "min_width": null,
      "object_fit": null,
      "object_position": null,
      "order": null,
      "overflow": null,
      "overflow_x": null,
      "overflow_y": null,
      "padding": null,
      "right": null,
      "top": null,
      "visibility": null,
      "width": null
     }
    },
    "fb1b52128c4a423cbe0a06b82379fc37": {
     "model_module": "@jupyter-widgets/base",
     "model_module_version": "1.2.0",
     "model_name": "LayoutModel",
     "state": {
      "_model_module": "@jupyter-widgets/base",
      "_model_module_version": "1.2.0",
      "_model_name": "LayoutModel",
      "_view_count": null,
      "_view_module": "@jupyter-widgets/base",
      "_view_module_version": "1.2.0",
      "_view_name": "LayoutView",
      "align_content": null,
      "align_items": null,
      "align_self": null,
      "border": null,
      "bottom": null,
      "display": null,
      "flex": null,
      "flex_flow": null,
      "grid_area": null,
      "grid_auto_columns": null,
      "grid_auto_flow": null,
      "grid_auto_rows": null,
      "grid_column": null,
      "grid_gap": null,
      "grid_row": null,
      "grid_template_areas": null,
      "grid_template_columns": null,
      "grid_template_rows": null,
      "height": null,
      "justify_content": null,
      "justify_items": null,
      "left": null,
      "margin": null,
      "max_height": null,
      "max_width": null,
      "min_height": null,
      "min_width": null,
      "object_fit": null,
      "object_position": null,
      "order": null,
      "overflow": null,
      "overflow_x": null,
      "overflow_y": null,
      "padding": null,
      "right": null,
      "top": null,
      "visibility": null,
      "width": null
     }
    }
   }
  }
 },
 "nbformat": 4,
 "nbformat_minor": 1
}
