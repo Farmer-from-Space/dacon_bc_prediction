{
 "cells": [
  {
   "cell_type": "code",
   "execution_count": 17,
   "id": "3844cc98",
   "metadata": {},
   "outputs": [],
   "source": [
    "import sys\n",
    "import cv2\n",
    "import pandas as pd\n",
    "import numpy as np\n",
    "import matplotlib.pyplot as plt"
   ]
  },
  {
   "cell_type": "code",
   "execution_count": 5,
   "id": "cd3ef4a5",
   "metadata": {},
   "outputs": [],
   "source": [
    "base_path = '/Users/krc/Documents/breast_dacon'\n",
    "\n",
    "train_df = pd.read_csv('/Users/krc/Documents/breast_dacon/open/train.csv')\n",
    "test_df = pd.read_csv('/Users/krc/Documents/breast_dacon/open/test.csv')"
   ]
  },
  {
   "cell_type": "code",
   "execution_count": 14,
   "id": "d359bc03",
   "metadata": {},
   "outputs": [
    {
     "data": {
      "text/plain": [
       "'/Users/krc/Documents/breast_dacon/train_masks/BC_01_0015.png'"
      ]
     },
     "execution_count": 14,
     "metadata": {},
     "output_type": "execute_result"
    }
   ],
   "source": [
    "img_path = base_path + train_df['img_path'].iloc[13][1:]\n",
    "mask_path = base_path + train_df['mask_path'].iloc[13][1:]\n",
    "mask_path"
   ]
  },
  {
   "cell_type": "code",
   "execution_count": null,
   "id": "94ee118f",
   "metadata": {},
   "outputs": [],
   "source": [
    "# for idx, i in enumearte(train_df['mask_path']) : \n",
    "#     if i != train_df['img_path'].iloc[idx]:\n",
    "#         continue\n",
    "#     else:\n",
    "#         mask_path = base + i[1:]\n",
    "#         mask = cv2.imread(mask_path )\n",
    "\n",
    "image = cv2.imread(img_path)\n",
    "image = cv2.cvtColor(image, cv2.COLOR_BGR2RGB)\n",
    "mask = cv2.imread(mask_path)\n",
    "#mask = cv2.cvtColor(mask, cv2.COLOR_GRAYSCALE)\n",
    "\n",
    "\n",
    "plt.imshow(image, alpha =0.7)\n",
    "plt.imshow(mask, alpha =0.5)\n",
    "plt.show()"
   ]
  },
  {
   "cell_type": "code",
   "execution_count": null,
   "id": "3ca69626",
   "metadata": {},
   "outputs": [],
   "source": []
  }
 ],
 "metadata": {
  "kernelspec": {
   "display_name": "Python 3 (ipykernel)",
   "language": "python",
   "name": "python3"
  },
  "language_info": {
   "codemirror_mode": {
    "name": "ipython",
    "version": 3
   },
   "file_extension": ".py",
   "mimetype": "text/x-python",
   "name": "python",
   "nbconvert_exporter": "python",
   "pygments_lexer": "ipython3",
   "version": "3.10.6"
  },
  "toc": {
   "base_numbering": 1,
   "nav_menu": {},
   "number_sections": true,
   "sideBar": true,
   "skip_h1_title": false,
   "title_cell": "Table of Contents",
   "title_sidebar": "Contents",
   "toc_cell": false,
   "toc_position": {},
   "toc_section_display": true,
   "toc_window_display": false
  }
 },
 "nbformat": 4,
 "nbformat_minor": 5
}
